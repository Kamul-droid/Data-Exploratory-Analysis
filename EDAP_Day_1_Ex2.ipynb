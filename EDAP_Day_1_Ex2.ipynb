{
 "cells": [
  {
   "cell_type": "code",
   "execution_count": 15,
   "id": "ca5c15ca-3aa5-48e4-9547-201b6b4558d1",
   "metadata": {},
   "outputs": [],
   "source": [
    "import numpy as np\n",
    "from numpy import linalg as LA"
   ]
  },
  {
   "cell_type": "code",
   "execution_count": 16,
   "id": "94751a5e-56a2-4ba3-867d-09f40a4cdcbb",
   "metadata": {},
   "outputs": [],
   "source": [
    "u = np.array([1,0,-3,2])\n",
    "v = np.array([1,-1,-2,2])"
   ]
  },
  {
   "cell_type": "markdown",
   "id": "51e128b3-c939-4628-9b54-0c9f89e82663",
   "metadata": {},
   "source": [
    "## 1. Scalar product"
   ]
  },
  {
   "cell_type": "markdown",
   "id": "1dcbd4b9-618d-479e-9dc4-bcc55d993805",
   "metadata": {},
   "source": [
    "### Regular"
   ]
  },
  {
   "cell_type": "code",
   "execution_count": 13,
   "id": "d74277ec-951e-4b53-84ba-f4cd818a3573",
   "metadata": {},
   "outputs": [],
   "source": [
    "s = u*v"
   ]
  },
  {
   "cell_type": "code",
   "execution_count": 14,
   "id": "d86c763c-355d-4bb1-a026-e30a405811b1",
   "metadata": {},
   "outputs": [
    {
     "data": {
      "text/plain": [
       "array([1, 0, 6, 4])"
      ]
     },
     "execution_count": 14,
     "metadata": {},
     "output_type": "execute_result"
    }
   ],
   "source": [
    "s"
   ]
  },
  {
   "cell_type": "markdown",
   "id": "4bed2a81-7a33-401c-a797-2741d8f7c300",
   "metadata": {},
   "source": [
    "## Numpy scalar product"
   ]
  },
  {
   "cell_type": "code",
   "execution_count": 10,
   "id": "058abd22-15f8-46bd-95dd-d5db0f7fdb5b",
   "metadata": {},
   "outputs": [],
   "source": [
    "s = np.dot(u,v)"
   ]
  },
  {
   "cell_type": "code",
   "execution_count": 11,
   "id": "95551e06-2fdc-4f61-b6ef-9099103fb17f",
   "metadata": {},
   "outputs": [
    {
     "data": {
      "text/plain": [
       "11"
      ]
     },
     "execution_count": 11,
     "metadata": {},
     "output_type": "execute_result"
    }
   ],
   "source": [
    "s"
   ]
  },
  {
   "cell_type": "markdown",
   "id": "1b3895fb-e3f7-4867-ab68-83897ba479fa",
   "metadata": {},
   "source": [
    "## 2. Norm calculus"
   ]
  },
  {
   "cell_type": "markdown",
   "id": "1ae8d52f-c33b-468f-a6c9-14dc32dcc467",
   "metadata": {},
   "source": [
    "### Manhattan "
   ]
  },
  {
   "cell_type": "code",
   "execution_count": 27,
   "id": "85c35bb7-deea-4635-91c9-69b57f87ffa5",
   "metadata": {},
   "outputs": [],
   "source": [
    "M = LA.norm(u,ord=1)"
   ]
  },
  {
   "cell_type": "code",
   "execution_count": 28,
   "id": "a00279fa-1c10-452c-9ad7-600ad4816e02",
   "metadata": {},
   "outputs": [
    {
     "data": {
      "text/plain": [
       "6.0"
      ]
     },
     "execution_count": 28,
     "metadata": {},
     "output_type": "execute_result"
    }
   ],
   "source": [
    "M"
   ]
  },
  {
   "cell_type": "markdown",
   "id": "fa911f81-3c5c-40db-bdd7-8e911ff0a681",
   "metadata": {},
   "source": [
    "### Euclide "
   ]
  },
  {
   "cell_type": "code",
   "execution_count": 20,
   "id": "f01970cf-a181-4288-b8e8-9ce0973d3ebb",
   "metadata": {},
   "outputs": [],
   "source": [
    "E = LA.norm(u,ord=2)"
   ]
  },
  {
   "cell_type": "code",
   "execution_count": 21,
   "id": "2f9bf809-a062-4140-ab29-46f61a5992bd",
   "metadata": {},
   "outputs": [
    {
     "data": {
      "text/plain": [
       "3.7416573867739413"
      ]
     },
     "execution_count": 21,
     "metadata": {},
     "output_type": "execute_result"
    }
   ],
   "source": [
    "E"
   ]
  },
  {
   "cell_type": "markdown",
   "id": "9d4e0853-cad5-4ffd-8250-189f53d3e859",
   "metadata": {},
   "source": [
    "### Chebyshev "
   ]
  },
  {
   "cell_type": "code",
   "execution_count": 24,
   "id": "bced9cec-47ab-4759-8d39-9d9694ee14ad",
   "metadata": {},
   "outputs": [],
   "source": [
    "C = LA.norm(u,np.inf)"
   ]
  },
  {
   "cell_type": "code",
   "execution_count": 25,
   "id": "08658173-6968-42a9-b049-859ea233cedf",
   "metadata": {},
   "outputs": [
    {
     "data": {
      "text/plain": [
       "3.0"
      ]
     },
     "execution_count": 25,
     "metadata": {},
     "output_type": "execute_result"
    }
   ],
   "source": [
    "C\n"
   ]
  },
  {
   "cell_type": "code",
   "execution_count": null,
   "id": "2b841424-b0b8-400f-a5ac-ce05613656c8",
   "metadata": {},
   "outputs": [],
   "source": []
  }
 ],
 "metadata": {
  "kernelspec": {
   "display_name": "Python 3 (ipykernel)",
   "language": "python",
   "name": "python3"
  },
  "language_info": {
   "codemirror_mode": {
    "name": "ipython",
    "version": 3
   },
   "file_extension": ".py",
   "mimetype": "text/x-python",
   "name": "python",
   "nbconvert_exporter": "python",
   "pygments_lexer": "ipython3",
   "version": "3.11.8"
  }
 },
 "nbformat": 4,
 "nbformat_minor": 5
}
