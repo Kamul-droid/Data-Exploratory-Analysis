{
 "cells": [
  {
   "cell_type": "markdown",
   "id": "9b89ead6-770d-4990-bb79-031ac81fcdb5",
   "metadata": {},
   "source": [
    "# Pandas"
   ]
  },
  {
   "cell_type": "markdown",
   "id": "70f13525-9b8e-43e5-bc8a-5efc1495a674",
   "metadata": {},
   "source": [
    "## 1. Structure de données \"series\""
   ]
  },
  {
   "cell_type": "code",
   "execution_count": 1,
   "id": "5846e5ab-b262-4241-882b-18de0b6baa2f",
   "metadata": {},
   "outputs": [],
   "source": [
    "import pandas as pd"
   ]
  },
  {
   "cell_type": "code",
   "execution_count": 2,
   "id": "f98c6e7e-a956-44a3-8c15-1ac6030e3dc5",
   "metadata": {},
   "outputs": [],
   "source": [
    "# main datatypes\n",
    "# 1-dimensional\n",
    "w = pd.Series([20, 11, 21, 20, 12, 14])"
   ]
  },
  {
   "cell_type": "code",
   "execution_count": 3,
   "id": "e823b861-4be5-4d19-9f1c-28af1560d2c6",
   "metadata": {},
   "outputs": [
    {
     "data": {
      "text/plain": [
       "0    20\n",
       "1    11\n",
       "2    21\n",
       "3    20\n",
       "4    12\n",
       "5    14\n",
       "dtype: int64"
      ]
     },
     "execution_count": 3,
     "metadata": {},
     "output_type": "execute_result"
    }
   ],
   "source": [
    "w"
   ]
  },
  {
   "cell_type": "code",
   "execution_count": 4,
   "id": "c7180d3c-45e1-487f-bfd1-dad029dcea45",
   "metadata": {},
   "outputs": [
    {
     "data": {
      "text/plain": [
       "RangeIndex(start=0, stop=6, step=1)"
      ]
     },
     "execution_count": 4,
     "metadata": {},
     "output_type": "execute_result"
    }
   ],
   "source": [
    "w.index"
   ]
  },
  {
   "cell_type": "code",
   "execution_count": 5,
   "id": "df97d777-141e-452b-98c8-5bdadad32748",
   "metadata": {},
   "outputs": [
    {
     "data": {
      "text/plain": [
       "array([20, 11, 21, 20, 12, 14], dtype=int64)"
      ]
     },
     "execution_count": 5,
     "metadata": {},
     "output_type": "execute_result"
    }
   ],
   "source": [
    "w.values"
   ]
  },
  {
   "cell_type": "code",
   "execution_count": 8,
   "id": "aac3c832-5c55-41d7-983e-d3b109e3cd15",
   "metadata": {},
   "outputs": [],
   "source": [
    "# Rename index\n",
    "w.index=(['Federer', 'Borg', 'Nadal', 'Djokovic', 'Emerson', 'Sampras'])"
   ]
  },
  {
   "cell_type": "code",
   "execution_count": 9,
   "id": "97121bc9-4be1-428a-ac00-7c340821cbf1",
   "metadata": {},
   "outputs": [
    {
     "data": {
      "text/plain": [
       "Federer     20\n",
       "Borg        11\n",
       "Nadal       21\n",
       "Djokovic    20\n",
       "Emerson     12\n",
       "Sampras     14\n",
       "dtype: int64"
      ]
     },
     "execution_count": 9,
     "metadata": {},
     "output_type": "execute_result"
    }
   ],
   "source": [
    "w"
   ]
  },
  {
   "cell_type": "code",
   "execution_count": 10,
   "id": "4caf0121-21bb-400d-9713-f2de81afed5a",
   "metadata": {},
   "outputs": [],
   "source": [
    "# recreate W using index constructor\n",
    "w = pd.Series([20, 11, 21, 20, 12, 14],index=(['Federer', 'Borg', 'Nadal', 'Djokovic', 'Emerson', 'Sampras']))"
   ]
  },
  {
   "cell_type": "code",
   "execution_count": 11,
   "id": "2fd31505-366c-480c-8fa2-e8a50838b17f",
   "metadata": {},
   "outputs": [
    {
     "data": {
      "text/plain": [
       "Federer     20\n",
       "Borg        11\n",
       "Nadal       21\n",
       "Djokovic    20\n",
       "Emerson     12\n",
       "Sampras     14\n",
       "dtype: int64"
      ]
     },
     "execution_count": 11,
     "metadata": {},
     "output_type": "execute_result"
    }
   ],
   "source": [
    "w"
   ]
  },
  {
   "cell_type": "code",
   "execution_count": 13,
   "id": "117e8e65-8d95-4299-8cac-c5e335aecd70",
   "metadata": {},
   "outputs": [],
   "source": [
    "# Recreate with dictionnary\n",
    "w = pd.Series({'Federer':20, 'Borg':11, 'Nadal':21, 'Djokovic':20, 'Emerson':12, 'Sampras': 14})"
   ]
  },
  {
   "cell_type": "code",
   "execution_count": 14,
   "id": "7886bea5-b9fc-4f12-b17b-74d00c32d1fb",
   "metadata": {},
   "outputs": [
    {
     "data": {
      "text/plain": [
       "Federer     20\n",
       "Borg        11\n",
       "Nadal       21\n",
       "Djokovic    20\n",
       "Emerson     12\n",
       "Sampras     14\n",
       "dtype: int64"
      ]
     },
     "execution_count": 14,
     "metadata": {},
     "output_type": "execute_result"
    }
   ],
   "source": [
    "w"
   ]
  },
  {
   "cell_type": "markdown",
   "id": "5e5f50b6-bc0d-4ae7-9fcb-b4c1f3fef79e",
   "metadata": {},
   "source": [
    "### Loc return data with same given index"
   ]
  },
  {
   "cell_type": "code",
   "execution_count": 17,
   "id": "171bb885-6729-45f2-ae75-64e25724a299",
   "metadata": {},
   "outputs": [
    {
     "data": {
      "text/plain": [
       "12"
      ]
     },
     "execution_count": 17,
     "metadata": {},
     "output_type": "execute_result"
    }
   ],
   "source": [
    "w.loc['Emerson']"
   ]
  },
  {
   "cell_type": "markdown",
   "id": "3974c75e-4d80-4a37-9b99-2d17abb9d517",
   "metadata": {},
   "source": [
    "### iLoc return data at position"
   ]
  },
  {
   "cell_type": "code",
   "execution_count": 18,
   "id": "d8039eba-f2c7-469c-901b-aa5c23d849b3",
   "metadata": {},
   "outputs": [
    {
     "data": {
      "text/plain": [
       "12"
      ]
     },
     "execution_count": 18,
     "metadata": {},
     "output_type": "execute_result"
    }
   ],
   "source": [
    "w.iloc[4]"
   ]
  },
  {
   "cell_type": "code",
   "execution_count": 19,
   "id": "89c01d7a-22ce-42a2-8fb6-035e6324dc3a",
   "metadata": {},
   "outputs": [
    {
     "data": {
      "text/plain": [
       "Borg        11\n",
       "Nadal       21\n",
       "Djokovic    20\n",
       "Emerson     12\n",
       "dtype: int64"
      ]
     },
     "execution_count": 19,
     "metadata": {},
     "output_type": "execute_result"
    }
   ],
   "source": [
    "# Slicing\n",
    "w.loc['Borg':'Emerson']"
   ]
  },
  {
   "cell_type": "code",
   "execution_count": 21,
   "id": "4730db68-c240-4aed-ab68-6a680fe8bae6",
   "metadata": {},
   "outputs": [
    {
     "data": {
      "text/plain": [
       "Borg        11\n",
       "Nadal       21\n",
       "Djokovic    20\n",
       "dtype: int64"
      ]
     },
     "execution_count": 21,
     "metadata": {},
     "output_type": "execute_result"
    }
   ],
   "source": [
    "w.iloc[1:4]"
   ]
  },
  {
   "cell_type": "markdown",
   "id": "40ec1532-2559-4a86-962c-c2dfffea49f0",
   "metadata": {},
   "source": [
    "## 2. Structure de données "
   ]
  },
  {
   "cell_type": "code",
   "execution_count": 23,
   "id": "9837cc77-b6ef-459f-87ae-cb4d5e5b057d",
   "metadata": {},
   "outputs": [],
   "source": [
    "# Dataframe\n",
    "best = pd.DataFrame({\"Number\":[20, 11, 21, 20, 12, 14],\"Nationality\":['Swiss', 'Sweden', 'Spain', 'Serbia', 'Australia', 'USA'],\"Born\":[1981,1956,1986,1987,1936,1971]}, index=['Federer', 'Borg', 'Nadal', 'Djokovic', 'Emerson', 'Sampras'])"
   ]
  },
  {
   "cell_type": "code",
   "execution_count": 24,
   "id": "ed45a372-029f-4ec2-915e-2b6f6707a23c",
   "metadata": {},
   "outputs": [
    {
     "data": {
      "text/html": [
       "<div>\n",
       "<style scoped>\n",
       "    .dataframe tbody tr th:only-of-type {\n",
       "        vertical-align: middle;\n",
       "    }\n",
       "\n",
       "    .dataframe tbody tr th {\n",
       "        vertical-align: top;\n",
       "    }\n",
       "\n",
       "    .dataframe thead th {\n",
       "        text-align: right;\n",
       "    }\n",
       "</style>\n",
       "<table border=\"1\" class=\"dataframe\">\n",
       "  <thead>\n",
       "    <tr style=\"text-align: right;\">\n",
       "      <th></th>\n",
       "      <th>Number</th>\n",
       "      <th>Nationality</th>\n",
       "      <th>Born</th>\n",
       "    </tr>\n",
       "  </thead>\n",
       "  <tbody>\n",
       "    <tr>\n",
       "      <th>Federer</th>\n",
       "      <td>20</td>\n",
       "      <td>Swiss</td>\n",
       "      <td>1981</td>\n",
       "    </tr>\n",
       "    <tr>\n",
       "      <th>Borg</th>\n",
       "      <td>11</td>\n",
       "      <td>Sweden</td>\n",
       "      <td>1956</td>\n",
       "    </tr>\n",
       "    <tr>\n",
       "      <th>Nadal</th>\n",
       "      <td>21</td>\n",
       "      <td>Spain</td>\n",
       "      <td>1986</td>\n",
       "    </tr>\n",
       "    <tr>\n",
       "      <th>Djokovic</th>\n",
       "      <td>20</td>\n",
       "      <td>Serbia</td>\n",
       "      <td>1987</td>\n",
       "    </tr>\n",
       "    <tr>\n",
       "      <th>Emerson</th>\n",
       "      <td>12</td>\n",
       "      <td>Australia</td>\n",
       "      <td>1936</td>\n",
       "    </tr>\n",
       "    <tr>\n",
       "      <th>Sampras</th>\n",
       "      <td>14</td>\n",
       "      <td>USA</td>\n",
       "      <td>1971</td>\n",
       "    </tr>\n",
       "  </tbody>\n",
       "</table>\n",
       "</div>"
      ],
      "text/plain": [
       "          Number Nationality  Born\n",
       "Federer       20       Swiss  1981\n",
       "Borg          11      Sweden  1956\n",
       "Nadal         21       Spain  1986\n",
       "Djokovic      20      Serbia  1987\n",
       "Emerson       12   Australia  1936\n",
       "Sampras       14         USA  1971"
      ]
     },
     "execution_count": 24,
     "metadata": {},
     "output_type": "execute_result"
    }
   ],
   "source": [
    "best"
   ]
  },
  {
   "cell_type": "code",
   "execution_count": null,
   "id": "07710d46-4a88-44a5-8f82-9b8df215331c",
   "metadata": {},
   "outputs": [],
   "source": []
  }
 ],
 "metadata": {
  "kernelspec": {
   "display_name": "Python 3 (ipykernel)",
   "language": "python",
   "name": "python3"
  },
  "language_info": {
   "codemirror_mode": {
    "name": "ipython",
    "version": 3
   },
   "file_extension": ".py",
   "mimetype": "text/x-python",
   "name": "python",
   "nbconvert_exporter": "python",
   "pygments_lexer": "ipython3",
   "version": "3.11.8"
  }
 },
 "nbformat": 4,
 "nbformat_minor": 5
}
