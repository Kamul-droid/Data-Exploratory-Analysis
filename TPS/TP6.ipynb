{
 "cells": [
  {
   "cell_type": "code",
   "execution_count": 75,
   "id": "237578d3-d86f-41d5-80ec-c4d0fd8febfb",
   "metadata": {
    "tags": []
   },
   "outputs": [],
   "source": [
    "import pandas as pd\n",
    "import seaborn as sns\n",
    "import matplotlib.pyplot as plt"
   ]
  },
  {
   "cell_type": "markdown",
   "id": "53f5bb62-740d-4d7a-9f7c-a820f66fad53",
   "metadata": {},
   "source": [
    "### 1-Charger ce dataset\n",
    "### 2-Utiliser les méthodes usuelles de pandas pour obtenir les informations de base sur ce dataset (nombre d'observations et de variables, types des variables, valeurs manquantes, etc.)"
   ]
  },
  {
   "cell_type": "code",
   "execution_count": 76,
   "id": "4c0243ca-7cbb-443f-9719-e0d6c7342ac5",
   "metadata": {
    "tags": []
   },
   "outputs": [
    {
     "name": "stdout",
     "output_type": "stream",
     "text": [
      "                                         Poster_Link  \\\n",
      "0  https://m.media-amazon.com/images/M/MV5BMDFkYT...   \n",
      "1  https://m.media-amazon.com/images/M/MV5BM2MyNj...   \n",
      "2  https://m.media-amazon.com/images/M/MV5BMTMxNT...   \n",
      "3  https://m.media-amazon.com/images/M/MV5BMWMwMG...   \n",
      "4  https://m.media-amazon.com/images/M/MV5BMWU4N2...   \n",
      "\n",
      "               Series_Title Released_Year Certificate  Runtime  \\\n",
      "0  The Shawshank Redemption          1994           A  142 min   \n",
      "1             The Godfather          1972           A  175 min   \n",
      "2           The Dark Knight          2008          UA  152 min   \n",
      "3    The Godfather: Part II          1974           A  202 min   \n",
      "4              12 Angry Men          1957           U   96 min   \n",
      "\n",
      "                  Genre  IMDB_Rating  \\\n",
      "0                 Drama          9.3   \n",
      "1          Crime, Drama          9.2   \n",
      "2  Action, Crime, Drama          9.0   \n",
      "3          Crime, Drama          9.0   \n",
      "4          Crime, Drama          9.0   \n",
      "\n",
      "                                            Overview  Meta_score  \\\n",
      "0  Two imprisoned men bond over a number of years...        80.0   \n",
      "1  An organized crime dynasty's aging patriarch t...       100.0   \n",
      "2  When the menace known as the Joker wreaks havo...        84.0   \n",
      "3  The early life and career of Vito Corleone in ...        90.0   \n",
      "4  A jury holdout attempts to prevent a miscarria...        96.0   \n",
      "\n",
      "               Director           Star1           Star2          Star3  \\\n",
      "0        Frank Darabont     Tim Robbins  Morgan Freeman     Bob Gunton   \n",
      "1  Francis Ford Coppola   Marlon Brando       Al Pacino     James Caan   \n",
      "2     Christopher Nolan  Christian Bale    Heath Ledger  Aaron Eckhart   \n",
      "3  Francis Ford Coppola       Al Pacino  Robert De Niro  Robert Duvall   \n",
      "4          Sidney Lumet     Henry Fonda     Lee J. Cobb  Martin Balsam   \n",
      "\n",
      "            Star4  No_of_Votes        Gross  \n",
      "0  William Sadler      2343110   28,341,469  \n",
      "1    Diane Keaton      1620367  134,966,411  \n",
      "2   Michael Caine      2303232  534,858,444  \n",
      "3    Diane Keaton      1129952   57,300,000  \n",
      "4    John Fiedler       689845    4,360,000  \n",
      "Nombre d'observations et de variables (1000, 16)\n",
      "\n",
      "Types des variables\n",
      " Poster_Link       object\n",
      "Series_Title      object\n",
      "Released_Year     object\n",
      "Certificate       object\n",
      "Runtime           object\n",
      "Genre             object\n",
      "IMDB_Rating      float64\n",
      "Overview          object\n",
      "Meta_score       float64\n",
      "Director          object\n",
      "Star1             object\n",
      "Star2             object\n",
      "Star3             object\n",
      "Star4             object\n",
      "No_of_Votes        int64\n",
      "Gross             object\n",
      "dtype: object\n",
      "\n",
      "Valeurs manquantes \n",
      " Poster_Link        0\n",
      "Series_Title       0\n",
      "Released_Year      0\n",
      "Certificate      101\n",
      "Runtime            0\n",
      "Genre              0\n",
      "IMDB_Rating        0\n",
      "Overview           0\n",
      "Meta_score       157\n",
      "Director           0\n",
      "Star1              0\n",
      "Star2              0\n",
      "Star3              0\n",
      "Star4              0\n",
      "No_of_Votes        0\n",
      "Gross            169\n",
      "dtype: int64\n"
     ]
    }
   ],
   "source": [
    "df = pd.read_csv(\"imdb_top_1000.csv\")\n",
    "print(df.head())\n",
    "\n",
    "print(\"Nombre d'observations et de variables\", df.shape)\n",
    "print(\"\\nTypes des variables\\n\", df.dtypes)\n",
    "print(\"\\nValeurs manquantes \\n\", df.isnull().sum())"
   ]
  },
  {
   "cell_type": "markdown",
   "id": "5be090a3-5703-4d6a-b66b-579c46bd4042",
   "metadata": {},
   "source": [
    "### 3-Quels sont les 10 réalisateurs les plus représentés dans ce dataset ? Combien de leurs films sont dans ce dataset ? Les extraire."
   ]
  },
  {
   "cell_type": "code",
   "execution_count": 77,
   "id": "6d7b9e54-9927-4895-b469-08e0d8ff672a",
   "metadata": {
    "tags": []
   },
   "outputs": [
    {
     "name": "stdout",
     "output_type": "stream",
     "text": [
      "Alfred Hitchcock    14\n",
      "Steven Spielberg    13\n",
      "Hayao Miyazaki      11\n",
      "Martin Scorsese     10\n",
      "Akira Kurosawa      10\n",
      "                    ..\n",
      "Neill Blomkamp       1\n",
      "Tomas Alfredson      1\n",
      "Duncan Jones         1\n",
      "Jacques Audiard      1\n",
      "George Stevens       1\n",
      "Name: Director, Length: 548, dtype: int64\n",
      "\n",
      "Les 10 réalisateurs les plus représentés :\n",
      " Alfred Hitchcock     14\n",
      "Steven Spielberg     13\n",
      "Hayao Miyazaki       11\n",
      "Martin Scorsese      10\n",
      "Akira Kurosawa       10\n",
      "Stanley Kubrick       9\n",
      "Billy Wilder          9\n",
      "Woody Allen           9\n",
      "Christopher Nolan     8\n",
      "Quentin Tarantino     8\n",
      "Name: Director, dtype: int64\n",
      "\n",
      "                Director                        Series_Title\n",
      "2    Christopher Nolan                     The Dark Knight\n",
      "6    Quentin Tarantino                        Pulp Fiction\n",
      "7     Steven Spielberg                    Schindler's List\n",
      "8    Christopher Nolan                           Inception\n",
      "15     Martin Scorsese                          Goodfellas\n",
      "..                 ...                                 ...\n",
      "929        Woody Allen                         Match Point\n",
      "951   Steven Spielberg                     Minority Report\n",
      "988   Steven Spielberg  Close Encounters of the Third Kind\n",
      "998   Alfred Hitchcock                            Lifeboat\n",
      "999   Alfred Hitchcock                        The 39 Steps\n",
      "\n",
      "[101 rows x 2 columns]\n"
     ]
    }
   ],
   "source": [
    "# Grouper par le nom du réalisateur et compter le nombre de films pour chaque réalisateur\n",
    "directors = df['Director'].value_counts()\n",
    "print(directors)\n",
    "# Sélectionner les 10 réalisateurs les plus représentés\n",
    "top_directors = directors.head(10)\n",
    "\n",
    "print(\"\\nLes 10 réalisateurs les plus représentés :\\n\", top_directors)\n",
    "\n",
    "# Extraire les films des 10 réalisateurs les plus représentés\n",
    "top_directors_films = df[df['Director'].isin(top_directors.index)]\n",
    "print(\"\\n \",top_directors_films[['Director', 'Series_Title']])\n"
   ]
  },
  {
   "cell_type": "markdown",
   "id": "649dafe0-9e6c-4f78-a78f-e49a82e07fd8",
   "metadata": {},
   "source": [
    "### 4-la variable 'Genre' est-elle interprétable en l'état ? La séparer en plusieurs variables indiquant le premier genre, le deuxième, etc. (utiliser la méthode 'str.split' de pandas). Remplacer les 'None' obtenus par des \"NaN'. Étudier les variables obtenues."
   ]
  },
  {
   "cell_type": "code",
   "execution_count": 78,
   "id": "2aa521cb-4cf6-46d4-8bf9-e496a84407d9",
   "metadata": {
    "tags": []
   },
   "outputs": [
    {
     "name": "stdout",
     "output_type": "stream",
     "text": [
      "la variable 'Genre' :\n",
      " 0                         Drama\n",
      "1                  Crime, Drama\n",
      "2          Action, Crime, Drama\n",
      "3                  Crime, Drama\n",
      "4                  Crime, Drama\n",
      "                 ...           \n",
      "995      Comedy, Drama, Romance\n",
      "996              Drama, Western\n",
      "997         Drama, Romance, War\n",
      "998                  Drama, War\n",
      "999    Crime, Mystery, Thriller\n",
      "Name: Genre, Length: 1000, dtype: object\n"
     ]
    }
   ],
   "source": [
    "print(\"la variable 'Genre' :\\n\", df['Genre'])"
   ]
  },
  {
   "cell_type": "code",
   "execution_count": 79,
   "id": "75895246-f162-427a-9869-c6e81543bbbf",
   "metadata": {
    "tags": []
   },
   "outputs": [
    {
     "name": "stdout",
     "output_type": "stream",
     "text": [
      "          0         1          2\n",
      "0     Drama      None       None\n",
      "1     Crime     Drama       None\n",
      "2    Action     Crime      Drama\n",
      "3     Crime     Drama       None\n",
      "4     Crime     Drama       None\n",
      "..      ...       ...        ...\n",
      "995  Comedy     Drama    Romance\n",
      "996   Drama   Western       None\n",
      "997   Drama   Romance        War\n",
      "998   Drama       War       None\n",
      "999   Crime   Mystery   Thriller\n",
      "\n",
      "[1000 rows x 3 columns]\n",
      "  Genre_1 Genre_2 Genre_3\n",
      "0   Drama    None    None\n",
      "1   Crime   Drama    None\n",
      "2  Action   Crime   Drama\n",
      "3   Crime   Drama    None\n",
      "4   Crime   Drama    None\n"
     ]
    }
   ],
   "source": [
    "# Séparation de la variable 'Genre' en plusieurs variables\n",
    "genre_split = df['Genre'].str.split(',', expand=True)\n",
    "print(genre_split)\n",
    "\n",
    "genre_split.columns = [f\"Genre_{i+1}\" for i in range(genre_split.shape[1])]\n",
    "\n",
    "print(genre_split.head())"
   ]
  },
  {
   "cell_type": "code",
   "execution_count": 80,
   "id": "8430b71e-d4ee-406d-ad5e-0b4249ad9846",
   "metadata": {
    "tags": []
   },
   "outputs": [],
   "source": [
    "# Remplacer les 'None' par des NaN\n",
    "genre_split.replace('None', pd.NA, inplace=True)"
   ]
  },
  {
   "cell_type": "code",
   "execution_count": 81,
   "id": "e6cd0564-784b-48b3-9147-c6e7ccbe36b0",
   "metadata": {
    "tags": []
   },
   "outputs": [
    {
     "name": "stdout",
     "output_type": "stream",
     "text": [
      "       Genre_1 Genre_2 Genre_3\n",
      "count     1000     895     646\n",
      "unique      14      20      19\n",
      "top      Drama   Drama   Drama\n",
      "freq       289     320     115\n"
     ]
    }
   ],
   "source": [
    "#les statistiques descriptives des variables obtenues\n",
    "print(genre_split.describe())"
   ]
  },
  {
   "cell_type": "markdown",
   "id": "41b5382f-0691-4e6c-b89a-dbf3f2e9a968",
   "metadata": {},
   "source": [
    "### 5-Nettoyer la variable 'Runtime'. Créer une variable qualitative dont les modalités seront 'Short', 'Medium', Long', 'VeryLong' correspondant à des durées plus petites que 80, entre 80 et 120, entre 120 et 180 et plus grandes que 180. Étudier la variable obtenue"
   ]
  },
  {
   "cell_type": "code",
   "execution_count": 82,
   "id": "dc09d467-04ad-40bb-90b0-58b071032be4",
   "metadata": {
    "tags": []
   },
   "outputs": [
    {
     "name": "stdout",
     "output_type": "stream",
     "text": [
      "0      142 min\n",
      "1      175 min\n",
      "2      152 min\n",
      "3      202 min\n",
      "4       96 min\n",
      "        ...   \n",
      "995    115 min\n",
      "996    201 min\n",
      "997    118 min\n",
      "998     97 min\n",
      "999     86 min\n",
      "Name: Runtime, Length: 1000, dtype: object\n"
     ]
    }
   ],
   "source": [
    "print(df['Runtime'] )"
   ]
  },
  {
   "cell_type": "code",
   "execution_count": 83,
   "id": "a00f5973-81db-4694-a1ba-497f2457f6dc",
   "metadata": {
    "tags": []
   },
   "outputs": [
    {
     "name": "stdout",
     "output_type": "stream",
     "text": [
      "\n",
      "Premières lignes de 'Runtime' après nettoyage\n",
      " 0    142\n",
      "1    175\n",
      "2    152\n",
      "3    202\n",
      "4     96\n",
      "Name: Runtime, dtype: int64\n"
     ]
    }
   ],
   "source": [
    "# Supprimer \"min\" \n",
    "df['Runtime'] = df['Runtime'].str.replace(' min', '').astype(int)\n",
    "print(\"\\nPremières lignes de 'Runtime' après nettoyage\\n\", df['Runtime'].head())\n"
   ]
  },
  {
   "cell_type": "code",
   "execution_count": 84,
   "id": "c5070937-7528-4e14-8b3a-f3bcded85355",
   "metadata": {
    "tags": []
   },
   "outputs": [
    {
     "name": "stdout",
     "output_type": "stream",
     "text": [
      "\n",
      "La variable 'new_Runtime' :\n",
      "                                          Poster_Link  \\\n",
      "0  https://m.media-amazon.com/images/M/MV5BMDFkYT...   \n",
      "1  https://m.media-amazon.com/images/M/MV5BM2MyNj...   \n",
      "2  https://m.media-amazon.com/images/M/MV5BMTMxNT...   \n",
      "3  https://m.media-amazon.com/images/M/MV5BMWMwMG...   \n",
      "4  https://m.media-amazon.com/images/M/MV5BMWU4N2...   \n",
      "\n",
      "               Series_Title Released_Year Certificate  Runtime  \\\n",
      "0  The Shawshank Redemption          1994           A      142   \n",
      "1             The Godfather          1972           A      175   \n",
      "2           The Dark Knight          2008          UA      152   \n",
      "3    The Godfather: Part II          1974           A      202   \n",
      "4              12 Angry Men          1957           U       96   \n",
      "\n",
      "                  Genre  IMDB_Rating  \\\n",
      "0                 Drama          9.3   \n",
      "1          Crime, Drama          9.2   \n",
      "2  Action, Crime, Drama          9.0   \n",
      "3          Crime, Drama          9.0   \n",
      "4          Crime, Drama          9.0   \n",
      "\n",
      "                                            Overview  Meta_score  \\\n",
      "0  Two imprisoned men bond over a number of years...        80.0   \n",
      "1  An organized crime dynasty's aging patriarch t...       100.0   \n",
      "2  When the menace known as the Joker wreaks havo...        84.0   \n",
      "3  The early life and career of Vito Corleone in ...        90.0   \n",
      "4  A jury holdout attempts to prevent a miscarria...        96.0   \n",
      "\n",
      "               Director           Star1           Star2          Star3  \\\n",
      "0        Frank Darabont     Tim Robbins  Morgan Freeman     Bob Gunton   \n",
      "1  Francis Ford Coppola   Marlon Brando       Al Pacino     James Caan   \n",
      "2     Christopher Nolan  Christian Bale    Heath Ledger  Aaron Eckhart   \n",
      "3  Francis Ford Coppola       Al Pacino  Robert De Niro  Robert Duvall   \n",
      "4          Sidney Lumet     Henry Fonda     Lee J. Cobb  Martin Balsam   \n",
      "\n",
      "            Star4  No_of_Votes        Gross new_Runtime  \n",
      "0  William Sadler      2343110   28,341,469        Long  \n",
      "1    Diane Keaton      1620367  134,966,411        Long  \n",
      "2   Michael Caine      2303232  534,858,444        Long  \n",
      "3    Diane Keaton      1129952   57,300,000    VeryLong  \n",
      "4    John Fiedler       689845    4,360,000      Medium  \n"
     ]
    }
   ],
   "source": [
    "pas = [0, 80, 120, 180, float('inf')]\n",
    "modalites = ['Short', 'Medium', 'Long', 'VeryLong']\n",
    "\n",
    "# la création de la nouvelle variable en découpant la variable 'Runtime'\n",
    "df['new_Runtime'] = pd.cut(df['Runtime'], bins=pas, labels=modalites, right=False)\n",
    "\n",
    "print(\"\\nLa variable 'new_Runtime' :\\n\", df.head())"
   ]
  },
  {
   "cell_type": "markdown",
   "id": "4cd8cf92-ba35-4d2b-9b2a-7167da626a80",
   "metadata": {},
   "source": [
    "### 6-Créer une variable qualitative dont les modalités seront '+', '++', '+++' correspondant à des notes plus petites que 8, entre 8 et 8,5 et plus grandes que 8,5. Étudier la variable obtenue."
   ]
  },
  {
   "cell_type": "code",
   "execution_count": 85,
   "id": "8aafb85f-3110-4727-882c-81fdfc531c8b",
   "metadata": {
    "tags": []
   },
   "outputs": [
    {
     "name": "stdout",
     "output_type": "stream",
     "text": [
      "\n",
      "la variable 'new_Rating' \n",
      "                                            Poster_Link  \\\n",
      "0    https://m.media-amazon.com/images/M/MV5BMDFkYT...   \n",
      "1    https://m.media-amazon.com/images/M/MV5BM2MyNj...   \n",
      "2    https://m.media-amazon.com/images/M/MV5BMTMxNT...   \n",
      "3    https://m.media-amazon.com/images/M/MV5BMWMwMG...   \n",
      "4    https://m.media-amazon.com/images/M/MV5BMWU4N2...   \n",
      "..                                                 ...   \n",
      "995  https://m.media-amazon.com/images/M/MV5BNGEwMT...   \n",
      "996  https://m.media-amazon.com/images/M/MV5BODk3Yj...   \n",
      "997  https://m.media-amazon.com/images/M/MV5BM2U3Yz...   \n",
      "998  https://m.media-amazon.com/images/M/MV5BZTBmMj...   \n",
      "999  https://m.media-amazon.com/images/M/MV5BMTY5OD...   \n",
      "\n",
      "                 Series_Title Released_Year Certificate  Runtime  \\\n",
      "0    The Shawshank Redemption          1994           A      142   \n",
      "1               The Godfather          1972           A      175   \n",
      "2             The Dark Knight          2008          UA      152   \n",
      "3      The Godfather: Part II          1974           A      202   \n",
      "4                12 Angry Men          1957           U       96   \n",
      "..                        ...           ...         ...      ...   \n",
      "995    Breakfast at Tiffany's          1961           A      115   \n",
      "996                     Giant          1956           G      201   \n",
      "997     From Here to Eternity          1953      Passed      118   \n",
      "998                  Lifeboat          1944         NaN       97   \n",
      "999              The 39 Steps          1935         NaN       86   \n",
      "\n",
      "                        Genre  IMDB_Rating  \\\n",
      "0                       Drama          9.3   \n",
      "1                Crime, Drama          9.2   \n",
      "2        Action, Crime, Drama          9.0   \n",
      "3                Crime, Drama          9.0   \n",
      "4                Crime, Drama          9.0   \n",
      "..                        ...          ...   \n",
      "995    Comedy, Drama, Romance          7.6   \n",
      "996            Drama, Western          7.6   \n",
      "997       Drama, Romance, War          7.6   \n",
      "998                Drama, War          7.6   \n",
      "999  Crime, Mystery, Thriller          7.6   \n",
      "\n",
      "                                              Overview  Meta_score  \\\n",
      "0    Two imprisoned men bond over a number of years...        80.0   \n",
      "1    An organized crime dynasty's aging patriarch t...       100.0   \n",
      "2    When the menace known as the Joker wreaks havo...        84.0   \n",
      "3    The early life and career of Vito Corleone in ...        90.0   \n",
      "4    A jury holdout attempts to prevent a miscarria...        96.0   \n",
      "..                                                 ...         ...   \n",
      "995  A young New York socialite becomes interested ...        76.0   \n",
      "996  Sprawling epic covering the life of a Texas ca...        84.0   \n",
      "997  In Hawaii in 1941, a private is cruelly punish...        85.0   \n",
      "998  Several survivors of a torpedoed merchant ship...        78.0   \n",
      "999  A man in London tries to help a counter-espion...        93.0   \n",
      "\n",
      "                 Director              Star1              Star2  \\\n",
      "0          Frank Darabont        Tim Robbins     Morgan Freeman   \n",
      "1    Francis Ford Coppola      Marlon Brando          Al Pacino   \n",
      "2       Christopher Nolan     Christian Bale       Heath Ledger   \n",
      "3    Francis Ford Coppola          Al Pacino     Robert De Niro   \n",
      "4            Sidney Lumet        Henry Fonda        Lee J. Cobb   \n",
      "..                    ...                ...                ...   \n",
      "995         Blake Edwards     Audrey Hepburn     George Peppard   \n",
      "996        George Stevens   Elizabeth Taylor        Rock Hudson   \n",
      "997        Fred Zinnemann     Burt Lancaster   Montgomery Clift   \n",
      "998      Alfred Hitchcock  Tallulah Bankhead        John Hodiak   \n",
      "999      Alfred Hitchcock       Robert Donat  Madeleine Carroll   \n",
      "\n",
      "              Star3           Star4  No_of_Votes        Gross new_Runtime  \\\n",
      "0        Bob Gunton  William Sadler      2343110   28,341,469        Long   \n",
      "1        James Caan    Diane Keaton      1620367  134,966,411        Long   \n",
      "2     Aaron Eckhart   Michael Caine      2303232  534,858,444        Long   \n",
      "3     Robert Duvall    Diane Keaton      1129952   57,300,000    VeryLong   \n",
      "4     Martin Balsam    John Fiedler       689845    4,360,000      Medium   \n",
      "..              ...             ...          ...          ...         ...   \n",
      "995   Patricia Neal     Buddy Ebsen       166544          NaN      Medium   \n",
      "996      James Dean   Carroll Baker        34075          NaN    VeryLong   \n",
      "997    Deborah Kerr      Donna Reed        43374   30,500,000      Medium   \n",
      "998   Walter Slezak  William Bendix        26471          NaN      Medium   \n",
      "999  Lucie Mannheim  Godfrey Tearle        51853          NaN      Medium   \n",
      "\n",
      "    new_Rating  \n",
      "0          +++  \n",
      "1          +++  \n",
      "2          +++  \n",
      "3          +++  \n",
      "4          +++  \n",
      "..         ...  \n",
      "995          +  \n",
      "996          +  \n",
      "997          +  \n",
      "998          +  \n",
      "999          +  \n",
      "\n",
      "[1000 rows x 18 columns]\n"
     ]
    }
   ],
   "source": [
    "# Définir les intervalles et les labels\n",
    "pas = [0, 8, 8.5, float('inf')]\n",
    "modalites = ['+', '++', '+++']\n",
    "\n",
    "# Création de la variable qualitative en découpant la variable 'IMDB_Rating'\n",
    "df['new_Rating'] = pd.cut(df['IMDB_Rating'], bins=pas, labels=modalites, right=False)\n",
    "\n",
    "print(\"\\nla variable 'new_Rating' \\n\", df)"
   ]
  },
  {
   "cell_type": "code",
   "execution_count": 86,
   "id": "27db45f0-7702-48b1-b8d3-47633e32db17",
   "metadata": {
    "tags": []
   },
   "outputs": [
    {
     "name": "stdout",
     "output_type": "stream",
     "text": [
      "la fréquence des modalités de 'new_Rating'\n",
      " +      537\n",
      "++     410\n",
      "+++     53\n",
      "Name: new_Rating, dtype: int64\n",
      "\n",
      "Résumé statistique de 'new_Rating' :\n",
      " count     1000\n",
      "unique       3\n",
      "top          +\n",
      "freq       537\n",
      "Name: new_Rating, dtype: object\n"
     ]
    }
   ],
   "source": [
    "print(\"la fréquence des modalités de 'new_Rating'\\n\", df['new_Rating'].value_counts())\n",
    "\n",
    "# Afficher un résumé statistique de la variable\n",
    "print(\"\\nRésumé statistique de 'new_Rating' :\\n\", df['new_Rating'].describe())"
   ]
  },
  {
   "cell_type": "markdown",
   "id": "46a679d2-87ca-416d-9a07-6db709fc921c",
   "metadata": {},
   "source": [
    "### 7-Étudier conjointement les variables obtenues aux questions 5 et 6 (représentations graphiques, table de contingence et test du Khi-deux)"
   ]
  },
  {
   "cell_type": "code",
   "execution_count": 87,
   "id": "011296b8-98b9-492a-a563-b26a44168419",
   "metadata": {
    "tags": []
   },
   "outputs": [
    {
     "data": {
      "image/png": "[encoded data removed]",
      "text/plain": [
       "<Figure size 432x288 with 1 Axes>"
      ]
     },
     "metadata": {
      "needs_background": "light"
     },
     "output_type": "display_data"
    },
    {
     "data": {
      "image/png": "[encoded data removed]",
      "text/plain": [
       "<Figure size 432x288 with 1 Axes>"
      ]
     },
     "metadata": {
      "needs_background": "light"
     },
     "output_type": "display_data"
    }
   ],
   "source": [
    "#diagramme en barres de la variable new_Runtime\n",
    "plt.figure(figsize=(6, 4))\n",
    "sns.countplot(data=df, x='new_Runtime', order=['Short', 'Medium', 'Long', 'VeryLong'], palette='Set2')\n",
    "plt.title('Répartition des durées de film par catégorie')\n",
    "plt.xlabel('new_Runtime')\n",
    "plt.ylabel('Nombre de films')\n",
    "plt.show()\n",
    "\n",
    "#diagramme en barres de la variable new_Rating\n",
    "plt.figure(figsize=(6, 4))\n",
    "sns.countplot(data=df, x='new_Rating', order=['+', '++', '+++'], palette='Set2')\n",
    "plt.title('Répartition des notes de film par catégorie')\n",
    "plt.xlabel('new_Rating')\n",
    "plt.ylabel('Nombre de films')\n",
    "plt.show()"
   ]
  },
  {
   "cell_type": "code",
   "execution_count": 88,
   "id": "08bd2cce-a60f-4acc-b319-b385bdfe8000",
   "metadata": {
    "tags": []
   },
   "outputs": [
    {
     "data": {
      "image/png": "[encoded data removed]",
      "text/plain": [
       "<Figure size 720x432 with 1 Axes>"
      ]
     },
     "metadata": {
      "needs_background": "light"
     },
     "output_type": "display_data"
    }
   ],
   "source": [
    "# Diagramme à barres groupées horizontales\n",
    "plt.figure(figsize=(10, 6))\n",
    "sns.countplot(data=df, x='new_Rating', hue='new_Runtime', palette='Set2')\n",
    "plt.title('Diagramme à barres groupées horizontales pour new_Runtime et new_Rating')\n",
    "plt.xlabel('Nombre d\\'occurrences')\n",
    "plt.ylabel('ALIGN')\n",
    "plt.legend(title='ALIVE')\n",
    "plt.show()"
   ]
  },
  {
   "cell_type": "code",
   "execution_count": 89,
   "id": "b9374270-8694-4eb4-9e34-5867cb91c209",
   "metadata": {
    "tags": []
   },
   "outputs": [
    {
     "name": "stdout",
     "output_type": "stream",
     "text": [
      "Table de contingence :\n",
      " new_Rating     +   ++  +++\n",
      "new_Runtime               \n",
      "Short         10    7    0\n",
      "Medium       303  171   15\n",
      "Long         212  205   33\n",
      "VeryLong      12   27    5\n"
     ]
    }
   ],
   "source": [
    "#a table de contingence\n",
    "table_contingence = pd.crosstab(df['new_Runtime'], df['new_Rating'])\n",
    "\n",
    "# Afficher la table de contingence\n",
    "print(\"Table de contingence :\\n\", table_contingence)"
   ]
  },
  {
   "cell_type": "markdown",
   "id": "82ecb2b0-4d6e-4514-a4ef-f65615b45ba4",
   "metadata": {},
   "source": [
    "#### L'hypothèse nulle: (H0) Les variables 'new_Runtime' et 'new_Rating'  sont  indépendantes\n",
    "#### L'hypothèse alternative : (H1) Les variables 'new_Runtime' et 'new_Rating' ne sont pas indépendantes"
   ]
  },
  {
   "cell_type": "code",
   "execution_count": 90,
   "id": "2a0ef546-254c-4a8b-98f6-437ba3362466",
   "metadata": {
    "tags": []
   },
   "outputs": [
    {
     "name": "stdout",
     "output_type": "stream",
     "text": [
      "\n",
      "Résultats du test du Khi-deux \n",
      "Valeur de Chi-deux : 38.78939911701906\n",
      "p-value : 7.871119337123911e-07\n",
      "Degrés de liberté : 6\n"
     ]
    }
   ],
   "source": [
    "from scipy.stats import chi2_contingency\n",
    "\n",
    "# Effectuer le test du Khi-deux\n",
    "chi2, p, ddl, expected = chi2_contingency(table_contingence)\n",
    "\n",
    "# Afficher les résultats du test\n",
    "print(\"\\nRésultats du test du Khi-deux \")\n",
    "print(\"Valeur de Chi-deux :\", chi2)\n",
    "print(\"p-value :\", p)\n",
    "print(\"Degrés de liberté :\", ddl)"
   ]
  },
  {
   "cell_type": "code",
   "execution_count": 91,
   "id": "d9d69eea-775a-4e2d-85e5-a145ab86daf3",
   "metadata": {
    "tags": []
   },
   "outputs": [
    {
     "name": "stdout",
     "output_type": "stream",
     "text": [
      "\n",
      "Conclusion :\n",
      "Nous rejetons l'hypothèse nulle (H0) Les variables 'new_Runtime' et 'new_Rating' ne sont pas indépendantes.\n"
     ]
    }
   ],
   "source": [
    "# Conclusion\n",
    "alpha = 0.05\n",
    "print(\"\\nConclusion :\")\n",
    "if p < alpha:\n",
    "    print(\"Nous rejetons l'hypothèse nulle (H0) Les variables 'new_Runtime' et 'new_Rating' ne sont pas indépendantes.\")\n",
    "else:\n",
    "    print(\"Nous ne pouvons pas rejeter l'hypothèse nulle (H0) Les variables 'new_Runtime' et 'new_Rating' sont indépendantes.\")"
   ]
  },
  {
   "cell_type": "code",
   "execution_count": null,
   "id": "c0c5b1cf-7a70-4a96-8e94-888bc361fe52",
   "metadata": {},
   "outputs": [],
   "source": []
  }
 ],
 "metadata": {
  "kernelspec": {
   "display_name": "Python 3 (ipykernel)",
   "language": "python",
   "name": "python3"
  },
  "language_info": {
   "codemirror_mode": {
    "name": "ipython",
    "version": 3
   },
   "file_extension": ".py",
   "mimetype": "text/x-python",
   "name": "python",
   "nbconvert_exporter": "python",
   "pygments_lexer": "ipython3",
   "version": "3.11.8"
  },
  "widgets": {
   "application/vnd.jupyter.widget-state+json": {
    "state": {},
    "version_major": 2,
    "version_minor": 0
   }
  }
 },
 "nbformat": 4,
 "nbformat_minor": 5
}
