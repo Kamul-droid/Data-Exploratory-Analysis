{
 "cells": [
  {
   "cell_type": "code",
   "execution_count": 6,
   "id": "520cdcee-ce6d-48a5-8af3-51d17207a040",
   "metadata": {},
   "outputs": [],
   "source": [
    "def greedy_strategy(T, C, A, B):\n",
    "    n = len(T)\n",
    "    indices = []\n",
    "    total_sum = 0\n",
    "    prev_symbol = None  # Symbole de l'emplacement précédemment visité\n",
    "    sum_indices=[]\n",
    "    sum_lists=[]\n",
    "    for i in range(n):\n",
    "        # Choix de la valeur à ajouter en fonction des règles données\n",
    "        \n",
    "        if prev_symbol is None or C[i] != prev_symbol:\n",
    "            total_sum += B * T[i]\n",
    "        else:\n",
    "            total_sum += A * T[i]\n",
    "\n",
    "        if current_sum <= total_sum:\n",
    "            total_sum = current_sum\n",
    "            indices.append(i)\n",
    "        else:\n",
    "            break\n",
    "\n",
    "       \n",
    "        prev_symbol = C[i]  # Mettre à jour le symbole de l'emplacement précédemment visité\n",
    "\n",
    "    return [indices,total_sum]"
   ]
  },
  {
   "cell_type": "code",
   "execution_count": 7,
   "id": "65985abf-27e3-4348-8b2e-2becc8e20b5d",
   "metadata": {},
   "outputs": [
    {
     "name": "stdout",
     "output_type": "stream",
     "text": [
      "[[0, 1], -16]\n"
     ]
    }
   ],
   "source": [
    "T = [9, 7, 8, 7, 10, 7]\n",
    "C = [2, 1, 1, 4, 4, 2]\n",
    "A = -2\n",
    "B = 5\n",
    "res = greedy_strategy(T, C, A, B)\n",
    "print(res)"
   ]
  },
  {
   "cell_type": "code",
   "execution_count": 18,
   "id": "b270ec7d-e01e-440a-9063-c090ad72370a",
   "metadata": {},
   "outputs": [
    {
     "name": "stdout",
     "output_type": "stream",
     "text": [
      "(0, 2, 4, 5)\n"
     ]
    }
   ],
   "source": [
    "from itertools import combinations\n",
    "\n",
    "def find_max_sum_indices(T, C, A, B, target_sum):\n",
    "    n = len(T)\n",
    "    max_sum = 0\n",
    "    max_indices = []\n",
    "\n",
    "    # Générer toutes les combinaisons d'indices possibles\n",
    "    for r in range(1, n + 1):\n",
    "        for indices in combinations(range(n), r):\n",
    "            total_sum = 0\n",
    "            prev_symbol = None\n",
    "            for i in indices:\n",
    "                # Choix de la valeur à ajouter en fonction des règles données\n",
    "                if prev_symbol is None or C[i] != prev_symbol:\n",
    "                    total_sum += B * T[i]\n",
    "                else:\n",
    "                    total_sum += A * T[i]\n",
    "                prev_symbol = C[i]  # Mettre à jour le symbole de l'emplacement précédemment visité\n",
    "\n",
    "            # Vérifier si la somme dépasse la somme maximale trouvée jusqu'à présent\n",
    "            if total_sum == target_sum:\n",
    "                return indices  # Si la somme est égale à la somme cible, retourner les indices\n",
    "            elif total_sum > max_sum:\n",
    "                max_sum = total_sum\n",
    "                max_indices = indices\n",
    "\n",
    "    return max_sum, max_indices  # Retourner les indices donnant la somme maximale trouvée\n",
    "\n",
    "# Exemple\n",
    "# T = [3, 9, 2, 7, 3, 1]\n",
    "# C = [2, 2, 5, 4, 2, 1]\n",
    "# A = 2\n",
    "# B = -5\n",
    "# target_sum = 9\n",
    "target_sum = 170\n",
    "\n",
    "T = [9, 7, 8, 7, 10, 7]\n",
    "C = [2, 1, 1, 4, 4, 2]\n",
    "A = -2\n",
    "B = 5\n",
    "\n",
    "\n",
    "indices = find_max_sum_indices(T, C, A, B, target_sum)\n",
    "print(indices)  # Output: [0, 1, 4]\n"
   ]
  },
  {
   "cell_type": "markdown",
   "id": "2c05500a-cded-4ccc-8a93-ca301bdefb6d",
   "metadata": {},
   "source": [
    " Nous calculons simplement toutes les sommes possibles pour toutes les combinaisons d'indices et nous mettons à jour la somme maximale et les indices correspondants à chaque itération. À la fin, nous retournons les indices donnant la somme maximale trouvée."
   ]
  },
  {
   "cell_type": "code",
   "execution_count": 29,
   "id": "7616d34d-0ab0-4a4a-b369-5ee17154e19f",
   "metadata": {},
   "outputs": [
    {
     "name": "stdout",
     "output_type": "stream",
     "text": [
      "(9, (0, 1, 4))\n"
     ]
    }
   ],
   "source": [
    "from itertools import combinations\n",
    "\n",
    "def find_max_sum_indices(T, C, A, B):\n",
    "    n = len(T)\n",
    "    max_sum = float(\"-inf\")  # Initialisation à moins l'infini\n",
    "    max_indices = []\n",
    "\n",
    "    # Générer toutes les combinaisons d'indices possibles\n",
    "    for r in range(0, n ):\n",
    "        for indices in combinations(range(n), r):\n",
    "            total_sum = 0\n",
    "            prev_symbol = None\n",
    "            for i in indices:\n",
    "                # Choix de la valeur à ajouter en fonction des règles données\n",
    "                if prev_symbol is None or C[i] != prev_symbol:\n",
    "                    total_sum += B * T[i]\n",
    "                else:\n",
    "                    total_sum += A * T[i]\n",
    "                prev_symbol = C[i]  # Mettre à jour le symbole de l'emplacement précédemment visité\n",
    "\n",
    "            # Mettre à jour la somme maximale et les indices correspondants\n",
    "            if total_sum > max_sum:\n",
    "                max_sum = total_sum\n",
    "                max_indices = indices\n",
    "\n",
    "    return max_sum, max_indices  # Retourner les indices donnant la somme maximale trouvée\n",
    "\n",
    "# Exemple\n",
    "T = [3, 9, 2, 7, 3, 1]\n",
    "C = [2, 2, 5, 4, 2, 1]\n",
    "A = 2\n",
    "B = -5\n",
    "\n",
    "# T = [9, 7, 8, 7, 10, 7]\n",
    "# C = [2, 1, 1, 4, 4, 2]\n",
    "# A = -2\n",
    "# B = 5\n",
    "\n",
    "\n",
    "indices = find_max_sum_indices(T, C, A, B)\n",
    "print(indices) \n"
   ]
  },
  {
   "cell_type": "markdown",
   "id": "ffa5702e-ecc9-424a-a012-94fddfaef482",
   "metadata": {},
   "source": [
    "- Contre exemple"
   ]
  },
  {
   "cell_type": "code",
   "execution_count": 28,
   "id": "84b4d9df-8d02-4f56-afea-9a4c41996b1b",
   "metadata": {},
   "outputs": [
    {
     "name": "stdout",
     "output_type": "stream",
     "text": [
      "(0, ())\n"
     ]
    }
   ],
   "source": [
    "T = [5, 10, 10]\n",
    "C = [1, 1, 1]\n",
    "A = 2\n",
    "B = -5\n",
    "indices = find_max_sum_indices(T, C, A, B)\n",
    "print(indices) "
   ]
  },
  {
   "cell_type": "code",
   "execution_count": null,
   "id": "3af9ee03-7973-4f84-ba0f-105bc2944908",
   "metadata": {},
   "outputs": [],
   "source": []
  }
 ],
 "metadata": {
  "kernelspec": {
   "display_name": "Python 3 (ipykernel)",
   "language": "python",
   "name": "python3"
  },
  "language_info": {
   "codemirror_mode": {
    "name": "ipython",
    "version": 3
   },
   "file_extension": ".py",
   "mimetype": "text/x-python",
   "name": "python",
   "nbconvert_exporter": "python",
   "pygments_lexer": "ipython3",
   "version": "3.11.8"
  },
  "widgets": {
   "application/vnd.jupyter.widget-state+json": {
    "state": {},
    "version_major": 2,
    "version_minor": 0
   }
  }
 },
 "nbformat": 4,
 "nbformat_minor": 5
}
