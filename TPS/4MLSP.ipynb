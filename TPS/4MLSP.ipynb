{
 "cells": [
  {
   "cell_type": "markdown",
   "id": "0aaaa7d0-6a90-4515-a8e6-03a607fba66d",
   "metadata": {},
   "source": [
    "# Importing librairies"
   ]
  },
  {
   "cell_type": "code",
   "execution_count": 1,
   "id": "7e2c9de2-1be3-41fb-a315-d07af0adcbba",
   "metadata": {},
   "outputs": [],
   "source": [
    "\n",
    "import pandas as pd\n",
    "import numpy as np\n",
    "import matplotlib.pyplot as plt\n",
    "import seaborn as sns\n",
    "import warnings\n",
    "warnings.filterwarnings(\"ignore\", \"is_categorical_dtype\")\n",
    "warnings.filterwarnings(\"ignore\", \"use_inf_as_na\")"
   ]
  },
  {
   "cell_type": "code",
   "execution_count": 3,
   "id": "093ed67e-eda9-4257-aaa9-ef9f8f4ce407",
   "metadata": {},
   "outputs": [],
   "source": [
    "df = pd.read_csv(\"./../PROJET/MLS/MP-4MLSP.csv\", index_col=0)"
   ]
  },
  {
   "cell_type": "code",
   "execution_count": 11,
   "id": "1cd5a368-c670-4770-9054-cb6370359d57",
   "metadata": {},
   "outputs": [
    {
     "name": "stdout",
     "output_type": "stream",
     "text": [
      "Series([], Name: count, dtype: int64)\n"
     ]
    }
   ],
   "source": [
    "def transform_neutral_to_dissatisfied(df):\n",
    "    # Replace 'Neutral' with 'Dissatisfied'\n",
    "    df['satisfaction'] = df['satisfaction'].replace('neutral', 'dissatisfied')\n",
    "    return df\n",
    "\n",
    "two_cat_df = transform_neutral_to_dissatisfied(df.copy())\n",
    "# Verification\n",
    "print(binary_df[\"satisfaction\"].value_counts())"
   ]
  },
  {
   "cell_type": "code",
   "execution_count": 12,
   "id": "89d6622f-8876-48a3-b1ac-dfeb6f330edf",
   "metadata": {},
   "outputs": [
    {
     "data": {
      "text/plain": [
       "satisfaction\n",
       "0    73452\n",
       "1    56428\n",
       "Name: count, dtype: int64"
      ]
     },
     "execution_count": 12,
     "metadata": {},
     "output_type": "execute_result"
    }
   ],
   "source": [
    "def categorical_to_binary(df, column_name):\n",
    "    # Define mapping dictionary\n",
    "    mapping = {'satisfied': 1, 'dissatisfied': 0}\n",
    "    \n",
    "    # Map categorical values to binary\n",
    "    df[column_name] = df[column_name].map(mapping)\n",
    "    \n",
    "    return df\n",
    "binary_df = categorical_to_binary(two_cat_df.copy(),\"satisfaction\")\n",
    "binary_df[\"satisfaction\"].value_counts()"
   ]
  },
  {
   "cell_type": "code",
   "execution_count": 37,
   "id": "62a73bd1-77c9-40c7-8929-7226d0b94af9",
   "metadata": {},
   "outputs": [],
   "source": [
    "from sklearn.svm import LinearSVC, SVC\n",
    "from sklearn.naive_bayes import GaussianNB, CategoricalNB\n",
    "from sklearn.linear_model import LogisticRegression\n",
    "from sklearn.tree import DecisionTreeClassifier\n",
    "from sklearn.ensemble import  RandomForestClassifier\n",
    "from sklearn.ensemble import AdaBoostClassifier\n",
    "from sklearn.metrics import (\n",
    "    accuracy_score,\n",
    "    f1_score,\n",
    "    recall_score,\n",
    "   \n",
    "    classification_report,\n",
    ")\n",
    "from sklearn.model_selection import GridSearchCV\n",
    "from sklearn.pipeline import Pipeline\n",
    "from sklearn.preprocessing import StandardScaler, MinMaxScaler, LabelEncoder, OrdinalEncoder, OneHotEncoder\n",
    "from sklearn.impute import SimpleImputer, KNNImputer\n",
    "from sklearn.compose import ColumnTransformer"
   ]
  },
  {
   "cell_type": "code",
   "execution_count": 24,
   "id": "7032c3b5-fad5-4220-8856-6d28050439d9",
   "metadata": {},
   "outputs": [],
   "source": [
    "def getCharacteristic(df):\n",
    "    df_columns = []\n",
    "    for col in df.columns:\n",
    "        if col not in [\"Price\" ,\"satisfaction\",\"id\"]:\n",
    "            df_columns.append(col)\n",
    "    return df_columns\n",
    "df_columns = getCharacteristic(df.copy())\n",
    "def sort_feature_for_each_categorie(df,columns):\n",
    "    num_columns = []\n",
    "    cat_columns = []\n",
    "    for col in columns:\n",
    "        if df[col].dtype in ['int64', 'float64']:\n",
    "            num_columns.append(col)\n",
    "        else:\n",
    "            cat_columns.append(col)\n",
    "    return num_columns,cat_columns\n",
    "num_columns, cat_columns = sort_feature_for_each_categorie(df,df_columns)"
   ]
  },
  {
   "cell_type": "markdown",
   "id": "656940bd-e4c8-4ce3-a7a2-788b7402bec5",
   "metadata": {},
   "source": [
    "## Preprocessor"
   ]
  },
  {
   "cell_type": "code",
   "execution_count": 26,
   "id": "769b9641-a4d7-4100-be10-a083be25c25b",
   "metadata": {},
   "outputs": [],
   "source": [
    "num_pipeline_sip = Pipeline(steps = [\n",
    "    (\"imputer\", SimpleImputer()),\n",
    "    (\"normalization\", MinMaxScaler())\n",
    "])"
   ]
  },
  {
   "cell_type": "code",
   "execution_count": 18,
   "id": "408764f4-257d-4ddd-a824-1f944ee6f43b",
   "metadata": {},
   "outputs": [],
   "source": [
    "num_pipeline_knn = Pipeline(steps = [\n",
    "    (\"imputer\", KNNImputer()),\n",
    "    (\"normalization\", MinMaxScaler())\n",
    "])"
   ]
  },
  {
   "cell_type": "code",
   "execution_count": 27,
   "id": "0b803906-acbc-4c61-affd-eeee9f9e37ea",
   "metadata": {},
   "outputs": [],
   "source": [
    "cat_pipeline_ohe = Pipeline(\n",
    "    [\n",
    "        (\"imputer\", SimpleImputer(strategy=\"most_frequent\")),\n",
    "        (\"encoder\", OneHotEncoder(drop=\"first\"))\n",
    "    ]\n",
    ")"
   ]
  },
  {
   "cell_type": "code",
   "execution_count": 28,
   "id": "bc12fa75-0c02-42d4-a367-c106ce8115b0",
   "metadata": {},
   "outputs": [],
   "source": [
    "preprocessor_knn = ColumnTransformer(transformers=[\n",
    "    (\"numeric\",num_pipeline_knn,num_columns),\n",
    "    (\"categorical\",cat_pipeline_ohe,cat_columns)\n",
    "])"
   ]
  },
  {
   "cell_type": "code",
   "execution_count": null,
   "id": "27c5a758-3246-4b82-8347-89f18e849d04",
   "metadata": {},
   "outputs": [],
   "source": [
    "preprocessor_sip = ColumnTransformer(transformers=[\n",
    "    (\"numeric\",num_pipeline_sip,num_columns),\n",
    "    (\"categorical\",cat_pipeline_ohe,cat_columns)\n",
    "])"
   ]
  },
  {
   "cell_type": "markdown",
   "id": "ee06709e-cf1b-40ab-bc5a-f1ef444e94eb",
   "metadata": {},
   "source": [
    "## Pipeline"
   ]
  },
  {
   "cell_type": "markdown",
   "id": "f264eff7-8945-4e0c-8c41-17be869b8a12",
   "metadata": {
    "jp-MarkdownHeadingCollapsed": true
   },
   "source": [
    "### SVC"
   ]
  },
  {
   "cell_type": "code",
   "execution_count": 32,
   "id": "a2236400-f1d2-4b85-aadc-10ff52d56201",
   "metadata": {},
   "outputs": [],
   "source": [
    "\n",
    "svc_params = {\n",
    "    'SVC__C': [0.1, 1, 10],\n",
    "    'SVC__kernel': ['linear', 'rbf'],\n",
    "    'SVC__gamma': ['scale', 'auto']\n",
    "}\n",
    "pipeline_bin_SVC1 = Pipeline(steps =[\n",
    "    (\"preprocessor\", preprocessor_knn),\n",
    "    (\"SVC\", SVC())\n",
    "])\n",
    "pipeline_bin_SVC2 = Pipeline(steps =[\n",
    "    (\"preprocessor\", preprocessor_sip),\n",
    "    (\"SVC\", SVC())\n",
    "])"
   ]
  },
  {
   "cell_type": "markdown",
   "id": "21786df4-0e86-4e07-9d70-07bccf08108c",
   "metadata": {
    "jp-MarkdownHeadingCollapsed": true
   },
   "source": [
    "### LSVC"
   ]
  },
  {
   "cell_type": "code",
   "execution_count": 35,
   "id": "fbb3d42c-d464-4ebb-b308-4faf27e7848b",
   "metadata": {},
   "outputs": [],
   "source": [
    "linear_vector_support = {\n",
    "    'LSVC__penalty': ['l1', 'l2'],\n",
    "    'LSVC__C': [0.1, 1, 10],\n",
    "}\n",
    "pipeline_bin_LSVC1 = Pipeline(steps =[\n",
    "    (\"preprocessor\", preprocessor_knn),\n",
    "    (\"LSVC\", LinearSVC())\n",
    "])\n",
    "pipeline_bin_LSVC2 = Pipeline(steps =[\n",
    "    (\"preprocessor\", preprocessor_sip),\n",
    "    (\"LSVC\", LinearSVC())\n",
    "])"
   ]
  },
  {
   "cell_type": "markdown",
   "id": "73e3e849-eb40-4423-a027-95717147e041",
   "metadata": {
    "jp-MarkdownHeadingCollapsed": true
   },
   "source": [
    "### LRG"
   ]
  },
  {
   "cell_type": "code",
   "execution_count": 45,
   "id": "938144ae-a038-4b24-a93e-247f6670ce91",
   "metadata": {},
   "outputs": [],
   "source": [
    "logistic_reg_params = {\n",
    "    'LRG__penalty': ['l1', 'l2'],\n",
    "    'LRG__C': [0.1, 1, 10],\n",
    "    'LRG__solver': ['liblinear']\n",
    "}\n",
    "pipeline_bin_LRG1 = Pipeline(steps =[\n",
    "    (\"preprocessor\", preprocessor_knn),\n",
    "    (\"LRG\", LogisticRegression())\n",
    "])\n",
    "pipeline_bin_LRG2 = Pipeline(steps =[\n",
    "    (\"preprocessor\", preprocessor_sip),\n",
    "    (\"LRG\", LogisticRegression())\n",
    "])"
   ]
  },
  {
   "cell_type": "markdown",
   "id": "2e569bee-a7a9-443d-8d52-01b24622aa71",
   "metadata": {
    "jp-MarkdownHeadingCollapsed": true
   },
   "source": [
    "### RF"
   ]
  },
  {
   "cell_type": "code",
   "execution_count": 42,
   "id": "2aa08c93-8330-4034-a944-30607d04a525",
   "metadata": {},
   "outputs": [],
   "source": [
    "\n",
    "\n",
    "random_forest_params = {\n",
    "    'RF__n_estimators': [50, 100, 200],\n",
    "    'RF__max_depth': [None, 10, 20],\n",
    "    'RF__min_samples_split': [2, 5, 10],\n",
    "    'RF__min_samples_leaf': [1, 2, 4]\n",
    "}\n",
    "pipeline_bin_RF1 = Pipeline(steps =[\n",
    "    (\"preprocessor\", preprocessor_knn),\n",
    "    (\"LSVC\", RandomForestClassifier())\n",
    "])\n",
    "pipeline_bin_RF2 = Pipeline(steps =[\n",
    "    (\"preprocessor\", preprocessor_sip),\n",
    "    (\"LSVC\", RandomForestClassifier())\n",
    "])\n",
    "\n"
   ]
  },
  {
   "cell_type": "markdown",
   "id": "493935be-9dc4-4d77-bbd3-57cfb38f0ad2",
   "metadata": {
    "jp-MarkdownHeadingCollapsed": true
   },
   "source": [
    "### DecisionTree"
   ]
  },
  {
   "cell_type": "code",
   "execution_count": 43,
   "id": "5efa8fd0-b4a6-498c-985e-1cd2f67bb92d",
   "metadata": {},
   "outputs": [],
   "source": [
    "\n",
    "\n",
    "\n",
    "decision_tree_params = {\n",
    "    'DT__criterion': ['gini', 'entropy'],\n",
    "    'DT__max_depth': [None, 5, 10, 20],\n",
    "    'DT__min_samples_split': [2, 5, 10],\n",
    "    'DT__min_samples_leaf': [1, 2, 4]\n",
    "}\n",
    "pipeline_bin_DT1 = Pipeline(steps =[\n",
    "    (\"preprocessor\", preprocessor_knn),\n",
    "    (\"DT\", DecisionTreeClassifier())\n",
    "])\n",
    "pipeline_bin_DT2 = Pipeline(steps =[\n",
    "    (\"preprocessor\", preprocessor_sip),\n",
    "    (\"DT\", DecisionTreeClassifier())\n",
    "])\n",
    "\n"
   ]
  },
  {
   "cell_type": "markdown",
   "id": "a9e8401b-47de-4a9f-a368-a4d834a6544d",
   "metadata": {},
   "source": [
    "### ADABOOST"
   ]
  },
  {
   "cell_type": "code",
   "execution_count": 38,
   "id": "c1047b8f-7e7f-4a09-b2a2-a89b1937c609",
   "metadata": {},
   "outputs": [],
   "source": [
    "\n",
    "\n",
    "\n",
    "gradient_boosting_params = {\n",
    "    'ADA__n_estimators': [50, 100, 200],\n",
    "    'ADA__learning_rate': [0.05, 0.1, 0.2],\n",
    "    'ADA__max_depth': [3, 4, 5],\n",
    "    'ADA__min_samples_split': [2, 5, 10]\n",
    "}\n",
    "\n",
    "pipeline_bin_ADA1 = Pipeline(steps =[\n",
    "    (\"preprocessor\", preprocessor_knn),\n",
    "    (\"ADA\", AdaBoostClassifier())\n",
    "])\n",
    "pipeline_bin_ADA2 = Pipeline(steps =[\n",
    "    (\"preprocessor\", preprocessor_sip),\n",
    "    (\"ADA\", AdaBoostClassifier())\n",
    "])\n",
    "\n"
   ]
  },
  {
   "cell_type": "markdown",
   "id": "3b392568-36c8-4c5c-b3a5-bd7ae0617c8f",
   "metadata": {},
   "source": [
    "## Dict of pipeline"
   ]
  },
  {
   "cell_type": "code",
   "execution_count": 46,
   "id": "0b3fdf44-9f0f-49f1-8151-627d6902f501",
   "metadata": {},
   "outputs": [],
   "source": [
    "pipeline_params = {\n",
    "    'SVC1': {\n",
    "        'pipeline': pipeline_bin_SVC1,\n",
    "        'params': svc_params\n",
    "    },\n",
    "    'SVC2': {\n",
    "        'pipeline': pipeline_bin_SVC2,\n",
    "        'params': svc_params\n",
    "    },\n",
    "    'LSVC1': {\n",
    "        'pipeline': pipeline_bin_LSVC1,\n",
    "        'params': linear_vector_support\n",
    "    },\n",
    "    'LSVC2': {\n",
    "        'pipeline': pipeline_bin_LSVC2,\n",
    "        'params': linear_vector_support\n",
    "    },\n",
    "    \n",
    "    'LRG1': {\n",
    "        'pipeline': pipeline_bin_LRG1,\n",
    "        'params': logistic_reg_params\n",
    "    },\n",
    "    'LRG2': {\n",
    "        'pipeline': pipeline_bin_LRG2,\n",
    "        'params': logistic_reg_params\n",
    "    },\n",
    "    'Random Forest': {\n",
    "        'pipeline': pipeline_bin_RF1,\n",
    "        'params': random_forest_params\n",
    "    },\n",
    "    'Random Forest1': {\n",
    "        'pipeline': pipeline_bin_RF2,\n",
    "        'params': random_forest_params\n",
    "    },\n",
    "    'DT1': {\n",
    "        'pipeline': pipeline_bin_DT1,\n",
    "        'params': decision_tree_params\n",
    "    },\n",
    "    'DT2': {\n",
    "        'pipeline': pipeline_bin_DT2,\n",
    "        'params': decision_tree_params\n",
    "    },\n",
    "    'ADA1': {\n",
    "        'pipeline': pipeline_bin_ADA1,\n",
    "        'params': gradient_boosting_params\n",
    "    },\n",
    "    'ADA2': {\n",
    "        'pipeline': pipeline_bin_ADA2,\n",
    "        'params': gradient_boosting_params\n",
    "    }\n",
    "}"
   ]
  },
  {
   "cell_type": "code",
   "execution_count": null,
   "id": "7daf598b-7010-435e-8f08-92a40a5dc7d4",
   "metadata": {},
   "outputs": [],
   "source": []
  }
 ],
 "metadata": {
  "kernelspec": {
   "display_name": "Python 3 (ipykernel)",
   "language": "python",
   "name": "python3"
  },
  "language_info": {
   "codemirror_mode": {
    "name": "ipython",
    "version": 3
   },
   "file_extension": ".py",
   "mimetype": "text/x-python",
   "name": "python",
   "nbconvert_exporter": "python",
   "pygments_lexer": "ipython3",
   "version": "3.11.8"
  },
  "widgets": {
   "application/vnd.jupyter.widget-state+json": {
    "state": {},
    "version_major": 2,
    "version_minor": 0
   }
  }
 },
 "nbformat": 4,
 "nbformat_minor": 5
}
