{
 "cells": [
  {
   "cell_type": "markdown",
   "id": "1ca8ef8a-347c-4aec-9e5c-16abc3532f90",
   "metadata": {},
   "source": [
    "# Audio extraction"
   ]
  },
  {
   "cell_type": "code",
   "execution_count": 1,
   "id": "4b7770bc-0cc6-4eda-876b-c3f806548636",
   "metadata": {
    "scrolled": true
   },
   "outputs": [
    {
     "ename": "FileNotFoundError",
     "evalue": "[WinError 2] Le fichier spécifié est introuvable",
     "output_type": "error",
     "traceback": [
      "\u001b[1;31m---------------------------------------------------------------------------\u001b[0m",
      "\u001b[1;31mFileNotFoundError\u001b[0m                         Traceback (most recent call last)",
      "Cell \u001b[1;32mIn[1], line 9\u001b[0m\n\u001b[0;32m      7\u001b[0m video_url \u001b[38;5;241m=\u001b[39m \u001b[38;5;124m\"\u001b[39m\u001b[38;5;124mhttps://www.youtube.com/watch?v=9QigN6pbTXw\u001b[39m\u001b[38;5;124m\"\u001b[39m\n\u001b[0;32m      8\u001b[0m video_name \u001b[38;5;241m=\u001b[39m \u001b[38;5;124m\"\u001b[39m\u001b[38;5;124mvideo.mp4\u001b[39m\u001b[38;5;124m\"\u001b[39m\n\u001b[1;32m----> 9\u001b[0m subprocess\u001b[38;5;241m.\u001b[39mcall([\u001b[38;5;124m'\u001b[39m\u001b[38;5;124mwget\u001b[39m\u001b[38;5;124m'\u001b[39m, video_url, \u001b[38;5;124m'\u001b[39m\u001b[38;5;124m-O\u001b[39m\u001b[38;5;124m'\u001b[39m, video_name])\n\u001b[0;32m     11\u001b[0m \u001b[38;5;66;03m# Extraction de l'audio\u001b[39;00m\n\u001b[0;32m     12\u001b[0m video \u001b[38;5;241m=\u001b[39m VideoFileClip(video_name)\n",
      "File \u001b[1;32mD:\\supinfo\\M1\\EDAP\\env\\Lib\\subprocess.py:389\u001b[0m, in \u001b[0;36mcall\u001b[1;34m(timeout, *popenargs, **kwargs)\u001b[0m\n\u001b[0;32m    381\u001b[0m \u001b[38;5;28;01mdef\u001b[39;00m \u001b[38;5;21mcall\u001b[39m(\u001b[38;5;241m*\u001b[39mpopenargs, timeout\u001b[38;5;241m=\u001b[39m\u001b[38;5;28;01mNone\u001b[39;00m, \u001b[38;5;241m*\u001b[39m\u001b[38;5;241m*\u001b[39mkwargs):\n\u001b[0;32m    382\u001b[0m \u001b[38;5;250m    \u001b[39m\u001b[38;5;124;03m\"\"\"Run command with arguments.  Wait for command to complete or\u001b[39;00m\n\u001b[0;32m    383\u001b[0m \u001b[38;5;124;03m    timeout, then return the returncode attribute.\u001b[39;00m\n\u001b[0;32m    384\u001b[0m \n\u001b[1;32m   (...)\u001b[0m\n\u001b[0;32m    387\u001b[0m \u001b[38;5;124;03m    retcode = call([\"ls\", \"-l\"])\u001b[39;00m\n\u001b[0;32m    388\u001b[0m \u001b[38;5;124;03m    \"\"\"\u001b[39;00m\n\u001b[1;32m--> 389\u001b[0m     \u001b[38;5;28;01mwith\u001b[39;00m Popen(\u001b[38;5;241m*\u001b[39mpopenargs, \u001b[38;5;241m*\u001b[39m\u001b[38;5;241m*\u001b[39mkwargs) \u001b[38;5;28;01mas\u001b[39;00m p:\n\u001b[0;32m    390\u001b[0m         \u001b[38;5;28;01mtry\u001b[39;00m:\n\u001b[0;32m    391\u001b[0m             \u001b[38;5;28;01mreturn\u001b[39;00m p\u001b[38;5;241m.\u001b[39mwait(timeout\u001b[38;5;241m=\u001b[39mtimeout)\n",
      "File \u001b[1;32mD:\\supinfo\\M1\\EDAP\\env\\Lib\\subprocess.py:1026\u001b[0m, in \u001b[0;36mPopen.__init__\u001b[1;34m(self, args, bufsize, executable, stdin, stdout, stderr, preexec_fn, close_fds, shell, cwd, env, universal_newlines, startupinfo, creationflags, restore_signals, start_new_session, pass_fds, user, group, extra_groups, encoding, errors, text, umask, pipesize, process_group)\u001b[0m\n\u001b[0;32m   1022\u001b[0m         \u001b[38;5;28;01mif\u001b[39;00m \u001b[38;5;28mself\u001b[39m\u001b[38;5;241m.\u001b[39mtext_mode:\n\u001b[0;32m   1023\u001b[0m             \u001b[38;5;28mself\u001b[39m\u001b[38;5;241m.\u001b[39mstderr \u001b[38;5;241m=\u001b[39m io\u001b[38;5;241m.\u001b[39mTextIOWrapper(\u001b[38;5;28mself\u001b[39m\u001b[38;5;241m.\u001b[39mstderr,\n\u001b[0;32m   1024\u001b[0m                     encoding\u001b[38;5;241m=\u001b[39mencoding, errors\u001b[38;5;241m=\u001b[39merrors)\n\u001b[1;32m-> 1026\u001b[0m     \u001b[38;5;28mself\u001b[39m\u001b[38;5;241m.\u001b[39m_execute_child(args, executable, preexec_fn, close_fds,\n\u001b[0;32m   1027\u001b[0m                         pass_fds, cwd, env,\n\u001b[0;32m   1028\u001b[0m                         startupinfo, creationflags, shell,\n\u001b[0;32m   1029\u001b[0m                         p2cread, p2cwrite,\n\u001b[0;32m   1030\u001b[0m                         c2pread, c2pwrite,\n\u001b[0;32m   1031\u001b[0m                         errread, errwrite,\n\u001b[0;32m   1032\u001b[0m                         restore_signals,\n\u001b[0;32m   1033\u001b[0m                         gid, gids, uid, umask,\n\u001b[0;32m   1034\u001b[0m                         start_new_session, process_group)\n\u001b[0;32m   1035\u001b[0m \u001b[38;5;28;01mexcept\u001b[39;00m:\n\u001b[0;32m   1036\u001b[0m     \u001b[38;5;66;03m# Cleanup if the child failed starting.\u001b[39;00m\n\u001b[0;32m   1037\u001b[0m     \u001b[38;5;28;01mfor\u001b[39;00m f \u001b[38;5;129;01min\u001b[39;00m \u001b[38;5;28mfilter\u001b[39m(\u001b[38;5;28;01mNone\u001b[39;00m, (\u001b[38;5;28mself\u001b[39m\u001b[38;5;241m.\u001b[39mstdin, \u001b[38;5;28mself\u001b[39m\u001b[38;5;241m.\u001b[39mstdout, \u001b[38;5;28mself\u001b[39m\u001b[38;5;241m.\u001b[39mstderr)):\n",
      "File \u001b[1;32mD:\\supinfo\\M1\\EDAP\\env\\Lib\\subprocess.py:1538\u001b[0m, in \u001b[0;36mPopen._execute_child\u001b[1;34m(self, args, executable, preexec_fn, close_fds, pass_fds, cwd, env, startupinfo, creationflags, shell, p2cread, p2cwrite, c2pread, c2pwrite, errread, errwrite, unused_restore_signals, unused_gid, unused_gids, unused_uid, unused_umask, unused_start_new_session, unused_process_group)\u001b[0m\n\u001b[0;32m   1536\u001b[0m \u001b[38;5;66;03m# Start the process\u001b[39;00m\n\u001b[0;32m   1537\u001b[0m \u001b[38;5;28;01mtry\u001b[39;00m:\n\u001b[1;32m-> 1538\u001b[0m     hp, ht, pid, tid \u001b[38;5;241m=\u001b[39m _winapi\u001b[38;5;241m.\u001b[39mCreateProcess(executable, args,\n\u001b[0;32m   1539\u001b[0m                              \u001b[38;5;66;03m# no special security\u001b[39;00m\n\u001b[0;32m   1540\u001b[0m                              \u001b[38;5;28;01mNone\u001b[39;00m, \u001b[38;5;28;01mNone\u001b[39;00m,\n\u001b[0;32m   1541\u001b[0m                              \u001b[38;5;28mint\u001b[39m(\u001b[38;5;129;01mnot\u001b[39;00m close_fds),\n\u001b[0;32m   1542\u001b[0m                              creationflags,\n\u001b[0;32m   1543\u001b[0m                              env,\n\u001b[0;32m   1544\u001b[0m                              cwd,\n\u001b[0;32m   1545\u001b[0m                              startupinfo)\n\u001b[0;32m   1546\u001b[0m \u001b[38;5;28;01mfinally\u001b[39;00m:\n\u001b[0;32m   1547\u001b[0m     \u001b[38;5;66;03m# Child is launched. Close the parent's copy of those pipe\u001b[39;00m\n\u001b[0;32m   1548\u001b[0m     \u001b[38;5;66;03m# handles that only the child should have open.  You need\u001b[39;00m\n\u001b[1;32m   (...)\u001b[0m\n\u001b[0;32m   1551\u001b[0m     \u001b[38;5;66;03m# pipe will not close when the child process exits and the\u001b[39;00m\n\u001b[0;32m   1552\u001b[0m     \u001b[38;5;66;03m# ReadFile will hang.\u001b[39;00m\n\u001b[0;32m   1553\u001b[0m     \u001b[38;5;28mself\u001b[39m\u001b[38;5;241m.\u001b[39m_close_pipe_fds(p2cread, p2cwrite,\n\u001b[0;32m   1554\u001b[0m                          c2pread, c2pwrite,\n\u001b[0;32m   1555\u001b[0m                          errread, errwrite)\n",
      "\u001b[1;31mFileNotFoundError\u001b[0m: [WinError 2] Le fichier spécifié est introuvable"
     ]
    }
   ],
   "source": [
    "from moviepy.editor import *\n",
    "from pydub import AudioSegment\n",
    "import subprocess\n",
    "import os\n",
    "\n",
    "# Téléchargement de la vidéo\n",
    "video_url = \"https://www.youtube.com/watch?v=9QigN6pbTXw\"\n",
    "video_name = \"video.mp4\"\n",
    "subprocess.call(['wget', video_url, '-O', video_name])\n",
    "\n",
    "# Extraction de l'audio\n",
    "video = VideoFileClip(video_name)\n",
    "audio = video.audio\n",
    "audio.write_audiofile(\"audio.wav\")\n",
    "\n",
    "# Transcription de l'audio en texte en utilisant une API de transcription automatique\n",
    "# (Remplacez les valeurs ci-dessous par vos propres clés et paramètres)\n",
    "os.environ[\"GOOGLE_APPLICATION_CREDENTIALS\"] = \"chemin/vers/votre/fichier.json\"  # Pour Google Speech-to-Text\n",
    "# os.environ[\"IBM_USERNAME\"] = \"votre_nom_utilisateur\"  # Pour IBM Watson Speech to Text\n",
    "# os.environ[\"IBM_PASSWORD\"] = \"votre_mot_de_passe\"  # Pour IBM Watson Speech to Text\n",
    "\n",
    "# Code pour transcrire l'audio en texte avec Google Speech-to-Text\n",
    "from google.cloud import speech_v1p1beta1 as speech\n",
    "client = speech.SpeechClient()\n",
    "audio_file = \"audio.wav\"\n",
    "with open(audio_file, \"rb\") as audio_file:\n",
    "    content = audio_file.read()\n",
    "audio = speech.RecognitionAudio(content=content)\n",
    "config = speech.RecognitionConfig(\n",
    "    encoding=speech.RecognitionConfig.AudioEncoding.LINEAR16,\n",
    "    sample_rate_hertz=44100,\n",
    "    language_code=\"en-EN\",\n",
    ")\n",
    "response = client.recognize(config=config, audio=audio)\n",
    "for result in response.results:\n",
    "    print(\"Transcription: {}\".format(result.alternatives[0].transcript))\n"
   ]
  },
  {
   "cell_type": "code",
   "execution_count": 2,
   "id": "8b670212-8f5b-4d6f-ab81-93b5f48f0dd9",
   "metadata": {},
   "outputs": [
    {
     "name": "stdout",
     "output_type": "stream",
     "text": [
      "[youtube] 9QigN6pbTXw: Downloading webpage\n"
     ]
    },
    {
     "name": "stderr",
     "output_type": "stream",
     "text": [
      "ERROR: Unable to extract uploader id; please report this issue on https://yt-dl.org/bug . Make sure you are using the latest version; see  https://yt-dl.org/update  on how to update. Be sure to call youtube-dl with the --verbose flag and include its complete output.\n"
     ]
    },
    {
     "ename": "DownloadError",
     "evalue": "ERROR: Unable to extract uploader id; please report this issue on https://yt-dl.org/bug . Make sure you are using the latest version; see  https://yt-dl.org/update  on how to update. Be sure to call youtube-dl with the --verbose flag and include its complete output.",
     "output_type": "error",
     "traceback": [
      "\u001b[1;31m---------------------------------------------------------------------------\u001b[0m",
      "\u001b[1;31mRegexNotFoundError\u001b[0m                        Traceback (most recent call last)",
      "File \u001b[1;32mD:\\supinfo\\M1\\EDAP\\env\\Lib\\site-packages\\youtube_dl\\YoutubeDL.py:815\u001b[0m, in \u001b[0;36mYoutubeDL.__handle_extraction_exceptions.<locals>.wrapper\u001b[1;34m(self, *args, **kwargs)\u001b[0m\n\u001b[0;32m    814\u001b[0m \u001b[38;5;28;01mtry\u001b[39;00m:\n\u001b[1;32m--> 815\u001b[0m     \u001b[38;5;28;01mreturn\u001b[39;00m func(\u001b[38;5;28mself\u001b[39m, \u001b[38;5;241m*\u001b[39margs, \u001b[38;5;241m*\u001b[39m\u001b[38;5;241m*\u001b[39mkwargs)\n\u001b[0;32m    816\u001b[0m \u001b[38;5;28;01mexcept\u001b[39;00m GeoRestrictedError \u001b[38;5;28;01mas\u001b[39;00m e:\n",
      "File \u001b[1;32mD:\\supinfo\\M1\\EDAP\\env\\Lib\\site-packages\\youtube_dl\\YoutubeDL.py:836\u001b[0m, in \u001b[0;36mYoutubeDL.__extract_info\u001b[1;34m(self, url, ie, download, extra_info, process)\u001b[0m\n\u001b[0;32m    834\u001b[0m \u001b[38;5;129m@__handle_extraction_exceptions\u001b[39m\n\u001b[0;32m    835\u001b[0m \u001b[38;5;28;01mdef\u001b[39;00m \u001b[38;5;21m__extract_info\u001b[39m(\u001b[38;5;28mself\u001b[39m, url, ie, download, extra_info, process):\n\u001b[1;32m--> 836\u001b[0m     ie_result \u001b[38;5;241m=\u001b[39m ie\u001b[38;5;241m.\u001b[39mextract(url)\n\u001b[0;32m    837\u001b[0m     \u001b[38;5;28;01mif\u001b[39;00m ie_result \u001b[38;5;129;01mis\u001b[39;00m \u001b[38;5;28;01mNone\u001b[39;00m:  \u001b[38;5;66;03m# Finished already (backwards compatibility; listformats and friends should be moved here)\u001b[39;00m\n",
      "File \u001b[1;32mD:\\supinfo\\M1\\EDAP\\env\\Lib\\site-packages\\youtube_dl\\extractor\\common.py:534\u001b[0m, in \u001b[0;36mInfoExtractor.extract\u001b[1;34m(self, url)\u001b[0m\n\u001b[0;32m    533\u001b[0m \u001b[38;5;28mself\u001b[39m\u001b[38;5;241m.\u001b[39minitialize()\n\u001b[1;32m--> 534\u001b[0m ie_result \u001b[38;5;241m=\u001b[39m \u001b[38;5;28mself\u001b[39m\u001b[38;5;241m.\u001b[39m_real_extract(url)\n\u001b[0;32m    535\u001b[0m \u001b[38;5;28;01mif\u001b[39;00m \u001b[38;5;28mself\u001b[39m\u001b[38;5;241m.\u001b[39m_x_forwarded_for_ip:\n",
      "File \u001b[1;32mD:\\supinfo\\M1\\EDAP\\env\\Lib\\site-packages\\youtube_dl\\extractor\\youtube.py:1794\u001b[0m, in \u001b[0;36mYoutubeIE._real_extract\u001b[1;34m(self, url)\u001b[0m\n\u001b[0;32m   1782\u001b[0m owner_profile_url \u001b[38;5;241m=\u001b[39m microformat\u001b[38;5;241m.\u001b[39mget(\u001b[38;5;124m'\u001b[39m\u001b[38;5;124mownerProfileUrl\u001b[39m\u001b[38;5;124m'\u001b[39m)\n\u001b[0;32m   1784\u001b[0m info \u001b[38;5;241m=\u001b[39m {\n\u001b[0;32m   1785\u001b[0m     \u001b[38;5;124m'\u001b[39m\u001b[38;5;124mid\u001b[39m\u001b[38;5;124m'\u001b[39m: video_id,\n\u001b[0;32m   1786\u001b[0m     \u001b[38;5;124m'\u001b[39m\u001b[38;5;124mtitle\u001b[39m\u001b[38;5;124m'\u001b[39m: \u001b[38;5;28mself\u001b[39m\u001b[38;5;241m.\u001b[39m_live_title(video_title) \u001b[38;5;28;01mif\u001b[39;00m is_live \u001b[38;5;28;01melse\u001b[39;00m video_title,\n\u001b[0;32m   1787\u001b[0m     \u001b[38;5;124m'\u001b[39m\u001b[38;5;124mformats\u001b[39m\u001b[38;5;124m'\u001b[39m: formats,\n\u001b[0;32m   1788\u001b[0m     \u001b[38;5;124m'\u001b[39m\u001b[38;5;124mthumbnails\u001b[39m\u001b[38;5;124m'\u001b[39m: thumbnails,\n\u001b[0;32m   1789\u001b[0m     \u001b[38;5;124m'\u001b[39m\u001b[38;5;124mdescription\u001b[39m\u001b[38;5;124m'\u001b[39m: video_description,\n\u001b[0;32m   1790\u001b[0m     \u001b[38;5;124m'\u001b[39m\u001b[38;5;124mupload_date\u001b[39m\u001b[38;5;124m'\u001b[39m: unified_strdate(\n\u001b[0;32m   1791\u001b[0m         microformat\u001b[38;5;241m.\u001b[39mget(\u001b[38;5;124m'\u001b[39m\u001b[38;5;124muploadDate\u001b[39m\u001b[38;5;124m'\u001b[39m)\n\u001b[0;32m   1792\u001b[0m         \u001b[38;5;129;01mor\u001b[39;00m search_meta(\u001b[38;5;124m'\u001b[39m\u001b[38;5;124muploadDate\u001b[39m\u001b[38;5;124m'\u001b[39m)),\n\u001b[0;32m   1793\u001b[0m     \u001b[38;5;124m'\u001b[39m\u001b[38;5;124muploader\u001b[39m\u001b[38;5;124m'\u001b[39m: video_details[\u001b[38;5;124m'\u001b[39m\u001b[38;5;124mauthor\u001b[39m\u001b[38;5;124m'\u001b[39m],\n\u001b[1;32m-> 1794\u001b[0m     \u001b[38;5;124m'\u001b[39m\u001b[38;5;124muploader_id\u001b[39m\u001b[38;5;124m'\u001b[39m: \u001b[38;5;28mself\u001b[39m\u001b[38;5;241m.\u001b[39m_search_regex(\u001b[38;5;124mr\u001b[39m\u001b[38;5;124m'\u001b[39m\u001b[38;5;124m/(?:channel|user)/([^/?&#]+)\u001b[39m\u001b[38;5;124m'\u001b[39m, owner_profile_url, \u001b[38;5;124m'\u001b[39m\u001b[38;5;124muploader id\u001b[39m\u001b[38;5;124m'\u001b[39m) \u001b[38;5;28;01mif\u001b[39;00m owner_profile_url \u001b[38;5;28;01melse\u001b[39;00m \u001b[38;5;28;01mNone\u001b[39;00m,\n\u001b[0;32m   1795\u001b[0m     \u001b[38;5;124m'\u001b[39m\u001b[38;5;124muploader_url\u001b[39m\u001b[38;5;124m'\u001b[39m: owner_profile_url,\n\u001b[0;32m   1796\u001b[0m     \u001b[38;5;124m'\u001b[39m\u001b[38;5;124mchannel_id\u001b[39m\u001b[38;5;124m'\u001b[39m: channel_id,\n\u001b[0;32m   1797\u001b[0m     \u001b[38;5;124m'\u001b[39m\u001b[38;5;124mchannel_url\u001b[39m\u001b[38;5;124m'\u001b[39m: \u001b[38;5;124m'\u001b[39m\u001b[38;5;124mhttps://www.youtube.com/channel/\u001b[39m\u001b[38;5;124m'\u001b[39m \u001b[38;5;241m+\u001b[39m channel_id \u001b[38;5;28;01mif\u001b[39;00m channel_id \u001b[38;5;28;01melse\u001b[39;00m \u001b[38;5;28;01mNone\u001b[39;00m,\n\u001b[0;32m   1798\u001b[0m     \u001b[38;5;124m'\u001b[39m\u001b[38;5;124mduration\u001b[39m\u001b[38;5;124m'\u001b[39m: duration,\n\u001b[0;32m   1799\u001b[0m     \u001b[38;5;124m'\u001b[39m\u001b[38;5;124mview_count\u001b[39m\u001b[38;5;124m'\u001b[39m: int_or_none(\n\u001b[0;32m   1800\u001b[0m         video_details\u001b[38;5;241m.\u001b[39mget(\u001b[38;5;124m'\u001b[39m\u001b[38;5;124mviewCount\u001b[39m\u001b[38;5;124m'\u001b[39m)\n\u001b[0;32m   1801\u001b[0m         \u001b[38;5;129;01mor\u001b[39;00m microformat\u001b[38;5;241m.\u001b[39mget(\u001b[38;5;124m'\u001b[39m\u001b[38;5;124mviewCount\u001b[39m\u001b[38;5;124m'\u001b[39m)\n\u001b[0;32m   1802\u001b[0m         \u001b[38;5;129;01mor\u001b[39;00m search_meta(\u001b[38;5;124m'\u001b[39m\u001b[38;5;124minteractionCount\u001b[39m\u001b[38;5;124m'\u001b[39m)),\n\u001b[0;32m   1803\u001b[0m     \u001b[38;5;124m'\u001b[39m\u001b[38;5;124maverage_rating\u001b[39m\u001b[38;5;124m'\u001b[39m: float_or_none(video_details\u001b[38;5;241m.\u001b[39mget(\u001b[38;5;124m'\u001b[39m\u001b[38;5;124maverageRating\u001b[39m\u001b[38;5;124m'\u001b[39m)),\n\u001b[0;32m   1804\u001b[0m     \u001b[38;5;124m'\u001b[39m\u001b[38;5;124mage_limit\u001b[39m\u001b[38;5;124m'\u001b[39m: \u001b[38;5;241m18\u001b[39m \u001b[38;5;28;01mif\u001b[39;00m (\n\u001b[0;32m   1805\u001b[0m         microformat\u001b[38;5;241m.\u001b[39mget(\u001b[38;5;124m'\u001b[39m\u001b[38;5;124misFamilySafe\u001b[39m\u001b[38;5;124m'\u001b[39m) \u001b[38;5;129;01mis\u001b[39;00m \u001b[38;5;28;01mFalse\u001b[39;00m\n\u001b[0;32m   1806\u001b[0m         \u001b[38;5;129;01mor\u001b[39;00m search_meta(\u001b[38;5;124m'\u001b[39m\u001b[38;5;124misFamilyFriendly\u001b[39m\u001b[38;5;124m'\u001b[39m) \u001b[38;5;241m==\u001b[39m \u001b[38;5;124m'\u001b[39m\u001b[38;5;124mfalse\u001b[39m\u001b[38;5;124m'\u001b[39m\n\u001b[0;32m   1807\u001b[0m         \u001b[38;5;129;01mor\u001b[39;00m search_meta(\u001b[38;5;124m'\u001b[39m\u001b[38;5;124mog:restrictions:age\u001b[39m\u001b[38;5;124m'\u001b[39m) \u001b[38;5;241m==\u001b[39m \u001b[38;5;124m'\u001b[39m\u001b[38;5;124m18+\u001b[39m\u001b[38;5;124m'\u001b[39m) \u001b[38;5;28;01melse\u001b[39;00m \u001b[38;5;241m0\u001b[39m,\n\u001b[0;32m   1808\u001b[0m     \u001b[38;5;124m'\u001b[39m\u001b[38;5;124mwebpage_url\u001b[39m\u001b[38;5;124m'\u001b[39m: webpage_url,\n\u001b[0;32m   1809\u001b[0m     \u001b[38;5;124m'\u001b[39m\u001b[38;5;124mcategories\u001b[39m\u001b[38;5;124m'\u001b[39m: [category] \u001b[38;5;28;01mif\u001b[39;00m category \u001b[38;5;28;01melse\u001b[39;00m \u001b[38;5;28;01mNone\u001b[39;00m,\n\u001b[0;32m   1810\u001b[0m     \u001b[38;5;124m'\u001b[39m\u001b[38;5;124mtags\u001b[39m\u001b[38;5;124m'\u001b[39m: keywords,\n\u001b[0;32m   1811\u001b[0m     \u001b[38;5;124m'\u001b[39m\u001b[38;5;124mis_live\u001b[39m\u001b[38;5;124m'\u001b[39m: is_live,\n\u001b[0;32m   1812\u001b[0m }\n\u001b[0;32m   1814\u001b[0m pctr \u001b[38;5;241m=\u001b[39m try_get(\n\u001b[0;32m   1815\u001b[0m     player_response,\n\u001b[0;32m   1816\u001b[0m     \u001b[38;5;28;01mlambda\u001b[39;00m x: x[\u001b[38;5;124m'\u001b[39m\u001b[38;5;124mcaptions\u001b[39m\u001b[38;5;124m'\u001b[39m][\u001b[38;5;124m'\u001b[39m\u001b[38;5;124mplayerCaptionsTracklistRenderer\u001b[39m\u001b[38;5;124m'\u001b[39m], \u001b[38;5;28mdict\u001b[39m)\n",
      "File \u001b[1;32mD:\\supinfo\\M1\\EDAP\\env\\Lib\\site-packages\\youtube_dl\\extractor\\common.py:1012\u001b[0m, in \u001b[0;36mInfoExtractor._search_regex\u001b[1;34m(self, pattern, string, name, default, fatal, flags, group)\u001b[0m\n\u001b[0;32m   1011\u001b[0m \u001b[38;5;28;01melif\u001b[39;00m fatal:\n\u001b[1;32m-> 1012\u001b[0m     \u001b[38;5;28;01mraise\u001b[39;00m RegexNotFoundError(\u001b[38;5;124m'\u001b[39m\u001b[38;5;124mUnable to extract \u001b[39m\u001b[38;5;132;01m%s\u001b[39;00m\u001b[38;5;124m'\u001b[39m \u001b[38;5;241m%\u001b[39m _name)\n\u001b[0;32m   1013\u001b[0m \u001b[38;5;28;01melse\u001b[39;00m:\n",
      "\u001b[1;31mRegexNotFoundError\u001b[0m: Unable to extract uploader id; please report this issue on https://yt-dl.org/bug . Make sure you are using the latest version; see  https://yt-dl.org/update  on how to update. Be sure to call youtube-dl with the --verbose flag and include its complete output.",
      "\nDuring handling of the above exception, another exception occurred:\n",
      "\u001b[1;31mDownloadError\u001b[0m                             Traceback (most recent call last)",
      "Cell \u001b[1;32mIn[2], line 34\u001b[0m\n\u001b[0;32m     31\u001b[0m youtube_url \u001b[38;5;241m=\u001b[39m \u001b[38;5;124m\"\u001b[39m\u001b[38;5;124mhttps://www.youtube.com/watch?v=9QigN6pbTXw\u001b[39m\u001b[38;5;124m\"\u001b[39m\n\u001b[0;32m     33\u001b[0m \u001b[38;5;66;03m# Téléchargement de la vidéo\u001b[39;00m\n\u001b[1;32m---> 34\u001b[0m download_video(youtube_url)\n\u001b[0;32m     36\u001b[0m \u001b[38;5;66;03m# Transcription de l'audio en texte\u001b[39;00m\n\u001b[0;32m     37\u001b[0m audio_file \u001b[38;5;241m=\u001b[39m \u001b[38;5;124m\"\u001b[39m\u001b[38;5;124maudio.wav\u001b[39m\u001b[38;5;124m\"\u001b[39m  \u001b[38;5;66;03m# Assurez-vous de mettre le nom du fichier téléchargé par youtube_dl\u001b[39;00m\n",
      "Cell \u001b[1;32mIn[2], line 15\u001b[0m, in \u001b[0;36mdownload_video\u001b[1;34m(youtube_url)\u001b[0m\n\u001b[0;32m      6\u001b[0m ydl_opts \u001b[38;5;241m=\u001b[39m {\n\u001b[0;32m      7\u001b[0m     \u001b[38;5;124m'\u001b[39m\u001b[38;5;124mformat\u001b[39m\u001b[38;5;124m'\u001b[39m: \u001b[38;5;124m'\u001b[39m\u001b[38;5;124mbestaudio/best\u001b[39m\u001b[38;5;124m'\u001b[39m,\n\u001b[0;32m      8\u001b[0m     \u001b[38;5;124m'\u001b[39m\u001b[38;5;124mpostprocessors\u001b[39m\u001b[38;5;124m'\u001b[39m: [{\n\u001b[1;32m   (...)\u001b[0m\n\u001b[0;32m     12\u001b[0m     }],\n\u001b[0;32m     13\u001b[0m }\n\u001b[0;32m     14\u001b[0m \u001b[38;5;28;01mwith\u001b[39;00m youtube_dl\u001b[38;5;241m.\u001b[39mYoutubeDL(ydl_opts) \u001b[38;5;28;01mas\u001b[39;00m ydl:\n\u001b[1;32m---> 15\u001b[0m     ydl\u001b[38;5;241m.\u001b[39mdownload([youtube_url])\n",
      "File \u001b[1;32mD:\\supinfo\\M1\\EDAP\\env\\Lib\\site-packages\\youtube_dl\\YoutubeDL.py:2068\u001b[0m, in \u001b[0;36mYoutubeDL.download\u001b[1;34m(self, url_list)\u001b[0m\n\u001b[0;32m   2065\u001b[0m \u001b[38;5;28;01mfor\u001b[39;00m url \u001b[38;5;129;01min\u001b[39;00m url_list:\n\u001b[0;32m   2066\u001b[0m     \u001b[38;5;28;01mtry\u001b[39;00m:\n\u001b[0;32m   2067\u001b[0m         \u001b[38;5;66;03m# It also downloads the videos\u001b[39;00m\n\u001b[1;32m-> 2068\u001b[0m         res \u001b[38;5;241m=\u001b[39m \u001b[38;5;28mself\u001b[39m\u001b[38;5;241m.\u001b[39mextract_info(\n\u001b[0;32m   2069\u001b[0m             url, force_generic_extractor\u001b[38;5;241m=\u001b[39m\u001b[38;5;28mself\u001b[39m\u001b[38;5;241m.\u001b[39mparams\u001b[38;5;241m.\u001b[39mget(\u001b[38;5;124m'\u001b[39m\u001b[38;5;124mforce_generic_extractor\u001b[39m\u001b[38;5;124m'\u001b[39m, \u001b[38;5;28;01mFalse\u001b[39;00m))\n\u001b[0;32m   2070\u001b[0m     \u001b[38;5;28;01mexcept\u001b[39;00m UnavailableVideoError:\n\u001b[0;32m   2071\u001b[0m         \u001b[38;5;28mself\u001b[39m\u001b[38;5;241m.\u001b[39mreport_error(\u001b[38;5;124m'\u001b[39m\u001b[38;5;124munable to download video\u001b[39m\u001b[38;5;124m'\u001b[39m)\n",
      "File \u001b[1;32mD:\\supinfo\\M1\\EDAP\\env\\Lib\\site-packages\\youtube_dl\\YoutubeDL.py:808\u001b[0m, in \u001b[0;36mYoutubeDL.extract_info\u001b[1;34m(self, url, download, ie_key, extra_info, process, force_generic_extractor)\u001b[0m\n\u001b[0;32m    804\u001b[0m     \u001b[38;5;28;01mif\u001b[39;00m \u001b[38;5;129;01mnot\u001b[39;00m ie\u001b[38;5;241m.\u001b[39mworking():\n\u001b[0;32m    805\u001b[0m         \u001b[38;5;28mself\u001b[39m\u001b[38;5;241m.\u001b[39mreport_warning(\u001b[38;5;124m'\u001b[39m\u001b[38;5;124mThe program functionality for this site has been marked as broken, \u001b[39m\u001b[38;5;124m'\u001b[39m\n\u001b[0;32m    806\u001b[0m                             \u001b[38;5;124m'\u001b[39m\u001b[38;5;124mand will probably not work.\u001b[39m\u001b[38;5;124m'\u001b[39m)\n\u001b[1;32m--> 808\u001b[0m     \u001b[38;5;28;01mreturn\u001b[39;00m \u001b[38;5;28mself\u001b[39m\u001b[38;5;241m.\u001b[39m__extract_info(url, ie, download, extra_info, process)\n\u001b[0;32m    809\u001b[0m \u001b[38;5;28;01melse\u001b[39;00m:\n\u001b[0;32m    810\u001b[0m     \u001b[38;5;28mself\u001b[39m\u001b[38;5;241m.\u001b[39mreport_error(\u001b[38;5;124m'\u001b[39m\u001b[38;5;124mno suitable InfoExtractor for URL \u001b[39m\u001b[38;5;132;01m%s\u001b[39;00m\u001b[38;5;124m'\u001b[39m \u001b[38;5;241m%\u001b[39m url)\n",
      "File \u001b[1;32mD:\\supinfo\\M1\\EDAP\\env\\Lib\\site-packages\\youtube_dl\\YoutubeDL.py:824\u001b[0m, in \u001b[0;36mYoutubeDL.__handle_extraction_exceptions.<locals>.wrapper\u001b[1;34m(self, *args, **kwargs)\u001b[0m\n\u001b[0;32m    822\u001b[0m     \u001b[38;5;28mself\u001b[39m\u001b[38;5;241m.\u001b[39mreport_error(msg)\n\u001b[0;32m    823\u001b[0m \u001b[38;5;28;01mexcept\u001b[39;00m ExtractorError \u001b[38;5;28;01mas\u001b[39;00m e:  \u001b[38;5;66;03m# An error we somewhat expected\u001b[39;00m\n\u001b[1;32m--> 824\u001b[0m     \u001b[38;5;28mself\u001b[39m\u001b[38;5;241m.\u001b[39mreport_error(compat_str(e), e\u001b[38;5;241m.\u001b[39mformat_traceback())\n\u001b[0;32m    825\u001b[0m \u001b[38;5;28;01mexcept\u001b[39;00m MaxDownloadsReached:\n\u001b[0;32m    826\u001b[0m     \u001b[38;5;28;01mraise\u001b[39;00m\n",
      "File \u001b[1;32mD:\\supinfo\\M1\\EDAP\\env\\Lib\\site-packages\\youtube_dl\\YoutubeDL.py:628\u001b[0m, in \u001b[0;36mYoutubeDL.report_error\u001b[1;34m(self, message, tb)\u001b[0m\n\u001b[0;32m    626\u001b[0m     _msg_header \u001b[38;5;241m=\u001b[39m \u001b[38;5;124m'\u001b[39m\u001b[38;5;124mERROR:\u001b[39m\u001b[38;5;124m'\u001b[39m\n\u001b[0;32m    627\u001b[0m error_message \u001b[38;5;241m=\u001b[39m \u001b[38;5;124m'\u001b[39m\u001b[38;5;132;01m%s\u001b[39;00m\u001b[38;5;124m \u001b[39m\u001b[38;5;132;01m%s\u001b[39;00m\u001b[38;5;124m'\u001b[39m \u001b[38;5;241m%\u001b[39m (_msg_header, message)\n\u001b[1;32m--> 628\u001b[0m \u001b[38;5;28mself\u001b[39m\u001b[38;5;241m.\u001b[39mtrouble(error_message, tb)\n",
      "File \u001b[1;32mD:\\supinfo\\M1\\EDAP\\env\\Lib\\site-packages\\youtube_dl\\YoutubeDL.py:598\u001b[0m, in \u001b[0;36mYoutubeDL.trouble\u001b[1;34m(self, message, tb)\u001b[0m\n\u001b[0;32m    596\u001b[0m     \u001b[38;5;28;01melse\u001b[39;00m:\n\u001b[0;32m    597\u001b[0m         exc_info \u001b[38;5;241m=\u001b[39m sys\u001b[38;5;241m.\u001b[39mexc_info()\n\u001b[1;32m--> 598\u001b[0m     \u001b[38;5;28;01mraise\u001b[39;00m DownloadError(message, exc_info)\n\u001b[0;32m    599\u001b[0m \u001b[38;5;28mself\u001b[39m\u001b[38;5;241m.\u001b[39m_download_retcode \u001b[38;5;241m=\u001b[39m \u001b[38;5;241m1\u001b[39m\n",
      "\u001b[1;31mDownloadError\u001b[0m: ERROR: Unable to extract uploader id; please report this issue on https://yt-dl.org/bug . Make sure you are using the latest version; see  https://yt-dl.org/update  on how to update. Be sure to call youtube-dl with the --verbose flag and include its complete output."
     ]
    }
   ],
   "source": [
    "# import youtube_dl\n",
    "# import speech_recognition as sr\n",
    "\n",
    "# # Fonction pour télécharger la vidéo depuis YouTube\n",
    "# def download_video(youtube_url):\n",
    "#     ydl_opts = {\n",
    "#         'format': 'bestaudio/best',\n",
    "#         'postprocessors': [{\n",
    "#             'key': 'FFmpegExtractAudio',\n",
    "#             'preferredcodec': 'wav',\n",
    "#             'preferredquality': '192',\n",
    "#         }],\n",
    "#     }\n",
    "#     with youtube_dl.YoutubeDL(ydl_opts) as ydl:\n",
    "#         ydl.download([youtube_url])\n",
    "\n",
    "# # Fonction pour transcrire l'audio en texte\n",
    "# def transcribe_audio(audio_file):\n",
    "#     recognizer = sr.Recognizer()\n",
    "#     with sr.AudioFile(audio_file) as source:\n",
    "#         audio = recognizer.record(source)\n",
    "#     try:\n",
    "#         transcript = recognizer.recognize_google(audio, language=\"fr-FR\")\n",
    "#         return transcript\n",
    "#     except sr.UnknownValueError:\n",
    "#         return \"Impossible de transcrire l'audio\"\n",
    "#     except sr.RequestError:\n",
    "#         return \"Erreur lors de la requête vers l'API de reconnaissance vocale\"\n",
    "\n",
    "# # URL de la vidéo YouTube\n",
    "# youtube_url = \"https://www.youtube.com/watch?v=9QigN6pbTXw\"\n",
    "\n",
    "# # Téléchargement de la vidéo\n",
    "# download_video(youtube_url)\n",
    "\n",
    "# # Transcription de l'audio en texte\n",
    "# audio_file = \"audio.wav\"  # Assurez-vous de mettre le nom du fichier téléchargé par youtube_dl\n",
    "# transcription = transcribe_audio(audio_file)\n",
    "# print(\"Transcription de la vidéo YouTube:\")\n",
    "# print(transcription)\n"
   ]
  },
  {
   "cell_type": "code",
   "execution_count": 5,
   "id": "5b349c07-00c6-47ec-902f-2f60a0f1af05",
   "metadata": {},
   "outputs": [],
   "source": [
    "# #Work only with wav file\n",
    "# import speech_recognition as sr\n",
    "# # Initialize recognizer class                                       \n",
    "# r = sr.Recognizer()\n",
    "# # audio object                                                         \n",
    "# audio = sr.AudioFile(\"../../Piste 30 2.mp3\")\n",
    "# #read audio object and transcribe\n",
    "# with audio as source:\n",
    "#     audio = r.record(source)                  \n",
    "#     result = r.recognize_google(audio)\n",
    "    \n",
    "# print(result)"
   ]
  },
  {
   "cell_type": "code",
   "execution_count": 1,
   "id": "ff44c0f5-e912-4770-bf08-67c238e739e5",
   "metadata": {},
   "outputs": [
    {
     "name": "stderr",
     "output_type": "stream",
     "text": [
      "D:\\supinfo\\M1\\EDAP\\env\\Lib\\site-packages\\pydub\\utils.py:170: RuntimeWarning: Couldn't find ffmpeg or avconv - defaulting to ffmpeg, but may not work\n",
      "  warn(\"Couldn't find ffmpeg or avconv - defaulting to ffmpeg, but may not work\", RuntimeWarning)\n",
      "D:\\supinfo\\M1\\EDAP\\env\\Lib\\site-packages\\pydub\\utils.py:198: RuntimeWarning: Couldn't find ffprobe or avprobe - defaulting to ffprobe, but may not work\n",
      "  warn(\"Couldn't find ffprobe or avprobe - defaulting to ffprobe, but may not work\", RuntimeWarning)\n"
     ]
    },
    {
     "ename": "FileNotFoundError",
     "evalue": "[WinError 2] Le fichier spécifié est introuvable",
     "output_type": "error",
     "traceback": [
      "\u001b[1;31m---------------------------------------------------------------------------\u001b[0m",
      "\u001b[1;31mFileNotFoundError\u001b[0m                         Traceback (most recent call last)",
      "Cell \u001b[1;32mIn[1], line 32\u001b[0m\n\u001b[0;32m     29\u001b[0m     \u001b[38;5;28;01mreturn\u001b[39;00m \u001b[38;5;124m'\u001b[39m\u001b[38;5;124m \u001b[39m\u001b[38;5;124m'\u001b[39m\u001b[38;5;241m.\u001b[39mjoin([string_index[i] \u001b[38;5;28;01mfor\u001b[39;00m i \u001b[38;5;129;01min\u001b[39;00m \u001b[38;5;28mrange\u001b[39m(\u001b[38;5;28mlen\u001b[39m(string_index))])\n\u001b[0;32m     31\u001b[0m audio_file_name \u001b[38;5;241m=\u001b[39m \u001b[38;5;124m'\u001b[39m\u001b[38;5;124m../../Piste_30_2.mp3\u001b[39m\u001b[38;5;124m'\u001b[39m\n\u001b[1;32m---> 32\u001b[0m text \u001b[38;5;241m=\u001b[39m process(audio_file_name)\n\u001b[0;32m     33\u001b[0m \u001b[38;5;28mprint\u001b[39m(text)\n",
      "Cell \u001b[1;32mIn[1], line 6\u001b[0m, in \u001b[0;36mprocess\u001b[1;34m(filepath, chunksize)\u001b[0m\n\u001b[0;32m      4\u001b[0m \u001b[38;5;28;01mdef\u001b[39;00m \u001b[38;5;21mprocess\u001b[39m(filepath, chunksize\u001b[38;5;241m=\u001b[39m\u001b[38;5;241m60000\u001b[39m):\n\u001b[0;32m      5\u001b[0m     \u001b[38;5;66;03m#0: load mp3\u001b[39;00m\n\u001b[1;32m----> 6\u001b[0m     sound \u001b[38;5;241m=\u001b[39m AudioSegment\u001b[38;5;241m.\u001b[39mfrom_mp3(filepath)\n\u001b[0;32m      8\u001b[0m     \u001b[38;5;66;03m#1: split file into 60s chunks\u001b[39;00m\n\u001b[0;32m      9\u001b[0m     \u001b[38;5;28;01mdef\u001b[39;00m \u001b[38;5;21mdivide_chunks\u001b[39m(sound, chunksize):\n\u001b[0;32m     10\u001b[0m         \u001b[38;5;66;03m# looping till length l\u001b[39;00m\n",
      "File \u001b[1;32mD:\\supinfo\\M1\\EDAP\\env\\Lib\\site-packages\\pydub\\audio_segment.py:796\u001b[0m, in \u001b[0;36mAudioSegment.from_mp3\u001b[1;34m(cls, file, parameters)\u001b[0m\n\u001b[0;32m    794\u001b[0m \u001b[38;5;129m@classmethod\u001b[39m\n\u001b[0;32m    795\u001b[0m \u001b[38;5;28;01mdef\u001b[39;00m \u001b[38;5;21mfrom_mp3\u001b[39m(\u001b[38;5;28mcls\u001b[39m, file, parameters\u001b[38;5;241m=\u001b[39m\u001b[38;5;28;01mNone\u001b[39;00m):\n\u001b[1;32m--> 796\u001b[0m     \u001b[38;5;28;01mreturn\u001b[39;00m \u001b[38;5;28mcls\u001b[39m\u001b[38;5;241m.\u001b[39mfrom_file(file, \u001b[38;5;124m'\u001b[39m\u001b[38;5;124mmp3\u001b[39m\u001b[38;5;124m'\u001b[39m, parameters\u001b[38;5;241m=\u001b[39mparameters)\n",
      "File \u001b[1;32mD:\\supinfo\\M1\\EDAP\\env\\Lib\\site-packages\\pydub\\audio_segment.py:728\u001b[0m, in \u001b[0;36mAudioSegment.from_file\u001b[1;34m(cls, file, format, codec, parameters, start_second, duration, **kwargs)\u001b[0m\n\u001b[0;32m    726\u001b[0m     info \u001b[38;5;241m=\u001b[39m \u001b[38;5;28;01mNone\u001b[39;00m\n\u001b[0;32m    727\u001b[0m \u001b[38;5;28;01melse\u001b[39;00m:\n\u001b[1;32m--> 728\u001b[0m     info \u001b[38;5;241m=\u001b[39m mediainfo_json(orig_file, read_ahead_limit\u001b[38;5;241m=\u001b[39mread_ahead_limit)\n\u001b[0;32m    729\u001b[0m \u001b[38;5;28;01mif\u001b[39;00m info:\n\u001b[0;32m    730\u001b[0m     audio_streams \u001b[38;5;241m=\u001b[39m [x \u001b[38;5;28;01mfor\u001b[39;00m x \u001b[38;5;129;01min\u001b[39;00m info[\u001b[38;5;124m'\u001b[39m\u001b[38;5;124mstreams\u001b[39m\u001b[38;5;124m'\u001b[39m]\n\u001b[0;32m    731\u001b[0m                      \u001b[38;5;28;01mif\u001b[39;00m x[\u001b[38;5;124m'\u001b[39m\u001b[38;5;124mcodec_type\u001b[39m\u001b[38;5;124m'\u001b[39m] \u001b[38;5;241m==\u001b[39m \u001b[38;5;124m'\u001b[39m\u001b[38;5;124maudio\u001b[39m\u001b[38;5;124m'\u001b[39m]\n",
      "File \u001b[1;32mD:\\supinfo\\M1\\EDAP\\env\\Lib\\site-packages\\pydub\\utils.py:274\u001b[0m, in \u001b[0;36mmediainfo_json\u001b[1;34m(filepath, read_ahead_limit)\u001b[0m\n\u001b[0;32m    271\u001b[0m         file\u001b[38;5;241m.\u001b[39mclose()\n\u001b[0;32m    273\u001b[0m command \u001b[38;5;241m=\u001b[39m [prober, \u001b[38;5;124m'\u001b[39m\u001b[38;5;124m-of\u001b[39m\u001b[38;5;124m'\u001b[39m, \u001b[38;5;124m'\u001b[39m\u001b[38;5;124mjson\u001b[39m\u001b[38;5;124m'\u001b[39m] \u001b[38;5;241m+\u001b[39m command_args\n\u001b[1;32m--> 274\u001b[0m res \u001b[38;5;241m=\u001b[39m Popen(command, stdin\u001b[38;5;241m=\u001b[39mstdin_parameter, stdout\u001b[38;5;241m=\u001b[39mPIPE, stderr\u001b[38;5;241m=\u001b[39mPIPE)\n\u001b[0;32m    275\u001b[0m output, stderr \u001b[38;5;241m=\u001b[39m res\u001b[38;5;241m.\u001b[39mcommunicate(\u001b[38;5;28minput\u001b[39m\u001b[38;5;241m=\u001b[39mstdin_data)\n\u001b[0;32m    276\u001b[0m output \u001b[38;5;241m=\u001b[39m output\u001b[38;5;241m.\u001b[39mdecode(\u001b[38;5;124m\"\u001b[39m\u001b[38;5;124mutf-8\u001b[39m\u001b[38;5;124m\"\u001b[39m, \u001b[38;5;124m'\u001b[39m\u001b[38;5;124mignore\u001b[39m\u001b[38;5;124m'\u001b[39m)\n",
      "File \u001b[1;32mD:\\supinfo\\M1\\EDAP\\env\\Lib\\subprocess.py:1026\u001b[0m, in \u001b[0;36mPopen.__init__\u001b[1;34m(self, args, bufsize, executable, stdin, stdout, stderr, preexec_fn, close_fds, shell, cwd, env, universal_newlines, startupinfo, creationflags, restore_signals, start_new_session, pass_fds, user, group, extra_groups, encoding, errors, text, umask, pipesize, process_group)\u001b[0m\n\u001b[0;32m   1022\u001b[0m         \u001b[38;5;28;01mif\u001b[39;00m \u001b[38;5;28mself\u001b[39m\u001b[38;5;241m.\u001b[39mtext_mode:\n\u001b[0;32m   1023\u001b[0m             \u001b[38;5;28mself\u001b[39m\u001b[38;5;241m.\u001b[39mstderr \u001b[38;5;241m=\u001b[39m io\u001b[38;5;241m.\u001b[39mTextIOWrapper(\u001b[38;5;28mself\u001b[39m\u001b[38;5;241m.\u001b[39mstderr,\n\u001b[0;32m   1024\u001b[0m                     encoding\u001b[38;5;241m=\u001b[39mencoding, errors\u001b[38;5;241m=\u001b[39merrors)\n\u001b[1;32m-> 1026\u001b[0m     \u001b[38;5;28mself\u001b[39m\u001b[38;5;241m.\u001b[39m_execute_child(args, executable, preexec_fn, close_fds,\n\u001b[0;32m   1027\u001b[0m                         pass_fds, cwd, env,\n\u001b[0;32m   1028\u001b[0m                         startupinfo, creationflags, shell,\n\u001b[0;32m   1029\u001b[0m                         p2cread, p2cwrite,\n\u001b[0;32m   1030\u001b[0m                         c2pread, c2pwrite,\n\u001b[0;32m   1031\u001b[0m                         errread, errwrite,\n\u001b[0;32m   1032\u001b[0m                         restore_signals,\n\u001b[0;32m   1033\u001b[0m                         gid, gids, uid, umask,\n\u001b[0;32m   1034\u001b[0m                         start_new_session, process_group)\n\u001b[0;32m   1035\u001b[0m \u001b[38;5;28;01mexcept\u001b[39;00m:\n\u001b[0;32m   1036\u001b[0m     \u001b[38;5;66;03m# Cleanup if the child failed starting.\u001b[39;00m\n\u001b[0;32m   1037\u001b[0m     \u001b[38;5;28;01mfor\u001b[39;00m f \u001b[38;5;129;01min\u001b[39;00m \u001b[38;5;28mfilter\u001b[39m(\u001b[38;5;28;01mNone\u001b[39;00m, (\u001b[38;5;28mself\u001b[39m\u001b[38;5;241m.\u001b[39mstdin, \u001b[38;5;28mself\u001b[39m\u001b[38;5;241m.\u001b[39mstdout, \u001b[38;5;28mself\u001b[39m\u001b[38;5;241m.\u001b[39mstderr)):\n",
      "File \u001b[1;32mD:\\supinfo\\M1\\EDAP\\env\\Lib\\subprocess.py:1538\u001b[0m, in \u001b[0;36mPopen._execute_child\u001b[1;34m(self, args, executable, preexec_fn, close_fds, pass_fds, cwd, env, startupinfo, creationflags, shell, p2cread, p2cwrite, c2pread, c2pwrite, errread, errwrite, unused_restore_signals, unused_gid, unused_gids, unused_uid, unused_umask, unused_start_new_session, unused_process_group)\u001b[0m\n\u001b[0;32m   1536\u001b[0m \u001b[38;5;66;03m# Start the process\u001b[39;00m\n\u001b[0;32m   1537\u001b[0m \u001b[38;5;28;01mtry\u001b[39;00m:\n\u001b[1;32m-> 1538\u001b[0m     hp, ht, pid, tid \u001b[38;5;241m=\u001b[39m _winapi\u001b[38;5;241m.\u001b[39mCreateProcess(executable, args,\n\u001b[0;32m   1539\u001b[0m                              \u001b[38;5;66;03m# no special security\u001b[39;00m\n\u001b[0;32m   1540\u001b[0m                              \u001b[38;5;28;01mNone\u001b[39;00m, \u001b[38;5;28;01mNone\u001b[39;00m,\n\u001b[0;32m   1541\u001b[0m                              \u001b[38;5;28mint\u001b[39m(\u001b[38;5;129;01mnot\u001b[39;00m close_fds),\n\u001b[0;32m   1542\u001b[0m                              creationflags,\n\u001b[0;32m   1543\u001b[0m                              env,\n\u001b[0;32m   1544\u001b[0m                              cwd,\n\u001b[0;32m   1545\u001b[0m                              startupinfo)\n\u001b[0;32m   1546\u001b[0m \u001b[38;5;28;01mfinally\u001b[39;00m:\n\u001b[0;32m   1547\u001b[0m     \u001b[38;5;66;03m# Child is launched. Close the parent's copy of those pipe\u001b[39;00m\n\u001b[0;32m   1548\u001b[0m     \u001b[38;5;66;03m# handles that only the child should have open.  You need\u001b[39;00m\n\u001b[1;32m   (...)\u001b[0m\n\u001b[0;32m   1551\u001b[0m     \u001b[38;5;66;03m# pipe will not close when the child process exits and the\u001b[39;00m\n\u001b[0;32m   1552\u001b[0m     \u001b[38;5;66;03m# ReadFile will hang.\u001b[39;00m\n\u001b[0;32m   1553\u001b[0m     \u001b[38;5;28mself\u001b[39m\u001b[38;5;241m.\u001b[39m_close_pipe_fds(p2cread, p2cwrite,\n\u001b[0;32m   1554\u001b[0m                          c2pread, c2pwrite,\n\u001b[0;32m   1555\u001b[0m                          errread, errwrite)\n",
      "\u001b[1;31mFileNotFoundError\u001b[0m: [WinError 2] Le fichier spécifié est introuvable"
     ]
    }
   ],
   "source": [
    "from pydub import AudioSegment # uses FFMPEG\n",
    "import speech_recognition as sr\n",
    "\n",
    "def process(filepath, chunksize=60000):\n",
    "    #0: load mp3\n",
    "    sound = AudioSegment.from_mp3(filepath)\n",
    "\n",
    "    #1: split file into 60s chunks\n",
    "    def divide_chunks(sound, chunksize):\n",
    "        # looping till length l\n",
    "        for i in range(0, len(sound), chunksize):\n",
    "            yield sound[i:i + chunksize]\n",
    "    chunks = list(divide_chunks(sound, chunksize))\n",
    "    print(f\"{len(chunks)} chunks of {chunksize/1000}s each\")\n",
    "\n",
    "    r = sr.Recognizer()\n",
    "    #2: per chunk, save to wav, then read and run through recognize_google()\n",
    "    string_index = {}\n",
    "    for index,chunk in enumerate(chunks):\n",
    "        #TODO io.BytesIO()\n",
    "        temp = 'temp.wav'\n",
    "        chunk.export(temp, format='wav')\n",
    "        with sr.AudioFile(temp) as source:\n",
    "            audio = r.record(source)\n",
    "        #s = r.recognize_google(audio, language=\"en-US\") #, key=API_KEY) --- my key results in broken pipe\n",
    "        s = r.recognize_google(audio, language=\"en-US\")\n",
    "        string_index[index] = s\n",
    "        break\n",
    "    return ' '.join([string_index[i] for i in range(len(string_index))])\n",
    "\n",
    "audio_file_name = '../../Piste_30_2.mp3'\n",
    "text = process(audio_file_name)\n",
    "print(text)"
   ]
  },
  {
   "cell_type": "code",
   "execution_count": null,
   "id": "08da96c8-9ec0-487a-a1ff-e9db0f0462ed",
   "metadata": {},
   "outputs": [],
   "source": []
  }
 ],
 "metadata": {
  "kernelspec": {
   "display_name": "Python 3 (ipykernel)",
   "language": "python",
   "name": "python3"
  },
  "language_info": {
   "codemirror_mode": {
    "name": "ipython",
    "version": 3
   },
   "file_extension": ".py",
   "mimetype": "text/x-python",
   "name": "python",
   "nbconvert_exporter": "python",
   "pygments_lexer": "ipython3",
   "version": "3.11.8"
  },
  "widgets": {
   "application/vnd.jupyter.widget-state+json": {
    "state": {},
    "version_major": 2,
    "version_minor": 0
   }
  }
 },
 "nbformat": 4,
 "nbformat_minor": 5
}
