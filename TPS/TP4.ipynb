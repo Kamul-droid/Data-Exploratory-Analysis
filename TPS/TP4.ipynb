{
 "cells": [
  {
   "cell_type": "code",
   "execution_count": 1,
   "id": "2b00ba50-e5f7-4808-90f1-6a4385a8d7b3",
   "metadata": {
    "tags": []
   },
   "outputs": [
    {
     "name": "stdout",
     "output_type": "stream",
     "text": [
      "             name  height mass hair_color   skin_color eye_color birth_year  \\\n",
      "0  Luke Skywalker   172.0   77      blond         fair      blue      19BBY   \n",
      "1           C-3PO   167.0   75        NaN         gold    yellow     112BBY   \n",
      "2           R2-D2    96.0   32        NaN  white, blue       red      33BBY   \n",
      "3     Darth Vader   202.0  136       none        white    yellow    41.9BBY   \n",
      "4     Leia Organa   150.0   49      brown        light     brown      19BBY   \n",
      "\n",
      "   gender homeworld species  \n",
      "0    male  Tatooine   Human  \n",
      "1     NaN  Tatooine   Droid  \n",
      "2     NaN     Naboo   Droid  \n",
      "3    male  Tatooine   Human  \n",
      "4  female  Alderaan   Human  \n",
      "Shape: (90, 10)\n",
      "name           object\n",
      "height        float64\n",
      "mass           object\n",
      "hair_color     object\n",
      "skin_color     object\n",
      "eye_color      object\n",
      "birth_year     object\n",
      "gender         object\n",
      "homeworld      object\n",
      "species        object\n",
      "dtype: object\n"
     ]
    }
   ],
   "source": [
    "import pandas as pd\n",
    "\n",
    "dataset = pd.read_csv(\"datasetSW.csv\")\n",
    "print(dataset.head())\n",
    "\n",
    "print(\"Shape:\", dataset.shape)\n",
    "print(dataset.dtypes)"
   ]
  },
  {
   "cell_type": "code",
   "execution_count": 10,
   "id": "c654a5ea-82bb-48a3-8d12-fd130a062ca1",
   "metadata": {
    "tags": []
   },
   "outputs": [
    {
     "name": "stdout",
     "output_type": "stream",
     "text": [
      "name ['Luke Skywalker' 'C-3PO' 'R2-D2' 'Darth Vader' 'Leia Organa' 'Owen Lars'\n",
      " 'Beru Whitesun lars' 'R5-D4' 'Biggs Darklighter' 'Obi-Wan Kenobi'\n",
      " 'Anakin Skywalker' 'Wilhuff Tarkin' 'Chewbacca' 'Han Solo' 'Greedo'\n",
      " 'Jabba Desilijic Tiure' 'Wedge Antilles' 'Jek Tono Porkins' 'Yoda'\n",
      " 'Palpatine' 'Boba Fett' 'IG-88' 'Bossk' 'Lando Calrissian' 'Lobot'\n",
      " 'Ackbar' 'Mon Mothma' 'Arvel Crynyd' 'Wicket Systri Warrick' 'Nien Nunb'\n",
      " 'Qui-Gon Jinn' 'Nute Gunray' 'Finis Valorum' 'Jar Jar Binks'\n",
      " 'Roos Tarpals' 'Rugor Nass' 'Ric Olié' 'Watto' 'Sebulba' 'Quarsh Panaka'\n",
      " 'Shmi Skywalker' 'Darth Maul' 'Bib Fortuna' 'Ayla Secura' 'Dud Bolt'\n",
      " 'Gasgano' 'Ben Quadinaros' 'Mace Windu' 'Ki-Adi-Mundi' 'Kit Fisto'\n",
      " 'Eeth Koth' 'Adi Gallia' 'Saesee Tiin' 'Yarael Poof' 'Plo Koon'\n",
      " 'Mas Amedda' 'Gregar Typho' 'Cordé' 'Cliegg Lars' 'Poggle the Lesser'\n",
      " 'Luminara Unduli' 'Barriss Offee' 'Dormé' 'Dooku' 'Bail Prestor Organa'\n",
      " 'Jango Fett' 'Zam Wesell' 'Dexter Jettster' 'Lama Su' 'Taun We'\n",
      " 'Jocasta Nu' 'Ratts Tyerell' 'R4-P17' 'Wat Tambor' 'San Hill' 'Shaak Ti'\n",
      " 'Grievous' 'Tarfful' 'Raymus Antilles' 'Sly Moore' 'Tion Medon' 'Finn'\n",
      " 'Rey' 'Poe Dameron' 'BB8' 'Captain Phasma' 'Padmé Amidala']\n",
      "height [172. 167.  96. 202. 150. 178. 165.  97. 183. 182. 188. 180. 228. 173.\n",
      " 175. 170.  66. 200. 190. 177.  nan  88. 160. 193. 191. 196. 224. 206.\n",
      " 137. 112. 163.  94. 122. 198. 171. 184. 264. 185. 157. 166. 168. 229.\n",
      " 213.  79. 216. 234.]\n",
      "mass ['77' '75' '32' '136' '49' '120' '84' nan '112' '80' '74' '1,358' '110'\n",
      " '17' '78.2' '140' '113' '79' '83' '20' '68' '89' '90' '66' '82' '40' '55'\n",
      " '45' '65' '87' '50' '85' '56.2' '102' '88' '15' '48' '57' '159']\n",
      "hair_color ['blond' nan 'none' 'brown' 'brown, grey' 'black' 'auburn, white'\n",
      " 'auburn, grey' 'white' 'grey' 'auburn' 'blonde']\n",
      "skin_color ['fair' 'gold' 'white, blue' 'white' 'light' 'white, red' nan 'green'\n",
      " 'green-tan, brown' 'pale' 'metal' 'dark' 'brown mottle' 'brown' 'grey'\n",
      " 'mottled green' 'orange' 'blue, grey' 'grey, red' 'red' 'blue'\n",
      " 'grey, green, yellow' 'yellow' 'tan' 'fair, green, yellow' 'grey, blue'\n",
      " 'silver, red' 'green, grey' 'red, blue, white' 'brown, white' 'none']\n",
      "eye_color ['blue' 'yellow' 'red' 'brown' 'blue-gray' 'black' 'orange' 'hazel' 'pink'\n",
      " nan 'red, blue' 'gold' 'green, yellow' 'white' 'dark']\n",
      "birth_year ['19BBY' '112BBY' '33BBY' '41.9BBY' '52BBY' '47BBY' nan '24BBY' '57BBY'\n",
      " '64BBY' '200BBY' '29BBY' '44BBY' '600BBY' '21BBY' '896BBY' '82BBY'\n",
      " '31.5BBY' '15BBY' '53BBY' '31BBY' '37BBY' '41BBY' '48BBY' '8BBY' '92BBY'\n",
      " '91BBY' '62BBY' '72BBY' '54BBY' '22BBY' '58BBY' '40BBY' '102BBY' '67BBY'\n",
      " '66BBY' '46BBY']\n",
      "gender ['male' nan 'female' 'hermaphrodite' 'none']\n",
      "homeworld ['Tatooine' 'Naboo' 'Alderaan' 'Stewjon' 'Eriadu' 'Kashyyyk' 'Corellia'\n",
      " 'Rodia' 'Nal Hutta' 'Bestine IV' nan 'Kamino' 'Trandosha' 'Socorro'\n",
      " 'Bespin' 'Mon Cala' 'Chandrila' 'Endor' 'Sullust' 'Cato Neimoidia'\n",
      " 'Coruscant' 'Toydaria' 'Malastare' 'Dathomir' 'Ryloth' 'Vulpter'\n",
      " 'Troiken' 'Tund' 'Haruun Kal' 'Cerea' 'Glee Anselm' 'Iridonia' 'Iktotch'\n",
      " 'Quermia' 'Dorin' 'Champala' 'Geonosis' 'Mirial' 'Serenno' 'Concord Dawn'\n",
      " 'Zolan' 'Ojom' 'Aleen Minor' 'Skako' 'Muunilinst' 'Shili' 'Kalee'\n",
      " 'Umbara' 'Utapau']\n",
      "species ['Human' 'Droid' 'Wookiee' 'Rodian' 'Hutt' \"Yoda's species\" 'Trandoshan'\n",
      " 'Mon Calamari' 'Ewok' 'Sullustan' 'Neimodian' 'Gungan' nan 'Toydarian'\n",
      " 'Dug' 'Zabrak' \"Twi'lek\" 'Vulptereen' 'Xexto' 'Toong' 'Cerean' 'Nautolan'\n",
      " 'Tholothian' 'Iktotchi' 'Quermian' 'Kel Dor' 'Chagrian' 'Geonosian'\n",
      " 'Mirialan' 'Clawdite' 'Besalisk' 'Kaminoan' 'Aleena' 'Skakoan' 'Muun'\n",
      " 'Togruta' 'Kaleesh' \"Pau'an\"]\n"
     ]
    }
   ],
   "source": [
    "#Unique pour détecter le problème\n",
    "for col in dataset.columns:\n",
    "    print(col, dataset[col].unique())"
   ]
  },
  {
   "cell_type": "code",
   "execution_count": 11,
   "id": "a1165bb7-7f6c-439e-8a12-68d5cefb2336",
   "metadata": {
    "tags": []
   },
   "outputs": [
    {
     "name": "stdout",
     "output_type": "stream",
     "text": [
      "[ 77.   75.   32.  136.   49.  120.   84.    nan 112.   80.   74.  110.\n",
      "  17.   78.2 140.  113.   79.   83.   20.   68.   89.   90.   66.   82.\n",
      "  40.   55.   45.   65.   87.   50.   85.   56.2 102.   88.   15.   48.\n",
      "  57.  159. ]\n"
     ]
    }
   ],
   "source": [
    "# Convertir toutes les valeurs de la variable \"mass\" en type de données numérique\n",
    "dataset['mass'] = pd.to_numeric(dataset['mass'], errors='coerce')\n",
    "\n",
    "# les valeurs uniques de la variable \"mass\" après la correction\n",
    "print(dataset['mass'].unique())"
   ]
  },
  {
   "cell_type": "code",
   "execution_count": 3,
   "id": "fec351f0-ca1b-4c9a-9f7a-ebf911fcfd2a",
   "metadata": {
    "tags": []
   },
   "outputs": [
    {
     "name": "stdout",
     "output_type": "stream",
     "text": [
      "     name  height   mass  hair_color  skin_color  eye_color  birth_year  \\\n",
      "0   False   False  False       False       False      False       False   \n",
      "1   False   False  False        True       False      False       False   \n",
      "2   False   False  False        True       False      False       False   \n",
      "3   False   False  False       False       False      False       False   \n",
      "4   False   False  False       False       False      False       False   \n",
      "..    ...     ...    ...         ...         ...        ...         ...   \n",
      "85  False    True   True       False       False      False        True   \n",
      "86  False    True   True       False       False      False        True   \n",
      "87  False    True   True       False       False      False        True   \n",
      "88  False    True   True        True        True       True        True   \n",
      "89  False   False  False       False       False      False       False   \n",
      "\n",
      "    gender  homeworld  species  \n",
      "0    False      False    False  \n",
      "1     True      False    False  \n",
      "2     True      False    False  \n",
      "3    False      False    False  \n",
      "4    False      False    False  \n",
      "..     ...        ...      ...  \n",
      "85   False       True    False  \n",
      "86   False       True    False  \n",
      "87   False       True    False  \n",
      "88   False       True     True  \n",
      "89   False      False    False  \n",
      "\n",
      "[90 rows x 10 columns]\n",
      "    name  height   mass  hair_color  skin_color  eye_color  birth_year  \\\n",
      "0   True    True   True        True        True       True        True   \n",
      "1   True    True   True       False        True       True        True   \n",
      "2   True    True   True       False        True       True        True   \n",
      "3   True    True   True        True        True       True        True   \n",
      "4   True    True   True        True        True       True        True   \n",
      "..   ...     ...    ...         ...         ...        ...         ...   \n",
      "85  True   False  False        True        True       True       False   \n",
      "86  True   False  False        True        True       True       False   \n",
      "87  True   False  False        True        True       True       False   \n",
      "88  True   False  False       False       False      False       False   \n",
      "89  True    True   True        True        True       True        True   \n",
      "\n",
      "    gender  homeworld  species  \n",
      "0     True       True     True  \n",
      "1    False       True     True  \n",
      "2    False       True     True  \n",
      "3     True       True     True  \n",
      "4     True       True     True  \n",
      "..     ...        ...      ...  \n",
      "85    True      False     True  \n",
      "86    True      False     True  \n",
      "87    True      False     True  \n",
      "88    True      False    False  \n",
      "89    True       True     True  \n",
      "\n",
      "[90 rows x 10 columns]\n"
     ]
    }
   ],
   "source": [
    "#la méthode isnull\n",
    "print(dataset.isnull())\n",
    "\n",
    "#la méthode notnull\n",
    "print(dataset.notnull())"
   ]
  },
  {
   "cell_type": "code",
   "execution_count": 4,
   "id": "dd2c0d4e-ac06-4535-9466-4ba27dbff5e8",
   "metadata": {
    "tags": []
   },
   "outputs": [
    {
     "name": "stdout",
     "output_type": "stream",
     "text": [
      "              name  height  mass hair_color skin_color eye_color birth_year  \\\n",
      "27    Arvel Crynyd     NaN   NaN      brown       fair     brown        NaN   \n",
      "84            Finn     NaN   NaN      black       dark      dark        NaN   \n",
      "85             Rey     NaN   NaN      brown      light     hazel        NaN   \n",
      "86     Poe Dameron     NaN   NaN      brown      light     brown        NaN   \n",
      "87             BB8     NaN   NaN       none       none     black        NaN   \n",
      "88  Captain Phasma     NaN   NaN        NaN        NaN       NaN        NaN   \n",
      "\n",
      "    gender homeworld species  \n",
      "27    male       NaN   Human  \n",
      "84    male       NaN   Human  \n",
      "85  female       NaN   Human  \n",
      "86    male       NaN   Human  \n",
      "87    none       NaN   Droid  \n",
      "88  female       NaN     NaN  \n"
     ]
    }
   ],
   "source": [
    "#isnull pour rechercher les observations avec des valeurs manquantes dans la variable \"height\"\n",
    "obs_height_null = dataset[dataset['height'].isnull()]\n",
    "\n",
    "print(obs_height_null)"
   ]
  },
  {
   "cell_type": "code",
   "execution_count": 5,
   "id": "48879fc2-ca0c-49cd-9467-210ce8569d90",
   "metadata": {
    "tags": []
   },
   "outputs": [
    {
     "name": "stdout",
     "output_type": "stream",
     "text": [
      "Nombre de valeurs manquantes par variable \n",
      "name           0\n",
      "height         6\n",
      "mass          29\n",
      "hair_color     6\n",
      "skin_color     2\n",
      "eye_color      3\n",
      "birth_year    44\n",
      "gender         3\n",
      "homeworld     10\n",
      "species        5\n",
      "dtype: int64\n",
      "\n",
      "Nombre de valeurs manquantes par observation :\n",
      "0     0\n",
      "1     2\n",
      "2     2\n",
      "3     0\n",
      "4     0\n",
      "     ..\n",
      "85    4\n",
      "86    4\n",
      "87    4\n",
      "88    8\n",
      "89    0\n",
      "Length: 90, dtype: int64\n",
      "\n",
      "Nombre total de valeurs manquantes dans le dataset : 108\n"
     ]
    }
   ],
   "source": [
    "# Décompter le nombre de valeurs manquantes par variable\n",
    "var_missing = dataset.isnull().sum()\n",
    "print(\"Nombre de valeurs manquantes par variable \")\n",
    "print(var_missing)\n",
    "\n",
    "# Décompter le nombre de valeurs manquantes par observation\n",
    "obs_missing = dataset.isnull().sum(axis=1)\n",
    "print(\"\\nNombre de valeurs manquantes par observation :\")\n",
    "print(obs_missing)\n",
    "\n",
    "# Décompter le nombre total de valeurs manquantes dans tout le dataset\n",
    "total_missing = dataset.isnull().sum().sum()\n",
    "print(\"\\nNombre total de valeurs manquantes dans le dataset :\", total_missing)"
   ]
  },
  {
   "cell_type": "code",
   "execution_count": 6,
   "id": "c8d23020-c06c-46c4-9f1a-da0f3f424b98",
   "metadata": {
    "tags": []
   },
   "outputs": [
    {
     "name": "stdout",
     "output_type": "stream",
     "text": [
      "Après suppression de l'observation comportant 8 valeurs manquantes sur 10 :\n",
      "              name  height   mass hair_color   skin_color eye_color  \\\n",
      "0   Luke Skywalker   172.0   77.0      blond         fair      blue   \n",
      "1            C-3PO   167.0   75.0        NaN         gold    yellow   \n",
      "2            R2-D2    96.0   32.0        NaN  white, blue       red   \n",
      "3      Darth Vader   202.0  136.0       none        white    yellow   \n",
      "4      Leia Organa   150.0   49.0      brown        light     brown   \n",
      "..             ...     ...    ...        ...          ...       ...   \n",
      "84            Finn     NaN    NaN      black         dark      dark   \n",
      "85             Rey     NaN    NaN      brown        light     hazel   \n",
      "86     Poe Dameron     NaN    NaN      brown        light     brown   \n",
      "87             BB8     NaN    NaN       none         none     black   \n",
      "89   Padmé Amidala   165.0   45.0      brown        light     brown   \n",
      "\n",
      "   birth_year  gender homeworld species  \n",
      "0       19BBY    male  Tatooine   Human  \n",
      "1      112BBY     NaN  Tatooine   Droid  \n",
      "2       33BBY     NaN     Naboo   Droid  \n",
      "3     41.9BBY    male  Tatooine   Human  \n",
      "4       19BBY  female  Alderaan   Human  \n",
      "..        ...     ...       ...     ...  \n",
      "84        NaN    male       NaN   Human  \n",
      "85        NaN  female       NaN   Human  \n",
      "86        NaN    male       NaN   Human  \n",
      "87        NaN    none       NaN   Droid  \n",
      "89      46BBY  female     Naboo   Human  \n",
      "\n",
      "[89 rows x 10 columns]\n"
     ]
    }
   ],
   "source": [
    "# Supprimer l'observation comportant 8 valeurs manquantes sur 10\n",
    "dataset = dataset.dropna(thresh=3)\n",
    "\n",
    "# Vérifier le résultat\n",
    "print(\"Après suppression de l'observation\")\n",
    "print(dataset)"
   ]
  },
  {
   "cell_type": "code",
   "execution_count": 7,
   "id": "5705ba36-ef8e-4961-bead-aa04abb89842",
   "metadata": {
    "tags": []
   },
   "outputs": [
    {
     "name": "stdout",
     "output_type": "stream",
     "text": [
      "birth_year\n",
      "Après suppression de la variable contenant le plus de valeurs manquantes :\n",
      "              name  height   mass hair_color   skin_color eye_color  gender  \\\n",
      "0   Luke Skywalker   172.0   77.0      blond         fair      blue    male   \n",
      "1            C-3PO   167.0   75.0        NaN         gold    yellow     NaN   \n",
      "2            R2-D2    96.0   32.0        NaN  white, blue       red     NaN   \n",
      "3      Darth Vader   202.0  136.0       none        white    yellow    male   \n",
      "4      Leia Organa   150.0   49.0      brown        light     brown  female   \n",
      "..             ...     ...    ...        ...          ...       ...     ...   \n",
      "84            Finn     NaN    NaN      black         dark      dark    male   \n",
      "85             Rey     NaN    NaN      brown        light     hazel  female   \n",
      "86     Poe Dameron     NaN    NaN      brown        light     brown    male   \n",
      "87             BB8     NaN    NaN       none         none     black    none   \n",
      "89   Padmé Amidala   165.0   45.0      brown        light     brown  female   \n",
      "\n",
      "   homeworld species  \n",
      "0   Tatooine   Human  \n",
      "1   Tatooine   Droid  \n",
      "2      Naboo   Droid  \n",
      "3   Tatooine   Human  \n",
      "4   Alderaan   Human  \n",
      "..       ...     ...  \n",
      "84       NaN   Human  \n",
      "85       NaN   Human  \n",
      "86       NaN   Human  \n",
      "87       NaN   Droid  \n",
      "89     Naboo   Human  \n",
      "\n",
      "[89 rows x 9 columns]\n"
     ]
    }
   ],
   "source": [
    "# Trouver la variable contenant le plus de valeurs manquantes\n",
    "var_max_missing = dataset.isnull().sum().idxmax()\n",
    "print(var_max_missing)\n",
    "# Supprimer la variable contenant le plus de valeurs manquantes\n",
    "dataset = dataset.drop(var_max_missing, axis=1)\n",
    "\n",
    "# Vérifier le résultat\n",
    "print(\"Après suppression de la variable contenant le plus de valeurs manquantes :\")\n",
    "print(dataset)"
   ]
  },
  {
   "cell_type": "code",
   "execution_count": 13,
   "id": "25b6cde3-3d04-4f56-bc87-fb53f7137865",
   "metadata": {
    "tags": []
   },
   "outputs": [
    {
     "name": "stdout",
     "output_type": "stream",
     "text": [
      "Supprimer les lignes avec des valeurs manquantes :\n",
      "                  name  height   hair_color    skin_color      eye_color  \\\n",
      "0       Luke Skywalker   172.0        blond          fair           blue   \n",
      "3          Darth Vader   202.0         none         white         yellow   \n",
      "4          Leia Organa   150.0        brown         light          brown   \n",
      "5            Owen Lars   178.0  brown, grey         light           blue   \n",
      "6   Beru Whitesun lars   165.0        brown         light           blue   \n",
      "..                 ...     ...          ...           ...            ...   \n",
      "79            Grievous   216.0         none  brown, white  green, yellow   \n",
      "80             Tarfful   234.0        brown         brown           blue   \n",
      "81     Raymus Antilles   188.0        brown         light          brown   \n",
      "83          Tion Medon   206.0         none          grey          black   \n",
      "89       Padmé Amidala   165.0        brown         light          brown   \n",
      "\n",
      "    gender homeworld  species  \n",
      "0     male  Tatooine    Human  \n",
      "3     male  Tatooine    Human  \n",
      "4   female  Alderaan    Human  \n",
      "5     male  Tatooine    Human  \n",
      "6   female  Tatooine    Human  \n",
      "..     ...       ...      ...  \n",
      "79    male     Kalee  Kaleesh  \n",
      "80    male  Kashyyyk  Wookiee  \n",
      "81    male  Alderaan    Human  \n",
      "83    male    Utapau   Pau'an  \n",
      "89  female     Naboo    Human  \n",
      "\n",
      "[69 rows x 8 columns]\n",
      "\n",
      "Supprimer les colonnes avec des valeurs manquantes :\n",
      "              name\n",
      "0   Luke Skywalker\n",
      "1            C-3PO\n",
      "2            R2-D2\n",
      "3      Darth Vader\n",
      "4      Leia Organa\n",
      "..             ...\n",
      "84            Finn\n",
      "85             Rey\n",
      "86     Poe Dameron\n",
      "87             BB8\n",
      "89   Padmé Amidala\n",
      "\n",
      "[89 rows x 1 columns]\n"
     ]
    }
   ],
   "source": [
    "# Tester dropna par ligne\n",
    "print(\"Supprimer les lignes avec des valeurs manquantes :\")\n",
    "dataset_dropna_row = dataset.dropna(axis=0)\n",
    "print(dataset_dropna_row)\n",
    "\n",
    "# Tester dropna par colonne\n",
    "print(\"\\nSupprimer les colonnes avec des valeurs manquantes :\")\n",
    "dataset_dropna_col = dataset.dropna(axis=1)\n",
    "print(dataset_dropna_col)\n"
   ]
  },
  {
   "cell_type": "code",
   "execution_count": 14,
   "id": "54268a89-9dfb-4103-af28-9207b4012c60",
   "metadata": {
    "tags": []
   },
   "outputs": [
    {
     "name": "stdout",
     "output_type": "stream",
     "text": [
      "Après remplacer les valeurs manquantes de la variable 'height' par sa médiane :\n",
      "              name  height hair_color   skin_color eye_color  gender  \\\n",
      "0   Luke Skywalker   172.0      blond         fair      blue    male   \n",
      "1            C-3PO   167.0        NaN         gold    yellow     NaN   \n",
      "2            R2-D2    96.0        NaN  white, blue       red     NaN   \n",
      "3      Darth Vader   202.0       none        white    yellow    male   \n",
      "4      Leia Organa   150.0      brown        light     brown  female   \n",
      "..             ...     ...        ...          ...       ...     ...   \n",
      "84            Finn   180.0      black         dark      dark    male   \n",
      "85             Rey   180.0      brown        light     hazel  female   \n",
      "86     Poe Dameron   180.0      brown        light     brown    male   \n",
      "87             BB8   180.0       none         none     black    none   \n",
      "89   Padmé Amidala   165.0      brown        light     brown  female   \n",
      "\n",
      "   homeworld species  \n",
      "0   Tatooine   Human  \n",
      "1   Tatooine   Droid  \n",
      "2      Naboo   Droid  \n",
      "3   Tatooine   Human  \n",
      "4   Alderaan   Human  \n",
      "..       ...     ...  \n",
      "84       NaN   Human  \n",
      "85       NaN   Human  \n",
      "86       NaN   Human  \n",
      "87       NaN   Droid  \n",
      "89     Naboo   Human  \n",
      "\n",
      "[89 rows x 8 columns]\n"
     ]
    }
   ],
   "source": [
    "# Remplacer les valeurs manquantes de la variable \"height\" par sa médiane\n",
    "median_height = dataset['height'].median()\n",
    "dataset['height'].fillna(median_height, inplace=True)\n",
    "\n",
    "#Le résultat\n",
    "print(\"Après remplacer les valeurs manquantes de la variable 'height' par sa médiane :\")\n",
    "print(dataset)"
   ]
  },
  {
   "cell_type": "code",
   "execution_count": 15,
   "id": "63961610-b09c-423f-94d5-da4600d80c49",
   "metadata": {
    "tags": []
   },
   "outputs": [
    {
     "name": "stdout",
     "output_type": "stream",
     "text": [
      "Après suppression des observations en double :\n",
      "              name  height hair_color   skin_color eye_color  gender  \\\n",
      "0   Luke Skywalker   172.0      blond         fair      blue    male   \n",
      "1            C-3PO   167.0        NaN         gold    yellow     NaN   \n",
      "2            R2-D2    96.0        NaN  white, blue       red     NaN   \n",
      "3      Darth Vader   202.0       none        white    yellow    male   \n",
      "4      Leia Organa   150.0      brown        light     brown  female   \n",
      "..             ...     ...        ...          ...       ...     ...   \n",
      "84            Finn   180.0      black         dark      dark    male   \n",
      "85             Rey   180.0      brown        light     hazel  female   \n",
      "86     Poe Dameron   180.0      brown        light     brown    male   \n",
      "87             BB8   180.0       none         none     black    none   \n",
      "89   Padmé Amidala   165.0      brown        light     brown  female   \n",
      "\n",
      "   homeworld species  \n",
      "0   Tatooine   Human  \n",
      "1   Tatooine   Droid  \n",
      "2      Naboo   Droid  \n",
      "3   Tatooine   Human  \n",
      "4   Alderaan   Human  \n",
      "..       ...     ...  \n",
      "84       NaN   Human  \n",
      "85       NaN   Human  \n",
      "86       NaN   Human  \n",
      "87       NaN   Droid  \n",
      "89     Naboo   Human  \n",
      "\n",
      "[86 rows x 8 columns]\n"
     ]
    }
   ],
   "source": [
    "# Identifier les observations en double\n",
    "duplicates = dataset.duplicated()\n",
    "\n",
    "# Supprimer les observations en double\n",
    "dataset.drop_duplicates(inplace=True)\n",
    "\n",
    "# Vérifier le résultat\n",
    "print(\"Après suppression des observations en double :\")\n",
    "print(dataset)"
   ]
  },
  {
   "cell_type": "code",
   "execution_count": null,
   "id": "8c6083de-3462-4872-b7c0-2d090c47b073",
   "metadata": {},
   "outputs": [],
   "source": []
  }
 ],
 "metadata": {
  "kernelspec": {
   "display_name": "Python 3 (ipykernel)",
   "language": "python",
   "name": "python3"
  },
  "language_info": {
   "codemirror_mode": {
    "name": "ipython",
    "version": 3
   },
   "file_extension": ".py",
   "mimetype": "text/x-python",
   "name": "python",
   "nbconvert_exporter": "python",
   "pygments_lexer": "ipython3",
   "version": "3.11.8"
  },
  "widgets": {
   "application/vnd.jupyter.widget-state+json": {
    "state": {},
    "version_major": 2,
    "version_minor": 0
   }
  }
 },
 "nbformat": 4,
 "nbformat_minor": 5
}
