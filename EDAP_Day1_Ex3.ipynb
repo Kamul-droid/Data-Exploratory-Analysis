{
 "cells": [
  {
   "cell_type": "code",
   "execution_count": 8,
   "id": "fa69ad47-2fd5-485e-91dd-ee57276b3a21",
   "metadata": {},
   "outputs": [],
   "source": [
    "import numpy as np\n",
    "from numpy import linalg as LA\n"
   ]
  },
  {
   "cell_type": "code",
   "execution_count": 9,
   "id": "a9fb965b-5109-46d0-863e-651a3b73ee7b",
   "metadata": {},
   "outputs": [],
   "source": [
    "A = np.array([[-2,0],[-1,3],[1,3]])"
   ]
  },
  {
   "cell_type": "code",
   "execution_count": 10,
   "id": "83fe877b-72f1-4de5-a228-aa7656500a05",
   "metadata": {},
   "outputs": [
    {
     "data": {
      "text/plain": [
       "array([[-2,  0],\n",
       "       [-1,  3],\n",
       "       [ 1,  3]])"
      ]
     },
     "execution_count": 10,
     "metadata": {},
     "output_type": "execute_result"
    }
   ],
   "source": [
    "A"
   ]
  },
  {
   "cell_type": "code",
   "execution_count": 11,
   "id": "ae53f6fb-3c7f-4c9a-8c4e-a1e5db1e42df",
   "metadata": {},
   "outputs": [],
   "source": [
    "B = np.array([[0,-2,2],[-2,3,2]])"
   ]
  },
  {
   "cell_type": "code",
   "execution_count": 12,
   "id": "6f673429-87b4-41ca-b733-e811b3e2b946",
   "metadata": {},
   "outputs": [
    {
     "data": {
      "text/plain": [
       "array([[ 0, -2,  2],\n",
       "       [-2,  3,  2]])"
      ]
     },
     "execution_count": 12,
     "metadata": {},
     "output_type": "execute_result"
    }
   ],
   "source": [
    "B"
   ]
  },
  {
   "cell_type": "markdown",
   "id": "889e49d3-5c49-47da-a861-e344c5a42d22",
   "metadata": {},
   "source": [
    "## Matrix multiplication"
   ]
  },
  {
   "cell_type": "code",
   "execution_count": 14,
   "id": "ef50357f-a265-4eba-bf11-c54a04397914",
   "metadata": {},
   "outputs": [],
   "source": [
    "C = np.matmul(A,B)"
   ]
  },
  {
   "cell_type": "code",
   "execution_count": 15,
   "id": "21359dc2-4e5f-4e4b-9122-d6a3c3fc206b",
   "metadata": {},
   "outputs": [
    {
     "data": {
      "text/plain": [
       "array([[ 0,  4, -4],\n",
       "       [-6, 11,  4],\n",
       "       [-6,  7,  8]])"
      ]
     },
     "execution_count": 15,
     "metadata": {},
     "output_type": "execute_result"
    }
   ],
   "source": [
    "C"
   ]
  },
  {
   "cell_type": "code",
   "execution_count": 16,
   "id": "fe89fe27-1dbe-424e-9fe8-1c6fde2f1443",
   "metadata": {},
   "outputs": [],
   "source": [
    "D = np.matmul(B,A)"
   ]
  },
  {
   "cell_type": "code",
   "execution_count": 17,
   "id": "b4b9d783-b947-47e7-90a5-b7a16a2173f5",
   "metadata": {},
   "outputs": [
    {
     "data": {
      "text/plain": [
       "array([[ 4,  0],\n",
       "       [ 3, 15]])"
      ]
     },
     "execution_count": 17,
     "metadata": {},
     "output_type": "execute_result"
    }
   ],
   "source": [
    "D"
   ]
  },
  {
   "cell_type": "markdown",
   "id": "6329ddca-c7d5-4e9d-875d-5ee0732b33dd",
   "metadata": {},
   "source": [
    "## Determinant and inverse"
   ]
  },
  {
   "cell_type": "code",
   "execution_count": 18,
   "id": "d8e12390-29c1-4e02-804f-eaa96056bedf",
   "metadata": {},
   "outputs": [],
   "source": [
    "E = np.array([[3,4,-1],[2,0,1],[1,3,-2]])"
   ]
  },
  {
   "cell_type": "code",
   "execution_count": 19,
   "id": "2cc5e985-ac05-457e-8599-cec580b3ae3d",
   "metadata": {},
   "outputs": [
    {
     "data": {
      "text/plain": [
       "array([[ 3,  4, -1],\n",
       "       [ 2,  0,  1],\n",
       "       [ 1,  3, -2]])"
      ]
     },
     "execution_count": 19,
     "metadata": {},
     "output_type": "execute_result"
    }
   ],
   "source": [
    "E"
   ]
  },
  {
   "cell_type": "markdown",
   "id": "759fc9cf-6ed6-4cb9-a544-cbe63e745244",
   "metadata": {},
   "source": [
    "### Determinant"
   ]
  },
  {
   "cell_type": "code",
   "execution_count": 22,
   "id": "2fcc1af8-f533-4087-a19d-6b3494431b00",
   "metadata": {},
   "outputs": [],
   "source": [
    "detE = LA.det(E)"
   ]
  },
  {
   "cell_type": "code",
   "execution_count": 23,
   "id": "9393ec21-a0e5-4e7b-a97b-9b5b56a4c931",
   "metadata": {},
   "outputs": [
    {
     "data": {
      "text/plain": [
       "5.000000000000001"
      ]
     },
     "execution_count": 23,
     "metadata": {},
     "output_type": "execute_result"
    }
   ],
   "source": [
    "detE"
   ]
  },
  {
   "cell_type": "markdown",
   "id": "6b9d85b3-ab61-475a-8282-d38131e6b4b9",
   "metadata": {},
   "source": [
    "### Inverse"
   ]
  },
  {
   "cell_type": "code",
   "execution_count": 25,
   "id": "01ebe6f1-bd48-435b-9ea3-cf4aa0ffe3dd",
   "metadata": {},
   "outputs": [],
   "source": [
    "invE = LA.inv(E)"
   ]
  },
  {
   "cell_type": "code",
   "execution_count": 26,
   "id": "23b41e6b-2e0b-4739-9649-fa2d0e266a1a",
   "metadata": {},
   "outputs": [
    {
     "data": {
      "text/plain": [
       "array([[-0.6,  1. ,  0.8],\n",
       "       [ 1. , -1. , -1. ],\n",
       "       [ 1.2, -1. , -1.6]])"
      ]
     },
     "execution_count": 26,
     "metadata": {},
     "output_type": "execute_result"
    }
   ],
   "source": [
    "invE"
   ]
  },
  {
   "cell_type": "markdown",
   "id": "a6545d02-58d3-4197-bab2-747daad118df",
   "metadata": {},
   "source": [
    "### Test"
   ]
  },
  {
   "cell_type": "code",
   "execution_count": 27,
   "id": "8ecb7293-35b4-4fb6-b68c-4944729c48d1",
   "metadata": {},
   "outputs": [
    {
     "data": {
      "text/plain": [
       "array([[ 1.00000000e+00,  2.22044605e-16,  0.00000000e+00],\n",
       "       [ 0.00000000e+00,  1.00000000e+00, -2.22044605e-16],\n",
       "       [ 0.00000000e+00,  0.00000000e+00,  1.00000000e+00]])"
      ]
     },
     "execution_count": 27,
     "metadata": {},
     "output_type": "execute_result"
    }
   ],
   "source": [
    "np.dot(E,invE)"
   ]
  },
  {
   "cell_type": "code",
   "execution_count": 29,
   "id": "ecc1d285-0981-42c5-a431-de1225ee0923",
   "metadata": {},
   "outputs": [
    {
     "data": {
      "text/plain": [
       "True"
      ]
     },
     "execution_count": 29,
     "metadata": {},
     "output_type": "execute_result"
    }
   ],
   "source": [
    "np.allclose(np.dot(E,invE),np.eye(E.shape[0]))\n",
    "                "
   ]
  },
  {
   "cell_type": "markdown",
   "id": "e0e5240a-9e92-48ed-bfa8-97d7d4592e6f",
   "metadata": {},
   "source": [
    "## Eingenvector and eingenvalue "
   ]
  },
  {
   "cell_type": "code",
   "execution_count": 31,
   "id": "66524380-89a5-454f-8f89-3ba43b4f736e",
   "metadata": {},
   "outputs": [],
   "source": [
    "F = np.array([[1,-1,0],[-1,2,1],[0,1,1]])"
   ]
  },
  {
   "cell_type": "code",
   "execution_count": 32,
   "id": "bb590d59-2da3-4162-8cfe-bb087810fe55",
   "metadata": {},
   "outputs": [
    {
     "data": {
      "text/plain": [
       "array([[ 1, -1,  0],\n",
       "       [-1,  2,  1],\n",
       "       [ 0,  1,  1]])"
      ]
     },
     "execution_count": 32,
     "metadata": {},
     "output_type": "execute_result"
    }
   ],
   "source": [
    "F"
   ]
  },
  {
   "cell_type": "code",
   "execution_count": 36,
   "id": "e9617d5f-9d50-4bf7-819b-ddde983a1f30",
   "metadata": {},
   "outputs": [],
   "source": [
    "values,vector = LA.eig(F)"
   ]
  },
  {
   "cell_type": "code",
   "execution_count": 37,
   "id": "129b4d44-763f-48cd-a2b7-36cb1ee856d2",
   "metadata": {},
   "outputs": [
    {
     "data": {
      "text/plain": [
       "array([[-4.08248290e-01, -7.07106781e-01, -5.77350269e-01],\n",
       "       [ 8.16496581e-01,  2.48915666e-16, -5.77350269e-01],\n",
       "       [ 4.08248290e-01, -7.07106781e-01,  5.77350269e-01]])"
      ]
     },
     "execution_count": 37,
     "metadata": {},
     "output_type": "execute_result"
    }
   ],
   "source": [
    "vector"
   ]
  },
  {
   "cell_type": "code",
   "execution_count": 38,
   "id": "a2d4e2a6-ece1-4527-9884-2a8bedd2d120",
   "metadata": {},
   "outputs": [
    {
     "data": {
      "text/plain": [
       "array([ 3.00000000e+00,  1.00000000e+00, -5.13860489e-17])"
      ]
     },
     "execution_count": 38,
     "metadata": {},
     "output_type": "execute_result"
    }
   ],
   "source": [
    "values"
   ]
  },
  {
   "cell_type": "markdown",
   "id": "1dcac623-5e92-48bf-8114-977af8178f37",
   "metadata": {},
   "source": [
    "## F power 666"
   ]
  },
  {
   "cell_type": "markdown",
   "id": "9d5bfec6-29cf-4949-ad6a-5ad4e4bf5f6f",
   "metadata": {},
   "source": [
    "### F can be transform into a diagonal matrix with the previous given eingeinvalue"
   ]
  },
  {
   "cell_type": "code",
   "execution_count": 67,
   "id": "44966ee3-95f5-4b18-9afe-4ee36a2a2368",
   "metadata": {},
   "outputs": [],
   "source": [
    "d = np.zeros((3,3))"
   ]
  },
  {
   "cell_type": "code",
   "execution_count": 78,
   "id": "f5d647da-42e0-4858-8052-943d097a4ab2",
   "metadata": {},
   "outputs": [
    {
     "data": {
      "text/plain": [
       "array([[2., 0., 0.],\n",
       "       [0., 2., 0.],\n",
       "       [0., 0., 2.]])"
      ]
     },
     "execution_count": 78,
     "metadata": {},
     "output_type": "execute_result"
    }
   ],
   "source": [
    "d"
   ]
  },
  {
   "cell_type": "code",
   "execution_count": 81,
   "id": "d29497de-6460-4a05-9642-abb4cf1808d6",
   "metadata": {},
   "outputs": [],
   "source": [
    "np.fill_diagonal(d,values)"
   ]
  },
  {
   "cell_type": "code",
   "execution_count": 82,
   "id": "a2749188-408b-432f-864f-f9cae519d0a4",
   "metadata": {},
   "outputs": [
    {
     "data": {
      "text/plain": [
       "array([[ 3.00000000e+00,  0.00000000e+00,  0.00000000e+00],\n",
       "       [ 0.00000000e+00,  1.00000000e+00,  0.00000000e+00],\n",
       "       [ 0.00000000e+00,  0.00000000e+00, -5.13860489e-17]])"
      ]
     },
     "execution_count": 82,
     "metadata": {},
     "output_type": "execute_result"
    }
   ],
   "source": [
    "d"
   ]
  },
  {
   "cell_type": "code",
   "execution_count": 86,
   "id": "7cfe5748-5717-4333-a340-c5eda3619a01",
   "metadata": {},
   "outputs": [],
   "source": [
    "\n",
    "F666 = LA.matrix_power(d,666)"
   ]
  },
  {
   "cell_type": "code",
   "execution_count": 87,
   "id": "dc8727ab-3736-45f3-bb0a-287bcbf03cf5",
   "metadata": {},
   "outputs": [
    {
     "data": {
      "text/plain": [
       "array([[inf,  0.,  0.],\n",
       "       [ 0.,  1.,  0.],\n",
       "       [ 0.,  0.,  0.]])"
      ]
     },
     "execution_count": 87,
     "metadata": {},
     "output_type": "execute_result"
    }
   ],
   "source": [
    "F666"
   ]
  },
  {
   "cell_type": "code",
   "execution_count": null,
   "id": "eef26bf4-62ce-4544-bbc7-2b9674d5eae4",
   "metadata": {},
   "outputs": [],
   "source": []
  }
 ],
 "metadata": {
  "kernelspec": {
   "display_name": "Python 3 (ipykernel)",
   "language": "python",
   "name": "python3"
  },
  "language_info": {
   "codemirror_mode": {
    "name": "ipython",
    "version": 3
   },
   "file_extension": ".py",
   "mimetype": "text/x-python",
   "name": "python",
   "nbconvert_exporter": "python",
   "pygments_lexer": "ipython3",
   "version": "3.11.8"
  }
 },
 "nbformat": 4,
 "nbformat_minor": 5
}
