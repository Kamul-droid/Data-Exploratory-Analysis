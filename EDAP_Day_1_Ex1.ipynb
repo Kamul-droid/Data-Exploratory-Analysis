{
 "cells": [
  {
   "cell_type": "markdown",
   "id": "c1a8ab57-a902-4d68-8f23-53884c091e90",
   "metadata": {},
   "source": [
    "# Numpy basic introduction \n"
   ]
  },
  {
   "cell_type": "code",
   "execution_count": 1,
   "id": "9cc0dcc4-0eb0-4848-a5ad-659c61717c1f",
   "metadata": {},
   "outputs": [],
   "source": [
    "import numpy as np"
   ]
  },
  {
   "cell_type": "markdown",
   "id": "eaa5c681-7fe9-4572-a95e-aa847971ff43",
   "metadata": {},
   "source": [
    "## 1. Create a list of 3 lines and 5 columms initialized to zero"
   ]
  },
  {
   "cell_type": "code",
   "execution_count": 15,
   "id": "de7fbb6d-ea0f-4809-b4fe-91e5a32edb16",
   "metadata": {},
   "outputs": [],
   "source": [
    "A = np.zeros((3,5),dtype=np.int16) "
   ]
  },
  {
   "cell_type": "code",
   "execution_count": 37,
   "id": "68f4601c-0e99-4ec3-93c1-ac82560f9dcb",
   "metadata": {},
   "outputs": [
    {
     "data": {
      "text/plain": [
       "array([[0, 0, 0, 0, 0],\n",
       "       [0, 0, 0, 0, 0],\n",
       "       [0, 0, 0, 0, 0]], dtype=int16)"
      ]
     },
     "execution_count": 37,
     "metadata": {},
     "output_type": "execute_result"
    }
   ],
   "source": [
    "A\n"
   ]
  },
  {
   "cell_type": "code",
   "execution_count": 38,
   "id": "06aada97-b0d7-4d99-988d-b3934b9a48fa",
   "metadata": {},
   "outputs": [
    {
     "data": {
      "text/plain": [
       "2"
      ]
     },
     "execution_count": 38,
     "metadata": {},
     "output_type": "execute_result"
    }
   ],
   "source": [
    "A.ndim\n"
   ]
  },
  {
   "cell_type": "markdown",
   "id": "2097405c-fbd0-4736-90f4-5442fb9d2c95",
   "metadata": {},
   "source": [
    "## 2. Create a list of 5 lines and 4 colummns initialized to 1"
   ]
  },
  {
   "cell_type": "code",
   "execution_count": 17,
   "id": "0143f360-645c-4aa2-92df-1fc328280db1",
   "metadata": {},
   "outputs": [],
   "source": [
    "B = np.ones((5,4),dtype=np.int16)"
   ]
  },
  {
   "cell_type": "code",
   "execution_count": 18,
   "id": "150cd844-3218-4bc2-a0f3-b36739b81032",
   "metadata": {},
   "outputs": [
    {
     "data": {
      "text/plain": [
       "array([[1, 1, 1, 1],\n",
       "       [1, 1, 1, 1],\n",
       "       [1, 1, 1, 1],\n",
       "       [1, 1, 1, 1],\n",
       "       [1, 1, 1, 1]], dtype=int16)"
      ]
     },
     "execution_count": 18,
     "metadata": {},
     "output_type": "execute_result"
    }
   ],
   "source": [
    "B"
   ]
  },
  {
   "cell_type": "markdown",
   "id": "7da097eb-27c2-4353-8fa2-b255f648c448",
   "metadata": {},
   "source": [
    "## 3. Create a list of (5,5) initialized to 666"
   ]
  },
  {
   "cell_type": "code",
   "execution_count": 6,
   "id": "32a9bd24-fc90-401f-a02b-dc163ca6b97a",
   "metadata": {},
   "outputs": [],
   "source": [
    "C = np.full((5,5),666)"
   ]
  },
  {
   "cell_type": "code",
   "execution_count": 7,
   "id": "dd389c18-0419-4351-b67c-b51c305bd616",
   "metadata": {},
   "outputs": [
    {
     "data": {
      "text/plain": [
       "array([[666, 666, 666, 666, 666],\n",
       "       [666, 666, 666, 666, 666],\n",
       "       [666, 666, 666, 666, 666],\n",
       "       [666, 666, 666, 666, 666],\n",
       "       [666, 666, 666, 666, 666]])"
      ]
     },
     "execution_count": 7,
     "metadata": {},
     "output_type": "execute_result"
    }
   ],
   "source": [
    "C"
   ]
  },
  {
   "cell_type": "markdown",
   "id": "563a7295-970e-41da-9136-c8b41d379660",
   "metadata": {},
   "source": [
    "## 4. Create a list of (5,5) equal to identity matrix"
   ]
  },
  {
   "cell_type": "code",
   "execution_count": 8,
   "id": "3f8bd793-9306-403c-9164-d74ea8c0a60c",
   "metadata": {},
   "outputs": [],
   "source": [
    "D = np.eye(5)"
   ]
  },
  {
   "cell_type": "code",
   "execution_count": 9,
   "id": "0e131ef0-1ce5-425f-a54e-cdf97e279a73",
   "metadata": {},
   "outputs": [
    {
     "data": {
      "text/plain": [
       "array([[1., 0., 0., 0., 0.],\n",
       "       [0., 1., 0., 0., 0.],\n",
       "       [0., 0., 1., 0., 0.],\n",
       "       [0., 0., 0., 1., 0.],\n",
       "       [0., 0., 0., 0., 1.]])"
      ]
     },
     "execution_count": 9,
     "metadata": {},
     "output_type": "execute_result"
    }
   ],
   "source": [
    "D"
   ]
  },
  {
   "cell_type": "markdown",
   "id": "cb102276-1ced-4b57-bc6e-05d526383478",
   "metadata": {},
   "source": [
    "## 5. Test of function  \"add\" of numpy"
   ]
  },
  {
   "cell_type": "code",
   "execution_count": 11,
   "id": "59eb0906-0981-44ff-ac51-37fd6ff4093d",
   "metadata": {},
   "outputs": [],
   "source": [
    "E= np.add(C,D)"
   ]
  },
  {
   "cell_type": "code",
   "execution_count": 12,
   "id": "64ac42bf-a1b5-4070-91c5-b1555dad564b",
   "metadata": {},
   "outputs": [
    {
     "data": {
      "text/plain": [
       "array([[667., 666., 666., 666., 666.],\n",
       "       [666., 667., 666., 666., 666.],\n",
       "       [666., 666., 667., 666., 666.],\n",
       "       [666., 666., 666., 667., 666.],\n",
       "       [666., 666., 666., 666., 667.]])"
      ]
     },
     "execution_count": 12,
     "metadata": {},
     "output_type": "execute_result"
    }
   ],
   "source": [
    "E"
   ]
  },
  {
   "cell_type": "markdown",
   "id": "8800c909-4f19-4186-9307-c57517e520c5",
   "metadata": {},
   "source": [
    "### The function np.add(C,D) return a Matrix which is the sum of matrix C and D"
   ]
  },
  {
   "cell_type": "markdown",
   "id": "86f1b895-b03b-47e3-b72c-14a2cda71aa6",
   "metadata": {},
   "source": [
    "## 6. Test of numpy multiplication"
   ]
  },
  {
   "cell_type": "code",
   "execution_count": 13,
   "id": "a075e612-4f41-4389-84b5-1a49d8d2163a",
   "metadata": {},
   "outputs": [],
   "source": [
    "F = np.multiply(C,D)"
   ]
  },
  {
   "cell_type": "code",
   "execution_count": 14,
   "id": "1cd4aa0a-a3a9-40af-a456-2215f6ed1ac7",
   "metadata": {},
   "outputs": [
    {
     "data": {
      "text/plain": [
       "array([[666.,   0.,   0.,   0.,   0.],\n",
       "       [  0., 666.,   0.,   0.,   0.],\n",
       "       [  0.,   0., 666.,   0.,   0.],\n",
       "       [  0.,   0.,   0., 666.,   0.],\n",
       "       [  0.,   0.,   0.,   0., 666.]])"
      ]
     },
     "execution_count": 14,
     "metadata": {},
     "output_type": "execute_result"
    }
   ],
   "source": [
    "F\n"
   ]
  },
  {
   "cell_type": "markdown",
   "id": "ee833045-7a71-4542-9681-d4e67ad87fc2",
   "metadata": {},
   "source": [
    "### np.multiply is not a matrix product, it multiply terms at the same line and column"
   ]
  },
  {
   "cell_type": "markdown",
   "id": "c4252ab3-76ce-4696-9542-3021be8b0784",
   "metadata": {},
   "source": [
    "## 7. Create a list with random numbers"
   ]
  },
  {
   "cell_type": "code",
   "execution_count": 19,
   "id": "0d5a76ec-495b-48d7-90e0-63bb42f0fd13",
   "metadata": {},
   "outputs": [],
   "source": [
    "G = np.random.randint(0,9,(3,5))"
   ]
  },
  {
   "cell_type": "code",
   "execution_count": 20,
   "id": "9e3908db-ea7c-4735-a4f9-dd7de757111f",
   "metadata": {},
   "outputs": [
    {
     "data": {
      "text/plain": [
       "array([[0, 5, 1, 7, 1],\n",
       "       [7, 6, 6, 8, 4],\n",
       "       [5, 3, 2, 3, 5]])"
      ]
     },
     "execution_count": 20,
     "metadata": {},
     "output_type": "execute_result"
    }
   ],
   "source": [
    "G"
   ]
  },
  {
   "cell_type": "markdown",
   "id": "08809036-95a7-4f08-9d15-155eaff86b90",
   "metadata": {},
   "source": [
    "\n",
    "## 8. Sort the previous array per lines"
   ]
  },
  {
   "cell_type": "code",
   "execution_count": 21,
   "id": "5ea18c4e-18ef-4d3a-a2d1-6ec6975fd0ed",
   "metadata": {},
   "outputs": [],
   "source": [
    "H = np.sort(G,axis=0)"
   ]
  },
  {
   "cell_type": "code",
   "execution_count": 22,
   "id": "e843ca32-c687-4323-9ae3-5acc2205ed83",
   "metadata": {},
   "outputs": [
    {
     "data": {
      "text/plain": [
       "array([[0, 3, 1, 3, 1],\n",
       "       [5, 5, 2, 7, 4],\n",
       "       [7, 6, 6, 8, 5]])"
      ]
     },
     "execution_count": 22,
     "metadata": {},
     "output_type": "execute_result"
    }
   ],
   "source": [
    "H"
   ]
  },
  {
   "cell_type": "markdown",
   "id": "6c7f7582-148c-44fe-bdf1-f4515144da57",
   "metadata": {},
   "source": [
    "## 9. Sort the previous array per columns"
   ]
  },
  {
   "cell_type": "code",
   "execution_count": 24,
   "id": "3cd0c6fa-629d-4dc0-a140-ece120b7c44e",
   "metadata": {},
   "outputs": [],
   "source": [
    "I = np.sort(G,axis=1)"
   ]
  },
  {
   "cell_type": "code",
   "execution_count": 25,
   "id": "e18a321b-b2a2-4914-8df4-85ceff82dc7c",
   "metadata": {},
   "outputs": [
    {
     "data": {
      "text/plain": [
       "array([[0, 1, 1, 5, 7],\n",
       "       [4, 6, 6, 7, 8],\n",
       "       [2, 3, 3, 5, 5]])"
      ]
     },
     "execution_count": 25,
     "metadata": {},
     "output_type": "execute_result"
    }
   ],
   "source": [
    "I"
   ]
  },
  {
   "cell_type": "markdown",
   "id": "2f2b3b52-a3d2-41b2-be89-5898ab17650e",
   "metadata": {},
   "source": [
    "## 10. Sort all values"
   ]
  },
  {
   "cell_type": "code",
   "execution_count": 26,
   "id": "67258b9b-2dd5-4182-a53c-de92b07212b1",
   "metadata": {},
   "outputs": [],
   "source": [
    "J = np.sort(G)"
   ]
  },
  {
   "cell_type": "code",
   "execution_count": 27,
   "id": "8d95a811-5559-4034-94a3-eea387c4ac2f",
   "metadata": {},
   "outputs": [
    {
     "data": {
      "text/plain": [
       "array([[0, 1, 1, 5, 7],\n",
       "       [4, 6, 6, 7, 8],\n",
       "       [2, 3, 3, 5, 5]])"
      ]
     },
     "execution_count": 27,
     "metadata": {},
     "output_type": "execute_result"
    }
   ],
   "source": [
    "J"
   ]
  },
  {
   "cell_type": "markdown",
   "id": "5796d26d-a4c7-4f64-a7c8-776193dc629c",
   "metadata": {},
   "source": [
    "## 11. 1D array with values range from 0 to 35"
   ]
  },
  {
   "cell_type": "code",
   "execution_count": 33,
   "id": "93aa8a06-908b-428e-a9c4-fdaf8c45d214",
   "metadata": {},
   "outputs": [],
   "source": [
    "K = np.arange(0,36)\n"
   ]
  },
  {
   "cell_type": "code",
   "execution_count": 34,
   "id": "d547ef85-c44a-429f-8f9f-a3b0c7d1887f",
   "metadata": {},
   "outputs": [
    {
     "data": {
      "text/plain": [
       "array([ 0,  1,  2,  3,  4,  5,  6,  7,  8,  9, 10, 11, 12, 13, 14, 15, 16,\n",
       "       17, 18, 19, 20, 21, 22, 23, 24, 25, 26, 27, 28, 29, 30, 31, 32, 33,\n",
       "       34, 35])"
      ]
     },
     "execution_count": 34,
     "metadata": {},
     "output_type": "execute_result"
    }
   ],
   "source": [
    "K"
   ]
  },
  {
   "cell_type": "markdown",
   "id": "a3e0d29c-5376-46a9-abc8-fc486d1b332a",
   "metadata": {},
   "source": [
    "## 12. Reshape the previous array"
   ]
  },
  {
   "cell_type": "code",
   "execution_count": 39,
   "id": "ea8b5a20-2995-4c00-bca3-1a3606953ef2",
   "metadata": {},
   "outputs": [],
   "source": [
    "L = np.reshape(K,(4,9))"
   ]
  },
  {
   "cell_type": "code",
   "execution_count": 40,
   "id": "216be574-a763-42b6-b72a-6149f3c0281a",
   "metadata": {},
   "outputs": [
    {
     "data": {
      "text/plain": [
       "array([[ 0,  1,  2,  3,  4,  5,  6,  7,  8],\n",
       "       [ 9, 10, 11, 12, 13, 14, 15, 16, 17],\n",
       "       [18, 19, 20, 21, 22, 23, 24, 25, 26],\n",
       "       [27, 28, 29, 30, 31, 32, 33, 34, 35]])"
      ]
     },
     "execution_count": 40,
     "metadata": {},
     "output_type": "execute_result"
    }
   ],
   "source": [
    "L"
   ]
  },
  {
   "cell_type": "markdown",
   "id": "6c6b18c5-826b-4338-9c91-3bae0e2911f0",
   "metadata": {},
   "source": [
    "## 13. Extract From L an array of (2,3)"
   ]
  },
  {
   "cell_type": "code",
   "execution_count": 42,
   "id": "91f1c360-28fc-495a-9ac5-e2161f3ffb17",
   "metadata": {},
   "outputs": [],
   "source": [
    "M = L[:2,:3]"
   ]
  },
  {
   "cell_type": "code",
   "execution_count": 43,
   "id": "9861caaa-e654-417b-89dc-efe5275bec09",
   "metadata": {},
   "outputs": [
    {
     "data": {
      "text/plain": [
       "array([[ 0,  1,  2],\n",
       "       [ 9, 10, 11]])"
      ]
     },
     "execution_count": 43,
     "metadata": {},
     "output_type": "execute_result"
    }
   ],
   "source": [
    "M"
   ]
  },
  {
   "cell_type": "markdown",
   "id": "45f22fa6-9893-484b-8883-aa8c45de8ecf",
   "metadata": {},
   "source": [
    "## 14. Show attributes "
   ]
  },
  {
   "cell_type": "markdown",
   "id": "31ee79f8-81e4-4388-8100-481f01ada94a",
   "metadata": {},
   "source": [
    "### Shape"
   ]
  },
  {
   "cell_type": "code",
   "execution_count": 44,
   "id": "da03bf5e-50f9-4813-9fc3-84a887fad52a",
   "metadata": {},
   "outputs": [
    {
     "data": {
      "text/plain": [
       "(2, 3)"
      ]
     },
     "execution_count": 44,
     "metadata": {},
     "output_type": "execute_result"
    }
   ],
   "source": [
    "M.shape"
   ]
  },
  {
   "cell_type": "code",
   "execution_count": 48,
   "id": "e680babf-7497-4682-aa8d-4550a9f57ddb",
   "metadata": {},
   "outputs": [
    {
     "data": {
      "text/plain": [
       "(4, 9)"
      ]
     },
     "execution_count": 48,
     "metadata": {},
     "output_type": "execute_result"
    }
   ],
   "source": [
    "L.shape"
   ]
  },
  {
   "cell_type": "markdown",
   "id": "bdf2e747-6572-421d-88bf-820d09a10665",
   "metadata": {},
   "source": [
    "### Size"
   ]
  },
  {
   "cell_type": "code",
   "execution_count": 45,
   "id": "bba577d3-f662-4ff8-bd24-68713b7c6bac",
   "metadata": {},
   "outputs": [
    {
     "data": {
      "text/plain": [
       "6"
      ]
     },
     "execution_count": 45,
     "metadata": {},
     "output_type": "execute_result"
    }
   ],
   "source": [
    "M.size"
   ]
  },
  {
   "cell_type": "code",
   "execution_count": 49,
   "id": "35bdb33c-1abc-4187-839f-43a8853cbddd",
   "metadata": {},
   "outputs": [
    {
     "data": {
      "text/plain": [
       "36"
      ]
     },
     "execution_count": 49,
     "metadata": {},
     "output_type": "execute_result"
    }
   ],
   "source": [
    "L.size"
   ]
  },
  {
   "cell_type": "markdown",
   "id": "bdca5588-ea57-4532-b2f0-753b60713cdc",
   "metadata": {},
   "source": [
    "### Dimension\n"
   ]
  },
  {
   "cell_type": "code",
   "execution_count": 46,
   "id": "e2cfa089-dfb8-463b-9c96-fe306d26c6eb",
   "metadata": {},
   "outputs": [
    {
     "data": {
      "text/plain": [
       "2"
      ]
     },
     "execution_count": 46,
     "metadata": {},
     "output_type": "execute_result"
    }
   ],
   "source": [
    "M.ndim"
   ]
  },
  {
   "cell_type": "code",
   "execution_count": 50,
   "id": "5e457a8e-1464-42cb-82f0-dfd90bc8c086",
   "metadata": {},
   "outputs": [
    {
     "data": {
      "text/plain": [
       "2"
      ]
     },
     "execution_count": 50,
     "metadata": {},
     "output_type": "execute_result"
    }
   ],
   "source": [
    "L.ndim"
   ]
  },
  {
   "cell_type": "markdown",
   "id": "2ace7426-4ea9-4179-8710-3e197acdda89",
   "metadata": {},
   "source": [
    "### Type"
   ]
  },
  {
   "cell_type": "code",
   "execution_count": 47,
   "id": "7a082056-b943-4ac3-a2e2-4de9b681c5ba",
   "metadata": {},
   "outputs": [
    {
     "data": {
      "text/plain": [
       "dtype('int32')"
      ]
     },
     "execution_count": 47,
     "metadata": {},
     "output_type": "execute_result"
    }
   ],
   "source": [
    "M.dtype"
   ]
  },
  {
   "cell_type": "code",
   "execution_count": 51,
   "id": "e4c2d43a-197a-4edd-8b2a-ed70354b37ed",
   "metadata": {},
   "outputs": [
    {
     "data": {
      "text/plain": [
       "dtype('int32')"
      ]
     },
     "execution_count": 51,
     "metadata": {},
     "output_type": "execute_result"
    }
   ],
   "source": [
    "L.dtype"
   ]
  },
  {
   "cell_type": "markdown",
   "id": "327e76cc-6d91-44ba-bd83-54d260957ff3",
   "metadata": {},
   "source": [
    "## 15. Evaluate 2L"
   ]
  },
  {
   "cell_type": "code",
   "execution_count": 59,
   "id": "1189d6be-f423-477d-bbb0-51fdeb13c1eb",
   "metadata": {},
   "outputs": [],
   "source": [
    "N = 2*L"
   ]
  },
  {
   "cell_type": "code",
   "execution_count": 60,
   "id": "fb623059-c745-48e6-8c4b-62d39644ffeb",
   "metadata": {},
   "outputs": [
    {
     "data": {
      "text/plain": [
       "array([[ 0,  1,  2,  3,  4,  5,  6,  7,  8],\n",
       "       [ 9, 10, 11, 12, 13, 14, 15, 16, 17],\n",
       "       [18, 19, 20, 21, 22, 23, 24, 25, 26],\n",
       "       [27, 28, 29, 30, 31, 32, 33, 34, 35]])"
      ]
     },
     "execution_count": 60,
     "metadata": {},
     "output_type": "execute_result"
    }
   ],
   "source": [
    "L"
   ]
  },
  {
   "cell_type": "code",
   "execution_count": 61,
   "id": "78f66fcd-3cd2-4ecc-a94c-2d09d6b56cf9",
   "metadata": {},
   "outputs": [
    {
     "data": {
      "text/plain": [
       "array([[ 0,  2,  4,  6,  8, 10, 12, 14, 16],\n",
       "       [18, 20, 22, 24, 26, 28, 30, 32, 34],\n",
       "       [36, 38, 40, 42, 44, 46, 48, 50, 52],\n",
       "       [54, 56, 58, 60, 62, 64, 66, 68, 70]])"
      ]
     },
     "execution_count": 61,
     "metadata": {},
     "output_type": "execute_result"
    }
   ],
   "source": [
    "N"
   ]
  },
  {
   "cell_type": "markdown",
   "id": "46d315f8-995c-4eb9-93cf-de594872115a",
   "metadata": {},
   "source": [
    "## 16. Sum lines"
   ]
  },
  {
   "cell_type": "code",
   "execution_count": 66,
   "id": "42986a3e-5aec-4bc3-b9e4-091a622476f9",
   "metadata": {},
   "outputs": [],
   "source": [
    "O = np.sum(L, axis=0)"
   ]
  },
  {
   "cell_type": "code",
   "execution_count": 67,
   "id": "73cb9534-f6e1-4bd0-9035-71f6e66b237f",
   "metadata": {},
   "outputs": [
    {
     "data": {
      "text/plain": [
       "array([54, 58, 62, 66, 70, 74, 78, 82, 86])"
      ]
     },
     "execution_count": 67,
     "metadata": {},
     "output_type": "execute_result"
    }
   ],
   "source": [
    "O\n"
   ]
  },
  {
   "cell_type": "markdown",
   "id": "c818e12b-6b96-4190-9a9b-5bfa1b8ac589",
   "metadata": {},
   "source": [
    "## 17. Sum columns"
   ]
  },
  {
   "cell_type": "code",
   "execution_count": 73,
   "id": "2ed2df55-ad14-49c2-aecd-d3a72a2b66e1",
   "metadata": {},
   "outputs": [],
   "source": [
    "P = np.sum(L,axis=1)"
   ]
  },
  {
   "cell_type": "code",
   "execution_count": 74,
   "id": "987fb41b-8bc3-419c-9c9a-57c7738b9795",
   "metadata": {},
   "outputs": [
    {
     "data": {
      "text/plain": [
       "array([ 36, 117, 198, 279])"
      ]
     },
     "execution_count": 74,
     "metadata": {},
     "output_type": "execute_result"
    }
   ],
   "source": [
    "P"
   ]
  },
  {
   "cell_type": "markdown",
   "id": "27337422-0801-47e6-bf5e-3d896509fdec",
   "metadata": {},
   "source": [
    "## 18. Sum all"
   ]
  },
  {
   "cell_type": "code",
   "execution_count": 75,
   "id": "e93f34bb-ac0b-4a9b-943a-8f1737b4363f",
   "metadata": {},
   "outputs": [],
   "source": [
    "Q = np.sum(L)"
   ]
  },
  {
   "cell_type": "code",
   "execution_count": 76,
   "id": "0d306cee-2ffe-4a40-ac0a-d812569e6ddd",
   "metadata": {},
   "outputs": [
    {
     "data": {
      "text/plain": [
       "630"
      ]
     },
     "execution_count": 76,
     "metadata": {},
     "output_type": "execute_result"
    }
   ],
   "source": [
    "Q"
   ]
  },
  {
   "cell_type": "markdown",
   "id": "343dd74a-7022-41d0-b317-68cc6cb0164f",
   "metadata": {},
   "source": [
    "## 19. Replace value  "
   ]
  },
  {
   "cell_type": "code",
   "execution_count": 79,
   "id": "25854337-284e-4acf-b3cb-b83325214fe7",
   "metadata": {},
   "outputs": [],
   "source": [
    "L[1][2] = 666"
   ]
  },
  {
   "cell_type": "code",
   "execution_count": 80,
   "id": "5b296647-dcea-4463-a617-84b17ea228d5",
   "metadata": {},
   "outputs": [
    {
     "data": {
      "text/plain": [
       "array([[  0,   1,   2,   3,   4,   5,   6,   7,   8],\n",
       "       [  9,  10, 666,  12,  13,  14,  15,  16,  17],\n",
       "       [ 18,  19,  20, 666,  22,  23,  24,  25,  26],\n",
       "       [ 27,  28,  29,  30,  31,  32,  33,  34,  35]])"
      ]
     },
     "execution_count": 80,
     "metadata": {},
     "output_type": "execute_result"
    }
   ],
   "source": [
    "L"
   ]
  },
  {
   "cell_type": "code",
   "execution_count": 81,
   "id": "757e48b9-e38c-46c0-9d3a-420f3c16922b",
   "metadata": {},
   "outputs": [
    {
     "data": {
      "text/plain": [
       "array([  0,   1,   2,   3,   4,   5,   6,   7,   8,   9,  10, 666,  12,\n",
       "        13,  14,  15,  16,  17,  18,  19,  20, 666,  22,  23,  24,  25,\n",
       "        26,  27,  28,  29,  30,  31,  32,  33,  34,  35])"
      ]
     },
     "execution_count": 81,
     "metadata": {},
     "output_type": "execute_result"
    }
   ],
   "source": [
    "K"
   ]
  },
  {
   "cell_type": "markdown",
   "id": "56f92c48-2705-49a4-9cfe-09ba57ac0976",
   "metadata": {},
   "source": [
    "### K is modify as L. L is a reference of K"
   ]
  },
  {
   "cell_type": "markdown",
   "id": "7c035883-36a6-4ca3-a716-ff95679c641c",
   "metadata": {},
   "source": [
    "## 20. Extract an array from L"
   ]
  },
  {
   "cell_type": "code",
   "execution_count": 84,
   "id": "b76315f8-bf78-4064-a053-3643845baa3e",
   "metadata": {},
   "outputs": [],
   "source": [
    "R = L[1:3,2:6]"
   ]
  },
  {
   "cell_type": "code",
   "execution_count": 85,
   "id": "de48d149-78a6-4909-acff-4a5525a13850",
   "metadata": {},
   "outputs": [
    {
     "data": {
      "text/plain": [
       "array([[666,  12,  13,  14],\n",
       "       [ 20, 666,  22,  23]])"
      ]
     },
     "execution_count": 85,
     "metadata": {},
     "output_type": "execute_result"
    }
   ],
   "source": [
    "R"
   ]
  },
  {
   "cell_type": "code",
   "execution_count": null,
   "id": "f7452be6-bd70-4ede-9951-f6720eae1278",
   "metadata": {},
   "outputs": [],
   "source": []
  }
 ],
 "metadata": {
  "kernelspec": {
   "display_name": "Python 3 (ipykernel)",
   "language": "python",
   "name": "python3"
  },
  "language_info": {
   "codemirror_mode": {
    "name": "ipython",
    "version": 3
   },
   "file_extension": ".py",
   "mimetype": "text/x-python",
   "name": "python",
   "nbconvert_exporter": "python",
   "pygments_lexer": "ipython3",
   "version": "3.11.8"
  }
 },
 "nbformat": 4,
 "nbformat_minor": 5
}
