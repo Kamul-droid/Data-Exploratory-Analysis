{
 "cells": [
  {
   "cell_type": "code",
   "execution_count": null,
   "id": "d83f163e-a5bc-4f6a-bc42-ae6ba7d63596",
   "metadata": {},
   "outputs": [],
   "source": []
  },
  {
   "cell_type": "code",
   "execution_count": 1,
   "id": "9f3c3d96-8a0f-4bd1-bd58-67edb6c88edd",
   "metadata": {
    "tags": []
   },
   "outputs": [
    {
     "name": "stdout",
     "output_type": "stream",
     "text": [
      " A  [[0 0 0 0 0]\n",
      " [0 0 0 0 0]\n",
      " [0 0 0 0 0]]\n",
      "B  [[1 1 1 1]\n",
      " [1 1 1 1]\n",
      " [1 1 1 1]\n",
      " [1 1 1 1]\n",
      " [1 1 1 1]]\n",
      "C  [[666 666 666 666 666]\n",
      " [666 666 666 666 666]\n",
      " [666 666 666 666 666]\n",
      " [666 666 666 666 666]\n",
      " [666 666 666 666 666]]\n"
     ]
    }
   ],
   "source": [
    "import numpy as np\n",
    "import pandas as pd\n",
    "# Création du tableau A de 3 lignes et 5 colonnes avec des zéros\n",
    "A = np.zeros((3, 5), dtype=int)\n",
    "\n",
    "# Création du tableau B de 5 lignes et 4 colonnes avec des uns\n",
    "B = np.ones((5, 4), dtype=int)\n",
    "\n",
    "# Création du tableau C de 5 lignes et 5 colonnes avec des 666\n",
    "C = np.full((5, 5), 666, dtype=int)\n",
    "\n",
    "print(\" A \", A)\n",
    "print(\"B \", B)\n",
    "print(\"C \", C)"
   ]
  },
  {
   "cell_type": "code",
   "execution_count": 4,
   "id": "179c7d14-5e36-441c-8c64-775d69c8ecae",
   "metadata": {
    "tags": []
   },
   "outputs": [
    {
     "name": "stdout",
     "output_type": "stream",
     "text": [
      " D \n",
      " [[1 0 0 0 0]\n",
      " [0 1 0 0 0]\n",
      " [0 0 1 0 0]\n",
      " [0 0 0 1 0]\n",
      " [0 0 0 0 1]]\n",
      "\n",
      "E \n",
      " [[667 666 666 666 666]\n",
      " [666 667 666 666 666]\n",
      " [666 666 667 666 666]\n",
      " [666 666 666 667 666]\n",
      " [666 666 666 666 667]]\n"
     ]
    }
   ],
   "source": [
    "# Création du tableau D de 5 lignes et 5 colonnes avec une diagonale de 1\n",
    "D = np.eye(5, dtype=int)\n",
    "print(\" D \\n\", D)\n",
    "\n",
    "# Calcul de la somme E de C et D\n",
    "E = np.add(C, D)\n",
    "print(\"E\", E)\n"
   ]
  },
  {
   "cell_type": "code",
   "execution_count": 5,
   "id": "c924a63e-5a3a-4240-bc3a-56cc75356429",
   "metadata": {
    "tags": []
   },
   "outputs": [
    {
     "name": "stdout",
     "output_type": "stream",
     "text": [
      "\n",
      " F \n",
      " [[666   0   0   0   0]\n",
      " [  0 666   0   0   0]\n",
      " [  0   0 666   0   0]\n",
      " [  0   0   0 666   0]\n",
      " [  0   0   0   0 666]]\n",
      " G \n",
      " [[5 1 2 3 0]\n",
      " [7 0 4 3 6]\n",
      " [1 6 7 4 8]]\n"
     ]
    }
   ],
   "source": [
    "# Calcul du produit F de C par D\n",
    "F = np.multiply(C, D)\n",
    "print(\"\\n F \\n\", F)\n",
    "\n",
    "G = np.random.randint(0, 10, size=(3, 5))\n",
    "print(\" G \\n\", G)"
   ]
  },
  {
   "cell_type": "code",
   "execution_count": 7,
   "id": "9e7dedb4-aebf-4f35-bd45-71d082560c2a",
   "metadata": {
    "tags": []
   },
   "outputs": [
    {
     "name": "stdout",
     "output_type": "stream",
     "text": [
      "\n",
      "Tableau H (G trié ligne par ligne) :\n",
      " [[0 1 2 3 5]\n",
      " [0 3 4 6 7]\n",
      " [1 4 6 7 8]]\n",
      "\n",
      " I \n",
      " [[1 0 2 3 0]\n",
      " [5 1 4 3 6]\n",
      " [7 6 7 4 8]]\n",
      "\n",
      " J \n",
      " [0 0 1 1 2 3 3 4 4 5 6 6 7 7 8]\n"
     ]
    }
   ],
   "source": [
    "# Tri de G ligne par ligne \n",
    "H = np.sort(G, axis=1)\n",
    "\n",
    "# Affichage du résultat H (G trié ligne par ligne)\n",
    "print(\"\\nTableau H (G trié ligne par ligne):\\n\", H)\n",
    "\n",
    "# Tri de G colonne par colonne \n",
    "I = np.sort(G, axis=0)\n",
    "\n",
    "# Affichage du résultat I (G trié colonne par colonne)\n",
    "print(\"\\n I \\n\", I)\n",
    "\n",
    "# Tri de l'ensemble des valeurs de G \n",
    "J = np.sort(G, axis=None)\n",
    "\n",
    "# Affichage du résultat J \n",
    "print(\"\\n J \\n\", J)\n",
    "\n"
   ]
  },
  {
   "cell_type": "code",
   "execution_count": 8,
   "id": "6c3f5475-9930-4b80-8324-cf0e794c6636",
   "metadata": {
    "tags": []
   },
   "outputs": [
    {
     "name": "stdout",
     "output_type": "stream",
     "text": [
      "[ 0  1  2  3  4  5  6  7  8  9 10 11 12 13 14 15 16 17 18 19 20 21 22 23\n",
      " 24 25 26 27 28 29 30 31 32 33 34 35]\n",
      "[[ 0  1  2  3  4  5  6  7  8]\n",
      " [ 9 10 11 12 13 14 15 16 17]\n",
      " [18 19 20 21 22 23 24 25 26]\n",
      " [27 28 29 30 31 32 33 34 35]]\n",
      "[[ 0  1  2]\n",
      " [ 9 10 11]]\n",
      "Shape de L: (4, 9)\n",
      "Size de L: 36\n",
      "Nombre de dimensions de L: 2\n",
      "Type de données de L: int64\n",
      "K après modification de L: [  0   1   2   3   4   5   6   7   8   9  10 666  12  13  14  15  16  17\n",
      "  18  19  20  21  22  23  24  25  26  27  28  29  30  31  32  33  34  35]\n",
      "Tableau M:\n",
      "[[  0   1   2]\n",
      " [  9  10 666]]\n",
      "\n",
      "Tableau N:\n",
      "[[ 0  2  4  6  8 10 12 14 16]\n",
      " [18 20 22 24 26 28 30 32 34]\n",
      " [36 38 40 42 44 46 48 50 52]\n",
      " [54 56 58 60 62 64 66 68 70]]\n",
      "\n",
      "Tableau O:\n",
      "[ 36 117 198 279]\n",
      "\n",
      "Tableau P:\n",
      "[54 58 62 66 70 74 78 82 86]\n",
      "\n",
      "Tableau Q:\n",
      "630\n",
      "\n",
      "Tableau R:\n",
      "[[12 13 14 15]\n",
      " [21 22 23 24]]\n"
     ]
    }
   ],
   "source": [
    "# Créer un tableau unidimensionnel K avec tous les entiers de 0 à 35\n",
    "K = np.arange(36)\n",
    "print(K)\n",
    "# Restructurer K sous la forme d'un tableau L de 4 lignes et 9 colonnes\n",
    "L = K.reshape(4, 9)\n",
    "print(L)\n",
    "# Tronquer L sous la forme d'un tableau M de 2 lignes et 3 colonnes\n",
    "M = L[:2, :3]\n",
    "print(M)\n",
    "# Afficher les attributs shape, size, ndim et dtype de L\n",
    "print(\"Shape de L:\", L.shape)\n",
    "print(\"Size de L:\", L.size)\n",
    "print(\"Nombre de dimensions de L:\", L.ndim)\n",
    "print(\"Type de données de L:\", L.dtype)\n",
    "\n",
    "# Calculer le tableau N dont les valeurs sont le double de celles de L\n",
    "N = 2 * L\n",
    "\n",
    "# Utiliser la méthode \"sum\" de Numpy pour additionner les valeurs de L ligne par ligne\n",
    "O = np.sum(L, axis=1)\n",
    "\n",
    "# Utiliser la méthode \"sum\" de Numpy pour additionner les valeurs de L colonne par colonne\n",
    "P = np.sum(L, axis=0)\n",
    "\n",
    "# Utiliser la méthode \"sum\" de Numpy pour additionner l'ensemble des valeurs de L\n",
    "Q = np.sum(L)\n",
    "\n",
    "# Remplacer la valeur située sur la 2-ème ligne et 3-ème colonne de L par 666\n",
    "L[1, 2] = 666\n",
    "\n",
    "# Afficher K pour constater les modifications\n",
    "print(\"K après modification de L:\", K)\n",
    "\n",
    "# Créer un tableau R contenant les valeurs de L situées entre les lignes 2 et 3 et les colonnes 3 à 6 (incluses)\n",
    "R = L[1:3, 3:7]\n",
    "\n",
    "# Afficher les tableaux M, N, O, P, Q, et R\n",
    "print(\"Tableau M:\")\n",
    "print(M)\n",
    "print(\"\\nTableau N:\")\n",
    "print(N)\n",
    "print(\"\\nTableau O:\")\n",
    "print(O)\n",
    "print(\"\\nTableau P:\")\n",
    "print(P)\n",
    "print(\"\\nTableau Q:\")\n",
    "print(Q)\n",
    "print(\"\\nTableau R:\")\n",
    "print(R)\n"
   ]
  },
  {
   "cell_type": "code",
   "execution_count": 14,
   "id": "09726828-192d-48ab-870a-f738aa58fe7e",
   "metadata": {
    "tags": []
   },
   "outputs": [
    {
     "name": "stdout",
     "output_type": "stream",
     "text": [
      "[[ 1]\n",
      " [ 0]\n",
      " [-3]\n",
      " [ 2]]\n",
      "[[ 1]\n",
      " [-1]\n",
      " [-2]\n",
      " [ 2]]\n",
      "Produit scalaire de u et v [[11]]\n",
      "Norme de Manhattan de u 6.0\n",
      "Norme de Manhattan de v 6.0\n",
      "Norme Euclidienne de u 3.7416573867739413\n",
      "Norme Euclidienne de v 3.1622776601683795\n",
      "Norme de Chebyshev de u  3.0\n",
      "Norme de Chebyshev de v  2.0\n"
     ]
    }
   ],
   "source": [
    "# Les vecteurs u et v\n",
    "u = np.array([[1], [0], [-3], [2]])\n",
    "print(u)\n",
    "v = np.array([[1], [-1], [-2], [2]])\n",
    "print(v)\n",
    "#produit scalaire euclidien de u et v\n",
    "p_s = np.dot(u.T, v)\n",
    "print(\"Produit scalaire de u et v\", p_s)\n",
    "\n",
    "# Calcul des normes de u et v\n",
    "norme_m_u = np.linalg.norm(u, ord=1)\n",
    "norme_m_v = np.linalg.norm(v, ord=1)\n",
    "norme_e_u = np.linalg.norm(u, ord=2)\n",
    "norme_e_v = np.linalg.norm(v, ord=2)\n",
    "norme_c_u = np.linalg.norm(u, ord=np.inf)\n",
    "norme_c_v = np.linalg.norm(v, ord=np.inf)\n",
    "\n",
    "print(\"Norme de Manhattan de u\", norme_m_u)\n",
    "print(\"Norme de Manhattan de v\", norme_m_v)\n",
    "print(\"Norme Euclidienne de u\", norme_e_u)\n",
    "print(\"Norme Euclidienne de v\", norme_e_v)\n",
    "print(\"Norme de Chebyshev de u \", norme_c_u)\n",
    "print(\"Norme de Chebyshev de v \", norme_c_v)"
   ]
  },
  {
   "cell_type": "code",
   "execution_count": 15,
   "id": "3c5d9ae9-7119-4f52-9c0c-84521e125e43",
   "metadata": {
    "tags": []
   },
   "outputs": [
    {
     "name": "stdout",
     "output_type": "stream",
     "text": [
      "Produit C = AB [[ 0  4 -4]\n",
      " [-6 11  4]\n",
      " [-6  7  8]]\n",
      "Produit D = BA [[ 4  0]\n",
      " [ 3 15]]\n"
     ]
    }
   ],
   "source": [
    "#la matrice A \n",
    "A = np.array([[-2, 0],[-1, 3], [1, 3]])\n",
    "             \n",
    "# la matrice B \n",
    "B = np.array([[0, -2, 2],[-2, 3, 2]])\n",
    "             \n",
    "# C = AB\n",
    "C = np.dot(A, B)\n",
    "# D = BA\n",
    "D = np.dot(B, A)\n",
    "print(\"Produit C = AB\", C)\n",
    "print(\"Produit D = BA\", D)\n"
   ]
  },
  {
   "cell_type": "code",
   "execution_count": 16,
   "id": "6d29d667-2ebe-477f-a788-42263ddca8d8",
   "metadata": {
    "tags": []
   },
   "outputs": [
    {
     "name": "stdout",
     "output_type": "stream",
     "text": [
      "Déterminant de E : 5.000000000000003\n",
      "Inverse de E [[-0.6  1.   0.8]\n",
      " [ 1.  -1.  -1. ]\n",
      " [ 1.2 -1.  -1.6]]\n"
     ]
    }
   ],
   "source": [
    "#La matrice E\n",
    "E = np.array([[3, 4, -1],[2, 0, 1],[1, 3, -2]])\n",
    "# Dterminant de E\n",
    "det_E = np.linalg.det(E)\n",
    "# Inverse de E\n",
    "inv_E = np.linalg.inv(E)\n",
    "\n",
    "print(\"Déterminant de E :\", det_E)\n",
    "print(\"Inverse de E\", inv_E)\n"
   ]
  },
  {
   "cell_type": "code",
   "execution_count": 19,
   "id": "b8696fd8-5d62-4dc6-9d24-aea8a0d6a5a0",
   "metadata": {
    "tags": []
   },
   "outputs": [
    {
     "name": "stdout",
     "output_type": "stream",
     "text": [
      "Valeurs propres de F  [ 3.00000000e+00  1.00000000e+00 -3.36770206e-17]\n",
      "Vecteurs propres de F [[-4.08248290e-01 -7.07106781e-01 -5.77350269e-01]\n",
      " [ 8.16496581e-01  2.61214948e-16 -5.77350269e-01]\n",
      " [ 4.08248290e-01 -7.07106781e-01  5.77350269e-01]]\n"
     ]
    }
   ],
   "source": [
    "# La matrice F\n",
    "F = np.array([[1, -1, 0],[-1, 2, 1], [0, 1, 1]])\n",
    "\n",
    "# Calcul des valeurs propres et vecteurs propres de F\n",
    "valeurs_p, vecteurs_p = np.linalg.eig(F)\n",
    "\n",
    "print(\"Valeurs propres de F \", valeurs_p)\n",
    "print(\"Vecteurs propres de F\", vecteurs_p)"
   ]
  },
  {
   "cell_type": "code",
   "execution_count": 20,
   "id": "946af588-08ef-4a13-aad6-c6cc72298bb7",
   "metadata": {
    "tags": []
   },
   "outputs": [
    {
     "name": "stdout",
     "output_type": "stream",
     "text": [
      "Matrice G (F puissance 666) :\n",
      " [[ 7128986253539690578  4188771566630170461 -7128986253539690577]\n",
      " [ 4188771566630170461 -8377543133260340922 -4188771566630170461]\n",
      " [-7128986253539690577 -4188771566630170461  7128986253539690578]]\n"
     ]
    }
   ],
   "source": [
    "\n",
    "# La puissance 666 de la matrice F\n",
    "G = np.linalg.matrix_power(F, 666)\n",
    "\n",
    "print(\"Matrice G \", G)\n"
   ]
  },
  {
   "cell_type": "markdown",
   "id": "36d5133e-3082-4f09-8def-5d74ce1961c7",
   "metadata": {},
   "source": [
    "## PANDAS"
   ]
  },
  {
   "cell_type": "code",
   "execution_count": 28,
   "id": "a808e695-d379-4e0a-8abb-59574e571d8c",
   "metadata": {
    "tags": []
   },
   "outputs": [
    {
     "name": "stdout",
     "output_type": "stream",
     "text": [
      "0    20\n",
      "1    11\n",
      "2    21\n",
      "3    20\n",
      "4    12\n",
      "5    14\n",
      "dtype: int64\n"
     ]
    }
   ],
   "source": [
    "# La série w\n",
    "w = pd.Series([20, 11, 21, 20, 12, 14])\n",
    "print(w)"
   ]
  },
  {
   "cell_type": "code",
   "execution_count": 29,
   "id": "48399bff-cbc2-4d0d-b84c-096340c862be",
   "metadata": {
    "tags": []
   },
   "outputs": [
    {
     "name": "stdout",
     "output_type": "stream",
     "text": [
      "Série w\n",
      " Federer     20\n",
      "Borg        11\n",
      "Nadal       21\n",
      "Djokovic    20\n",
      "Emerson     12\n",
      "Sampras     14\n",
      "dtype: int64\n",
      "Nouvelle série w1\n",
      " Federer     20\n",
      "Borg        11\n",
      "Nadal       21\n",
      "Djokovic    20\n",
      "Emerson     12\n",
      "Sampras     14\n",
      "dtype: int64\n",
      "La série w2\n",
      " Federer     20\n",
      "Borg        11\n",
      "Nadal       21\n",
      "Djokovic    20\n",
      "Emerson     12\n",
      "Sampras     14\n",
      "dtype: int64\n"
     ]
    }
   ],
   "source": [
    "# Renommer les index de w\n",
    "w.rename(index={0: 'Federer', 1: 'Borg', 2: 'Nadal', 3: 'Djokovic', 4: 'Emerson', 5: 'Sampras'}, inplace=True)\n",
    "print(\"Série w\\n\", w)\n",
    "\n",
    "# Nouvelle série w1 en spécifiant les index\n",
    "w1 = pd.Series([20, 11, 21, 20, 12, 14], index=['Federer', 'Borg', 'Nadal', 'Djokovic', 'Emerson', 'Sampras'])\n",
    "print(\"Nouvelle série w1\\n\", w1)\n",
    "\n",
    "# Création de w2 en passant un dictionnaire en paramètre\n",
    "Valeurs = {'Federer': 20, 'Borg': 11, 'Nadal': 21, 'Djokovic': 20, 'Emerson': 12, 'Sampras': 14}\n",
    "w2 = pd.Series(Valeurs)\n",
    "print(\"La série w2\\n\", w2)"
   ]
  },
  {
   "cell_type": "code",
   "execution_count": 18,
   "id": "00c999a0-78e0-4e10-92bb-22dafbb3aa99",
   "metadata": {
    "tags": []
   },
   "outputs": [
    {
     "name": "stdout",
     "output_type": "stream",
     "text": [
      "Valeur de l'index 'Borg' avec loc : 11\n",
      "Valeur à la position 1 (correspondant à 'Borg') avec iloc : 11\n"
     ]
    }
   ],
   "source": [
    "#loc pour accéder à la valeur d'index 'Borg'\n",
    "borg_loc = w.loc['Borg']\n",
    "print(\"Index Borg\", borg_loc)\n",
    "\n",
    "#iloc pour accéder à la valeur à la deuxième position\n",
    "borg_iloc = w.iloc[1]\n",
    "print(\"la valeur à la position 1\", borg_iloc)"
   ]
  },
  {
   "cell_type": "code",
   "execution_count": 17,
   "id": "bbc5e265-c6f3-42c4-a564-23786cfec111",
   "metadata": {
    "tags": []
   },
   "outputs": [
    {
     "name": "stdout",
     "output_type": "stream",
     "text": [
      "Valeurs de 'Borg' à 'Emerson' avec iloc :\n",
      " 1    11\n",
      "2    21\n",
      "3    20\n",
      "4    12\n",
      "dtype: int64\n"
     ]
    }
   ],
   "source": [
    "valeurs_iloc = w.iloc[1:5]\n",
    "print(\"Valeurs de 'Borg' à 'Emerson' avec iloc :\\n\", valeurs_borg_emerson_iloc)"
   ]
  },
  {
   "cell_type": "code",
   "execution_count": 20,
   "id": "3fbc48cd-350c-4f03-bfb6-f83eb4f5dc9e",
   "metadata": {
    "tags": []
   },
   "outputs": [
    {
     "name": "stdout",
     "output_type": "stream",
     "text": [
      "          Number Nationality  Born\n",
      "Federer       20       Swiss  1981\n",
      "Borg          11      Sweden  1956\n",
      "Nadal         21       Spain  1986\n",
      "Djokovic      20      Serbia  1987\n",
      "Emerson       12   Australia  1936\n",
      "Sampras       14         USA  1971\n",
      "Laver         11   Australia  1938\n",
      "Shape: (7, 3)\n",
      "Size: 21\n",
      "Ndim: 2\n",
      "Dtypes: Number          int64\n",
      "Nationality    object\n",
      "Born            int64\n",
      "dtype: object\n",
      "Index: Index(['Federer', 'Borg', 'Nadal', 'Djokovic', 'Emerson', 'Sampras', 'Laver'], dtype='object')\n",
      "Values: [[20 'Swiss' 1981]\n",
      " [11 'Sweden' 1956]\n",
      " [21 'Spain' 1986]\n",
      " [20 'Serbia' 1987]\n",
      " [12 'Australia' 1936]\n",
      " [14 'USA' 1971]\n",
      " [11 'Australia' 1938]]\n",
      "Columns: Index(['Number', 'Nationality', 'Born'], dtype='object')\n",
      "\n",
      "Info:\n",
      "<class 'pandas.core.frame.DataFrame'>\n",
      "Index: 7 entries, Federer to Laver\n",
      "Data columns (total 3 columns):\n",
      " #   Column       Non-Null Count  Dtype \n",
      "---  ------       --------------  ----- \n",
      " 0   Number       7 non-null      int64 \n",
      " 1   Nationality  7 non-null      object\n",
      " 2   Born         7 non-null      int64 \n",
      "dtypes: int64(2), object(1)\n",
      "memory usage: 224.0+ bytes\n"
     ]
    }
   ],
   "source": [
    "import pandas as pd\n",
    "\n",
    "data = {\n",
    "    'Number': [20, 11, 21, 20, 12, 14, 11],\n",
    "    'Nationality': [\"Swiss\", \"Sweden\", \"Spain\", \"Serbia\", \"Australia\", \"USA\", \"Australia\"],\n",
    "    'Born': [1981, 1956, 1986, 1987, 1936, 1971, 1938]\n",
    "}\n",
    "index_data = [\"Federer\", \"Borg\", \"Nadal\", \"Djokovic\", \"Emerson\", \"Sampras\", \"Laver\"]\n",
    "\n",
    "# Création du DataFrame à partir du dictionnaire \n",
    "best = pd.DataFrame(data, index=index_data)\n",
    "print(best)\n",
    "\n",
    "# Affichage des attributs\n",
    "print(\"Shape\", best.shape)\n",
    "print(\"Size\", best.size)\n",
    "print(\"Ndim\", best.ndim)\n",
    "print(\"Dtypes\", best.dtypes)\n",
    "print(\"Index\", best.index)\n",
    "print(\"Values\", best.values)\n",
    "print(\"Columns\", best.columns)\n",
    "\n",
    "print(\"Info\")\n",
    "best.info()\n"
   ]
  },
  {
   "cell_type": "code",
   "execution_count": 21,
   "id": "3963b1df-dec1-4309-8ca8-012577c31e1d",
   "metadata": {
    "tags": []
   },
   "outputs": [
    {
     "name": "stdout",
     "output_type": "stream",
     "text": [
      "Colonne 'Number' (syntaxe data['NomColonne']):\n",
      "Federer     20\n",
      "Borg        11\n",
      "Nadal       21\n",
      "Djokovic    20\n",
      "Emerson     12\n",
      "Sampras     14\n",
      "Laver       11\n",
      "Name: Number, dtype: int64\n",
      "\n",
      "Colonne 'Nationality' (syntaxe data.NomColonne):\n",
      "Federer         Swiss\n",
      "Borg           Sweden\n",
      "Nadal           Spain\n",
      "Djokovic       Serbia\n",
      "Emerson     Australia\n",
      "Sampras           USA\n",
      "Laver       Australia\n",
      "Name: Nationality, dtype: object\n"
     ]
    }
   ],
   "source": [
    "# Accès à une colonne avec data['NomColonne']\n",
    "col_numbre = best['Number']\n",
    "print(\"Colonne 'Number'\")\n",
    "print(col_numbre)\n",
    "\n",
    "# Accès à une colonne avec data.NomColonne\n",
    "nationality = best.Nationality\n",
    "print(\"colonne 'Nationality'\")\n",
    "print(nationality)"
   ]
  },
  {
   "cell_type": "code",
   "execution_count": 35,
   "id": "e00da12e-0fce-4d6a-b1f3-7d3969f71355",
   "metadata": {
    "tags": []
   },
   "outputs": [
    {
     "name": "stdout",
     "output_type": "stream",
     "text": [
      "Année de naissance de 'Borg' avec loc 1956\n",
      "Année de naissance de 'Borg' avec iloc 1956\n",
      "Trois premières années de naissance\n",
      "Federer    1981\n",
      "Borg       1956\n",
      "Nadal      1986\n",
      "Name: Born, dtype: int64\n"
     ]
    }
   ],
   "source": [
    "#l'année de naissance de 'Borg' avec loc\n",
    "born_borg_loc = best.loc['Borg', 'Born']\n",
    "print(\"Année de naissance de 'Borg' avec loc\", born_borg_loc)\n",
    "\n",
    "#l'année de naissance de 'Borg' avec iloc\n",
    "born_borg_iloc = best.iloc[1, 2]  # 'Borg' est à l'index 1, 'Born' est à l'index 2\n",
    "print(\"Année de naissance de 'Borg' avec iloc\", born_borg_iloc)\n",
    "\n",
    "# Utilisation du slicing pour accéder à plusieurs valeurs (accéder aux trois premières lignes de la colonne 'Born')\n",
    "born_slicing = best['Born'][:3]\n",
    "print(\"Trois premières années de naissance\")\n",
    "print(born_slicing)"
   ]
  },
  {
   "cell_type": "code",
   "execution_count": 36,
   "id": "c9035fa9-f237-49db-acea-5c87e132ab93",
   "metadata": {
    "tags": []
   },
   "outputs": [
    {
     "name": "stdout",
     "output_type": "stream",
     "text": [
      "  FirstName  Number Nationality  Born  LastName\n",
      "0   Federer      20       Swiss  1981   Federer\n",
      "1      Borg      11      Sweden  1956      Borg\n",
      "2     Nadal      21       Spain  1986     Nadal\n",
      "3  Djokovic      20      Serbia  1987  Djokovic\n",
      "4   Emerson      12   Australia  1936   Emerson\n",
      "5   Sampras      14         USA  1971   Sampras\n",
      "6     Laver      11   Australia  1938     Laver\n"
     ]
    }
   ],
   "source": [
    "# Utilisation de la méthode reset_index pour transformer la colonne d'index en une variable\n",
    "best_reset = best.reset_index()\n",
    "# Renommer la colonne d'index en 'FirstName' avec la méthode rename\n",
    "best_reset = best_reset.rename(columns={'index': 'FirstName'})\n",
    "\n",
    "# Ajouter une nouvelle colonne 'LastName' avec les prénoms des joueurs\n",
    "best_reset['LastName'] = best_reset['FirstName']\n",
    "print(best_reset)"
   ]
  },
  {
   "cell_type": "code",
   "execution_count": 40,
   "id": "69b832f0-3c91-4350-9b3e-3590f94aab9f",
   "metadata": {
    "tags": []
   },
   "outputs": [
    {
     "name": "stdout",
     "output_type": "stream",
     "text": [
      "  FirstName  LastName Nationality  Born  Number\n",
      "2     Nadal     Nadal       Spain  1986      21\n",
      "0   Federer   Federer       Swiss  1981      20\n",
      "3  Djokovic  Djokovic      Serbia  1987      20\n",
      "5   Sampras   Sampras         USA  1971      14\n",
      "4   Emerson   Emerson   Australia  1936      12\n",
      "6     Laver     Laver   Australia  1938      11\n",
      "1      Borg      Borg      Sweden  1956      11\n"
     ]
    }
   ],
   "source": [
    "# Réordonner les colonnes avec la méthode reindex\n",
    "ordre_col = ['FirstName', 'LastName', 'Nationality', 'Born', 'Number']\n",
    "best_ordre = best_reset.reindex(columns=ordre_col)\n",
    "\n",
    "# Trie \n",
    "best_trie = best_ordre.sort_values(by=['Number', 'Born'], ascending=[False, True])\n",
    "\n",
    "print(best_trie)"
   ]
  },
  {
   "cell_type": "markdown",
   "id": "7058922f-7ecb-4ca0-b569-fe62795cb3df",
   "metadata": {},
   "source": [
    "## DataFrame(2)"
   ]
  },
  {
   "cell_type": "code",
   "execution_count": 4,
   "id": "6d04b989-4b2d-47f6-a1cd-e0757a37c3a3",
   "metadata": {
    "tags": []
   },
   "outputs": [
    {
     "name": "stdout",
     "output_type": "stream",
     "text": [
      "Observations pour 'Robert'\n",
      "     Unnamed: 0  prénom      nom  un       deux  trois    quatre  cinq\n",
      "97           97  Robert    Glahn   1  67.237793      5  0.214249     1\n",
      "133         133  Robert    Kilby   1  69.271402      7  0.064815     1\n",
      "190         190  Robert    Gomez   2  64.117791     14  0.117251     1\n",
      "213         213  Robert  Huskins   4  83.189470     10  0.364812     1\n",
      "227         227  Robert   Dewing   1  80.166270      6  0.263141     0\n",
      "346         346  Robert   Isbell   1  73.849589     10  0.011041     1\n",
      "374         374  Robert    Cantu   2  68.347178      8  0.119056     0\n",
      "416         416  Robert     Culp   3  70.125220     12  0.392884     0\n",
      "482         482  Robert  Bingham   1  64.560718     11  0.292543     0\n",
      "651         651  Robert     Adam   2  71.101132      9  0.138352     0\n",
      "Observations pour les prénoms dans la liste\n",
      "     Unnamed: 0   prénom        nom  un       deux  trois    quatre  cinq\n",
      "55           55    James     Pruitt   0  70.216139     11  0.295354     1\n",
      "72           72    James   Membreno   4  61.397859     11  0.063491     1\n",
      "125         125    James   Martinez   2  67.160631     10  0.596131     0\n",
      "192         192    Harry    Moulton   3  59.855180      8  0.054549     0\n",
      "199         199  Charles     Devens   3  53.917290      7  0.130705     0\n",
      "209         209    James       Meja   1  82.591211      8  0.082327     0\n",
      "325         325    Maria     Raines   1  71.653615     13  0.028821     0\n",
      "336         336  Charles   Kluesner   3  60.971169     16  0.439862     1\n",
      "352         352  Charles      Drake   3  68.520554      9  0.030359     1\n",
      "390         390    James   Eberhard   4  63.235955     14  0.135909     1\n",
      "415         415    James     Mosley   2  55.992679     11  0.137988     1\n",
      "417         417  Charles     Prieto   3  73.879628     10  0.023479     1\n",
      "422         422    James    Whitney   2  68.733454     10  0.258528     1\n",
      "426         426    James     Bryant   0  54.570915      8  0.049471     0\n",
      "456         456  Melissa      Ashby   2  71.118949      8  0.211761     1\n",
      "464         464  Charles       Hall   0  66.833312     11  0.008313     1\n",
      "478         478    James  Mcclendon   0  72.292908      9  0.294131     1\n",
      "492         492    James      Rossi   0  62.983649     14  0.430700     0\n",
      "495         495    James      Cross   3  76.224644     12  0.005150     1\n",
      "545         545  Melissa    Ballard   0  70.211850     10  0.221856     1\n",
      "578         578    James  Sarracino   1  76.528963     12  0.210808     1\n",
      "622         622    James        Lau   2  88.720592     12  0.391622     1\n",
      "633         633  Charles      Brown   1  83.997303      9  0.269235     0\n",
      "635         635    Julie      Milne   4  81.000292     10  0.004630     1\n",
      "660         660    Julie    Johnson   0  63.343997      9  0.231097     1\n"
     ]
    }
   ],
   "source": [
    "# Fichier CSV\n",
    "data_csv = pd.read_csv('exemple.csv')\n",
    "#fichier Excel\n",
    "data_excel = pd.read_excel('exemple (1).xlsx')\n",
    "\n",
    "# Les observations où le prénom est égal à 'Robert'\n",
    "robert_obs = data_csv[data_csv['prénom'] == 'Robert']\n",
    "print(\"Observations pour 'Robert'\")\n",
    "print(robert_obs)\n",
    "\n",
    "# Les observations où le prénom est dans la liste\n",
    "liste = ['Venetta', 'Charles', 'Julie', 'Carolyn', 'Melissa', 'Heidi', 'James', 'Pedro', 'Harry', 'Maria']\n",
    "obs_liste= data_csv[data_csv['prénom'].isin(liste)]\n",
    "print(\"Observations pour les prénoms dans la liste\")\n",
    "print(obs_liste)"
   ]
  },
  {
   "cell_type": "code",
   "execution_count": 5,
   "id": "3d9d9a49-5870-4ec9-b574-899b5626736e",
   "metadata": {
    "tags": []
   },
   "outputs": [
    {
     "name": "stdout",
     "output_type": "stream",
     "text": [
      "Observations où 'deux' est supérieur à 85\n",
      "     Unnamed: 0    prénom         nom  un        deux  trois    quatre  cinq\n",
      "1             1     Cheri       Smith   1   92.063177      5  0.057861     0\n",
      "14           14     Julia    Lavender   2   87.070375      8  0.195840     1\n",
      "19           19    George      Holder   1   88.183383      9  0.273185     1\n",
      "33           33    Joseph       Ellis   0   88.506203      8  0.171301     0\n",
      "36           36      Joel       Gould   2   85.646373      7  0.033430     1\n",
      "39           39    Debbie       Stein   3   86.104563     11  0.060963     0\n",
      "51           51      Anna       Davis   1   87.399357     12  0.071074     0\n",
      "86           86    Amanda    Hennigan   1   85.033337     12  0.009130     1\n",
      "93           93      John       Elder   3   93.653810     13  0.050714     0\n",
      "119         119   Dierdre      Gorman   2   85.448952     10  0.181905     0\n",
      "122         122      Troy        Ruiz   3   86.753576      9  0.118825     1\n",
      "129         129     Janet       Sieja   1   98.202315      8  0.063269     1\n",
      "132         132     Louis     Crossen   0   89.670587     12  0.256682     0\n",
      "188         188   Suzanne    Gillette   4   87.365755     14  0.225029     0\n",
      "242         242      Jody      Barnes   0   87.331816      8  0.039435     0\n",
      "253         253  Veronica     Francis   2   88.813326     14  0.081805     0\n",
      "261         261     Penny      Coburn   4   85.570476     11  0.315184     1\n",
      "280         280      Dirk        Cade   1   88.005872     11  0.357687     0\n",
      "282         282    Sophie      Zirkle   1   93.557910     10  0.157774     1\n",
      "290         290      Juan      Morgan   4  101.144098     12  0.201942     0\n",
      "300         300    Reuben  Montgomery   2  101.119735     13  0.109228     0\n",
      "303         303      John      Martin   3   90.391362      8  0.070226     0\n",
      "339         339      Jack      Galyen   2   85.454605     12  0.093590     1\n",
      "379         379  Bernardo       Moore   1   85.895360     14  0.092952     1\n",
      "381         381      Jane       Adams   3   89.110056     11  0.276802     0\n",
      "402         402     Helen   Macdonald   2   93.494868     13  0.309640     1\n",
      "421         421     Misty    Williams   1   90.188198     10  0.522502     1\n",
      "433         433     Grace      Thomas   1   85.451062     11  0.000748     0\n",
      "434         434   Adeline         Sou   0   93.378806     11  0.642841     1\n",
      "437         437   William      Mccray   3   85.859912     11  0.248669     1\n",
      "442         442     Roman     Darnell   3   87.316519      8  0.096750     1\n",
      "457         457     Agnes      Prieto   0   87.623111     13  0.612372     0\n",
      "458         458    Carole      Watson   0   86.928085     10  0.039916     1\n",
      "466         466   William        Hall   4   91.741911      9  0.376653     1\n",
      "488         488   Marilyn      Walker   2   90.701086     11  0.028403     0\n",
      "491         491     Sheri    Sprenger   5   85.854963     12  0.744689     1\n",
      "533         533     Betty      Herren   1   87.589319     13  0.026819     0\n",
      "546         546   Brandon    Mccleese   4   91.173692      3  0.010336     0\n",
      "547         547    Jeremy      Dehart   2   85.206085      8  0.055929     1\n",
      "565         565    Howard      Carney   0   91.657414      9  0.057314     1\n",
      "591         591     Donna      Morgan   1   87.939535     13  0.131932     0\n",
      "608         608     Quinn       Smith   1   98.939706     11  0.636649     1\n",
      "622         622     James         Lau   2   88.720592     12  0.391622     1\n",
      "663         663       Ian      Valero   3   88.737951     11  0.105516     1\n"
     ]
    }
   ],
   "source": [
    "#les observations où la valeur de la variable 'deux' est supérieure à 85\n",
    "deux_sup_85= data_csv[data_csv['deux'] > 85]\n",
    "print(\"Observations où 'deux' est supérieur à 85\")\n",
    "print(deux_sup_85)"
   ]
  },
  {
   "cell_type": "code",
   "execution_count": 6,
   "id": "87104a5f-861f-4211-b762-0857c8edee2a",
   "metadata": {
    "tags": []
   },
   "outputs": [
    {
     "name": "stdout",
     "output_type": "stream",
     "text": [
      "Observations où 'cinq' est égal à 1\n",
      "     Unnamed: 0    prénom       nom  un       deux  trois    quatre  cinq\n",
      "3             3   Carlton      Ross   5  74.460673      8  0.879215     1\n",
      "4             4     Sally    Foster   2  76.448339     15  0.164219     1\n",
      "6             6   Shannon  Phillips   2  75.894174     10  0.106176     1\n",
      "7             7       Pat      Loya   3  73.771323      9  0.120294     1\n",
      "8             8     Scott    Hashim   1  71.252320     10  0.761736     1\n",
      "..          ...       ...       ...  ..        ...    ...       ...   ...\n",
      "659         659    Andres    Flores   2  54.820769     12  0.042071     1\n",
      "660         660     Julie   Johnson   0  63.343997      9  0.231097     1\n",
      "662         662  Kathleen    Butler   1  61.669270     12  0.158429     1\n",
      "663         663       Ian    Valero   3  88.737951     11  0.105516     1\n",
      "664         664      Jean  Williams   3  76.741943     10  0.063430     1\n",
      "\n",
      "[347 rows x 8 columns]\n"
     ]
    }
   ],
   "source": [
    "#les observations où la valeur de la variable 'cinq' est égale à 1\n",
    "cinq_egal_1 = data_csv[data_csv['cinq'] == 1]\n",
    "print(\"Observations où 'cinq' est égal à 1\")\n",
    "print(cinq_egal_1)"
   ]
  },
  {
   "cell_type": "code",
   "execution_count": 7,
   "id": "8475298e-1d96-4c78-841e-cf3c2a63b891",
   "metadata": {
    "tags": []
   },
   "outputs": [
    {
     "name": "stdout",
     "output_type": "stream",
     "text": [
      "Observations où 'deux' est supérieur à 85 et 'cinq' est égal à 1\n",
      "     Unnamed: 0    prénom        nom  un       deux  trois    quatre  cinq\n",
      "14           14     Julia   Lavender   2  87.070375      8  0.195840     1\n",
      "19           19    George     Holder   1  88.183383      9  0.273185     1\n",
      "36           36      Joel      Gould   2  85.646373      7  0.033430     1\n",
      "86           86    Amanda   Hennigan   1  85.033337     12  0.009130     1\n",
      "122         122      Troy       Ruiz   3  86.753576      9  0.118825     1\n",
      "129         129     Janet      Sieja   1  98.202315      8  0.063269     1\n",
      "261         261     Penny     Coburn   4  85.570476     11  0.315184     1\n",
      "282         282    Sophie     Zirkle   1  93.557910     10  0.157774     1\n",
      "339         339      Jack     Galyen   2  85.454605     12  0.093590     1\n",
      "379         379  Bernardo      Moore   1  85.895360     14  0.092952     1\n",
      "402         402     Helen  Macdonald   2  93.494868     13  0.309640     1\n",
      "421         421     Misty   Williams   1  90.188198     10  0.522502     1\n",
      "434         434   Adeline        Sou   0  93.378806     11  0.642841     1\n",
      "437         437   William     Mccray   3  85.859912     11  0.248669     1\n",
      "442         442     Roman    Darnell   3  87.316519      8  0.096750     1\n",
      "458         458    Carole     Watson   0  86.928085     10  0.039916     1\n",
      "466         466   William       Hall   4  91.741911      9  0.376653     1\n",
      "491         491     Sheri   Sprenger   5  85.854963     12  0.744689     1\n",
      "547         547    Jeremy     Dehart   2  85.206085      8  0.055929     1\n",
      "565         565    Howard     Carney   0  91.657414      9  0.057314     1\n",
      "608         608     Quinn      Smith   1  98.939706     11  0.636649     1\n",
      "622         622     James        Lau   2  88.720592     12  0.391622     1\n",
      "663         663       Ian     Valero   3  88.737951     11  0.105516     1\n"
     ]
    }
   ],
   "source": [
    "#les observations où la valeur de la variable 'deux' est supérieure à 85\n",
    "# et où la valeur de la variable 'cinq' est égale à 1\n",
    "OBS1 = data_csv[(data_csv['deux'] > 85) & (data_csv['cinq'] == 1)]\n",
    "\n",
    "print(\"Observations où 'deux' est supérieur à 85 et 'cinq' est égal à 1\")\n",
    "print(OBS1)"
   ]
  },
  {
   "cell_type": "code",
   "execution_count": 8,
   "id": "45a293ff-9218-4ac2-adf4-2818cb5ebe9b",
   "metadata": {
    "tags": []
   },
   "outputs": [
    {
     "name": "stdout",
     "output_type": "stream",
     "text": [
      "Observations où 'deux' est supérieur à 85 ou 'cinq' est égal à 1\n",
      "     Unnamed: 0    prénom       nom  un       deux  trois    quatre  cinq\n",
      "1             1     Cheri     Smith   1  92.063177      5  0.057861     0\n",
      "3             3   Carlton      Ross   5  74.460673      8  0.879215     1\n",
      "4             4     Sally    Foster   2  76.448339     15  0.164219     1\n",
      "6             6   Shannon  Phillips   2  75.894174     10  0.106176     1\n",
      "7             7       Pat      Loya   3  73.771323      9  0.120294     1\n",
      "..          ...       ...       ...  ..        ...    ...       ...   ...\n",
      "659         659    Andres    Flores   2  54.820769     12  0.042071     1\n",
      "660         660     Julie   Johnson   0  63.343997      9  0.231097     1\n",
      "662         662  Kathleen    Butler   1  61.669270     12  0.158429     1\n",
      "663         663       Ian    Valero   3  88.737951     11  0.105516     1\n",
      "664         664      Jean  Williams   3  76.741943     10  0.063430     1\n",
      "\n",
      "[368 rows x 8 columns]\n"
     ]
    }
   ],
   "source": [
    "#les observations où la valeur de la variable 'deux' est supérieure à 85\n",
    "# ou où la valeur de la variable 'cinq' est égale à 1\n",
    "OBS2 = data_csv[(data_csv['deux'] > 85) | (data_csv['cinq'] == 1)]\n",
    "print(\"Observations où 'deux' est supérieur à 85 ou 'cinq' est égal à 1\")\n",
    "print(OBS2)"
   ]
  },
  {
   "cell_type": "code",
   "execution_count": 10,
   "id": "6cf7aaf1-eb48-40e5-be55-8973244e19cc",
   "metadata": {
    "tags": []
   },
   "outputs": [
    {
     "name": "stdout",
     "output_type": "stream",
     "text": [
      "Variables 'un', 'trois' et 'quatre'\n",
      "     un  trois    quatre\n",
      "0     4      7  0.653466\n",
      "1     1      5  0.057861\n",
      "2     5     16  0.039183\n",
      "3     5      8  0.879215\n",
      "4     2     15  0.164219\n",
      "..   ..    ...       ...\n",
      "661   3     13  0.077230\n",
      "662   1     12  0.158429\n",
      "663   3     11  0.105516\n",
      "664   3     10  0.063430\n",
      "665   1      9  0.758167\n",
      "\n",
      "[666 rows x 3 columns]\n",
      "Variables 'un', 'trois' et 'quatre' (deux > 85 et cinq == 1):\n",
      "     un  trois    quatre\n",
      "14    2      8  0.195840\n",
      "19    1      9  0.273185\n",
      "36    2      7  0.033430\n",
      "86    1     12  0.009130\n",
      "122   3      9  0.118825\n",
      "129   1      8  0.063269\n",
      "261   4     11  0.315184\n",
      "282   1     10  0.157774\n",
      "339   2     12  0.093590\n",
      "379   1     14  0.092952\n",
      "402   2     13  0.309640\n",
      "421   1     10  0.522502\n",
      "434   0     11  0.642841\n",
      "437   3     11  0.248669\n",
      "442   3      8  0.096750\n",
      "458   0     10  0.039916\n",
      "466   4      9  0.376653\n",
      "491   5     12  0.744689\n",
      "547   2      8  0.055929\n",
      "565   0      9  0.057314\n",
      "608   1     11  0.636649\n",
      "622   2     12  0.391622\n",
      "663   3     11  0.105516\n"
     ]
    }
   ],
   "source": [
    "#les variables 'un', 'trois' et 'quatre' à l'aide d'un double [ ]\n",
    "variables = data_csv[['un', 'trois', 'quatre']]\n",
    "print(\"Variables 'un', 'trois' et 'quatre'\")\n",
    "print(variables)\n",
    "\n",
    "#les variables 'un', 'trois' et 'quatre' des observations où la valeur de 'deux' est supérieure à 85\n",
    "# et la valeur de 'cinq' est égale à 1 en utilisant la méthode loc\n",
    "condition = (data_csv['deux'] > 85) & (data_csv['cinq'] == 1)\n",
    "variables_condition = data_csv.loc[condition, ['un', 'trois', 'quatre']]\n",
    "print(\"Variables 'un', 'trois' et 'quatre' (deux > 85 et cinq == 1):\")\n",
    "print(variables_condition)"
   ]
  },
  {
   "cell_type": "code",
   "execution_count": null,
   "id": "19d5c17a-3e89-489d-81c2-c01a3280df25",
   "metadata": {},
   "outputs": [],
   "source": []
  }
 ],
 "metadata": {
  "kernelspec": {
   "display_name": "Python 3 (ipykernel)",
   "language": "python",
   "name": "python3"
  },
  "language_info": {
   "codemirror_mode": {
    "name": "ipython",
    "version": 3
   },
   "file_extension": ".py",
   "mimetype": "text/x-python",
   "name": "python",
   "nbconvert_exporter": "python",
   "pygments_lexer": "ipython3",
   "version": "3.10.8"
  }
 },
 "nbformat": 4,
 "nbformat_minor": 5
}
