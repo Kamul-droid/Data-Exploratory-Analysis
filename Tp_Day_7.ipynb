{
 "cells": [
  {
   "cell_type": "markdown",
   "id": "1dbcdc98-882f-4e99-847f-02d74b37c2d7",
   "metadata": {},
   "source": [
    "# Analyse multivarié"
   ]
  },
  {
   "cell_type": "markdown",
   "id": "a77a9321-79d5-4cdc-b05b-a52437a2008e",
   "metadata": {},
   "source": [
    "## Install seaborn in current working environment"
   ]
  },
  {
   "cell_type": "markdown",
   "id": "636a1e7e-31ac-4cfc-a8e6-24378be799f7",
   "metadata": {},
   "source": [
    "+ conda install -p D:\\supinfo\\M1\\EDAP\\env seaborn"
   ]
  },
  {
   "cell_type": "markdown",
   "id": "e285e68c-b06c-445b-a20b-a019e9ce03a1",
   "metadata": {},
   "source": [
    "## Libraries import "
   ]
  },
  {
   "cell_type": "code",
   "execution_count": 3,
   "id": "7d48997d-524b-4db8-b2a0-4f656820bd67",
   "metadata": {},
   "outputs": [],
   "source": [
    "import pandas as pd\n",
    "import matplotlib.pyplot as plt\n",
    "import numpy as np\n",
    "import seaborn as sns"
   ]
  },
  {
   "cell_type": "markdown",
   "id": "5868ebc7-5124-48c0-b287-c5ad080fe015",
   "metadata": {},
   "source": [
    "## World CO2 dataset"
   ]
  },
  {
   "cell_type": "code",
   "execution_count": 4,
   "id": "f16d486b-2593-4c1f-b9f9-34046b0be8d9",
   "metadata": {},
   "outputs": [],
   "source": [
    "data = pd.read_excel (\"EDGAR-2020.xlsx\")"
   ]
  },
  {
   "cell_type": "code",
   "execution_count": 5,
   "id": "c75db81c-f28d-428b-a54b-65c5586905ba",
   "metadata": {},
   "outputs": [
    {
     "data": {
      "text/html": [
       "<div>\n",
       "<style scoped>\n",
       "    .dataframe tbody tr th:only-of-type {\n",
       "        vertical-align: middle;\n",
       "    }\n",
       "\n",
       "    .dataframe tbody tr th {\n",
       "        vertical-align: top;\n",
       "    }\n",
       "\n",
       "    .dataframe thead th {\n",
       "        text-align: right;\n",
       "    }\n",
       "</style>\n",
       "<table border=\"1\" class=\"dataframe\">\n",
       "  <thead>\n",
       "    <tr style=\"text-align: right;\">\n",
       "      <th></th>\n",
       "      <th>Sector</th>\n",
       "      <th>Country</th>\n",
       "      <th>1970</th>\n",
       "      <th>1971</th>\n",
       "      <th>1972</th>\n",
       "      <th>1973</th>\n",
       "      <th>1974</th>\n",
       "      <th>1975</th>\n",
       "      <th>1976</th>\n",
       "      <th>1977</th>\n",
       "      <th>...</th>\n",
       "      <th>2011</th>\n",
       "      <th>2012</th>\n",
       "      <th>2013</th>\n",
       "      <th>2014</th>\n",
       "      <th>2015</th>\n",
       "      <th>2016</th>\n",
       "      <th>2017</th>\n",
       "      <th>2018</th>\n",
       "      <th>2019</th>\n",
       "      <th>2020</th>\n",
       "    </tr>\n",
       "  </thead>\n",
       "  <tbody>\n",
       "    <tr>\n",
       "      <th>0</th>\n",
       "      <td>Power Industry</td>\n",
       "      <td>Afghanistan</td>\n",
       "      <td>0.055674</td>\n",
       "      <td>0.055674</td>\n",
       "      <td>0.114251</td>\n",
       "      <td>0.171021</td>\n",
       "      <td>0.202197</td>\n",
       "      <td>0.205992</td>\n",
       "      <td>0.235568</td>\n",
       "      <td>0.367220</td>\n",
       "      <td>...</td>\n",
       "      <td>2.330491</td>\n",
       "      <td>1.831119</td>\n",
       "      <td>1.596841</td>\n",
       "      <td>1.665016</td>\n",
       "      <td>2.593498</td>\n",
       "      <td>2.504713</td>\n",
       "      <td>3.633843</td>\n",
       "      <td>3.738226</td>\n",
       "      <td>6.039542</td>\n",
       "      <td>6.003787</td>\n",
       "    </tr>\n",
       "    <tr>\n",
       "      <th>1</th>\n",
       "      <td>Power Industry</td>\n",
       "      <td>Albania</td>\n",
       "      <td>0.698291</td>\n",
       "      <td>0.698291</td>\n",
       "      <td>0.743364</td>\n",
       "      <td>0.756529</td>\n",
       "      <td>0.763669</td>\n",
       "      <td>0.710070</td>\n",
       "      <td>0.722054</td>\n",
       "      <td>0.718092</td>\n",
       "      <td>...</td>\n",
       "      <td>0.030960</td>\n",
       "      <td>NaN</td>\n",
       "      <td>NaN</td>\n",
       "      <td>NaN</td>\n",
       "      <td>NaN</td>\n",
       "      <td>NaN</td>\n",
       "      <td>NaN</td>\n",
       "      <td>NaN</td>\n",
       "      <td>NaN</td>\n",
       "      <td>NaN</td>\n",
       "    </tr>\n",
       "    <tr>\n",
       "      <th>2</th>\n",
       "      <td>Power Industry</td>\n",
       "      <td>Algeria</td>\n",
       "      <td>1.646111</td>\n",
       "      <td>1.646111</td>\n",
       "      <td>1.550591</td>\n",
       "      <td>1.222271</td>\n",
       "      <td>1.465522</td>\n",
       "      <td>2.112361</td>\n",
       "      <td>2.531350</td>\n",
       "      <td>2.819716</td>\n",
       "      <td>...</td>\n",
       "      <td>28.128661</td>\n",
       "      <td>30.937979</td>\n",
       "      <td>30.102818</td>\n",
       "      <td>32.638835</td>\n",
       "      <td>36.784200</td>\n",
       "      <td>36.171742</td>\n",
       "      <td>37.738717</td>\n",
       "      <td>40.298656</td>\n",
       "      <td>41.902119</td>\n",
       "      <td>39.909258</td>\n",
       "    </tr>\n",
       "    <tr>\n",
       "      <th>3</th>\n",
       "      <td>Power Industry</td>\n",
       "      <td>Angola</td>\n",
       "      <td>0.137546</td>\n",
       "      <td>0.137546</td>\n",
       "      <td>0.159283</td>\n",
       "      <td>0.168752</td>\n",
       "      <td>0.371864</td>\n",
       "      <td>0.352957</td>\n",
       "      <td>0.346584</td>\n",
       "      <td>0.346584</td>\n",
       "      <td>...</td>\n",
       "      <td>2.229655</td>\n",
       "      <td>2.699127</td>\n",
       "      <td>3.993621</td>\n",
       "      <td>5.669692</td>\n",
       "      <td>6.130988</td>\n",
       "      <td>6.312641</td>\n",
       "      <td>5.347401</td>\n",
       "      <td>5.312575</td>\n",
       "      <td>5.085368</td>\n",
       "      <td>4.436610</td>\n",
       "    </tr>\n",
       "    <tr>\n",
       "      <th>4</th>\n",
       "      <td>Power Industry</td>\n",
       "      <td>Anguilla</td>\n",
       "      <td>0.000430</td>\n",
       "      <td>0.000430</td>\n",
       "      <td>0.000436</td>\n",
       "      <td>0.000438</td>\n",
       "      <td>0.000447</td>\n",
       "      <td>0.000480</td>\n",
       "      <td>0.000521</td>\n",
       "      <td>0.000449</td>\n",
       "      <td>...</td>\n",
       "      <td>0.000910</td>\n",
       "      <td>0.000910</td>\n",
       "      <td>0.000978</td>\n",
       "      <td>0.000976</td>\n",
       "      <td>0.000980</td>\n",
       "      <td>0.001018</td>\n",
       "      <td>0.001056</td>\n",
       "      <td>0.001025</td>\n",
       "      <td>0.001033</td>\n",
       "      <td>0.000906</td>\n",
       "    </tr>\n",
       "  </tbody>\n",
       "</table>\n",
       "<p>5 rows × 53 columns</p>\n",
       "</div>"
      ],
      "text/plain": [
       "           Sector      Country      1970      1971      1972      1973  \\\n",
       "0  Power Industry  Afghanistan  0.055674  0.055674  0.114251  0.171021   \n",
       "1  Power Industry      Albania  0.698291  0.698291  0.743364  0.756529   \n",
       "2  Power Industry      Algeria  1.646111  1.646111  1.550591  1.222271   \n",
       "3  Power Industry       Angola  0.137546  0.137546  0.159283  0.168752   \n",
       "4  Power Industry     Anguilla  0.000430  0.000430  0.000436  0.000438   \n",
       "\n",
       "       1974      1975      1976      1977  ...       2011       2012  \\\n",
       "0  0.202197  0.205992  0.235568  0.367220  ...   2.330491   1.831119   \n",
       "1  0.763669  0.710070  0.722054  0.718092  ...   0.030960        NaN   \n",
       "2  1.465522  2.112361  2.531350  2.819716  ...  28.128661  30.937979   \n",
       "3  0.371864  0.352957  0.346584  0.346584  ...   2.229655   2.699127   \n",
       "4  0.000447  0.000480  0.000521  0.000449  ...   0.000910   0.000910   \n",
       "\n",
       "        2013       2014       2015       2016       2017       2018  \\\n",
       "0   1.596841   1.665016   2.593498   2.504713   3.633843   3.738226   \n",
       "1        NaN        NaN        NaN        NaN        NaN        NaN   \n",
       "2  30.102818  32.638835  36.784200  36.171742  37.738717  40.298656   \n",
       "3   3.993621   5.669692   6.130988   6.312641   5.347401   5.312575   \n",
       "4   0.000978   0.000976   0.000980   0.001018   0.001056   0.001025   \n",
       "\n",
       "        2019       2020  \n",
       "0   6.039542   6.003787  \n",
       "1        NaN        NaN  \n",
       "2  41.902119  39.909258  \n",
       "3   5.085368   4.436610  \n",
       "4   0.001033   0.000906  \n",
       "\n",
       "[5 rows x 53 columns]"
      ]
     },
     "execution_count": 5,
     "metadata": {},
     "output_type": "execute_result"
    }
   ],
   "source": [
    "data.head()"
   ]
  },
  {
   "cell_type": "code",
   "execution_count": 6,
   "id": "0c1e9473-606a-41ba-852f-5c72447cd3c3",
   "metadata": {},
   "outputs": [
    {
     "data": {
      "text/plain": [
       "Sector      object\n",
       "Country     object\n",
       "1970       float64\n",
       "1971       float64\n",
       "1972       float64\n",
       "1973       float64\n",
       "1974       float64\n",
       "1975       float64\n",
       "1976       float64\n",
       "1977       float64\n",
       "1978       float64\n",
       "1979       float64\n",
       "1980       float64\n",
       "1981       float64\n",
       "1982       float64\n",
       "1983       float64\n",
       "1984       float64\n",
       "1985       float64\n",
       "1986       float64\n",
       "1987       float64\n",
       "1988       float64\n",
       "1989       float64\n",
       "1990       float64\n",
       "1991       float64\n",
       "1992       float64\n",
       "1993       float64\n",
       "1994       float64\n",
       "1995       float64\n",
       "1996       float64\n",
       "1997       float64\n",
       "1998       float64\n",
       "1999       float64\n",
       "2000       float64\n",
       "2001       float64\n",
       "2002       float64\n",
       "2003       float64\n",
       "2004       float64\n",
       "2005       float64\n",
       "2006       float64\n",
       "2007       float64\n",
       "2008       float64\n",
       "2009       float64\n",
       "2010       float64\n",
       "2011       float64\n",
       "2012       float64\n",
       "2013       float64\n",
       "2014       float64\n",
       "2015       float64\n",
       "2016       float64\n",
       "2017       float64\n",
       "2018       float64\n",
       "2019       float64\n",
       "2020       float64\n",
       "dtype: object"
      ]
     },
     "execution_count": 6,
     "metadata": {},
     "output_type": "execute_result"
    }
   ],
   "source": [
    "data.dtypes"
   ]
  },
  {
   "cell_type": "code",
   "execution_count": 7,
   "id": "c9855c89-d3fe-4290-ac28-a2963eeafebd",
   "metadata": {},
   "outputs": [
    {
     "data": {
      "text/plain": [
       "RangeIndex(start=0, stop=1036, step=1)"
      ]
     },
     "execution_count": 7,
     "metadata": {},
     "output_type": "execute_result"
    }
   ],
   "source": [
    "data.index\n"
   ]
  },
  {
   "cell_type": "code",
   "execution_count": 8,
   "id": "0a325965-b42d-4f75-9580-d8e523c86e1b",
   "metadata": {},
   "outputs": [],
   "source": [
    "tidy_data = data.melt(var_name=\"Year\", id_vars=[\"Sector\",\"Country\"], value_name=\"CO2\",\n",
    "                     )"
   ]
  },
  {
   "cell_type": "code",
   "execution_count": 9,
   "id": "048fde6b-0a39-4e32-888f-cad378ba51aa",
   "metadata": {},
   "outputs": [
    {
     "data": {
      "text/html": [
       "<div>\n",
       "<style scoped>\n",
       "    .dataframe tbody tr th:only-of-type {\n",
       "        vertical-align: middle;\n",
       "    }\n",
       "\n",
       "    .dataframe tbody tr th {\n",
       "        vertical-align: top;\n",
       "    }\n",
       "\n",
       "    .dataframe thead th {\n",
       "        text-align: right;\n",
       "    }\n",
       "</style>\n",
       "<table border=\"1\" class=\"dataframe\">\n",
       "  <thead>\n",
       "    <tr style=\"text-align: right;\">\n",
       "      <th></th>\n",
       "      <th>Sector</th>\n",
       "      <th>Country</th>\n",
       "      <th>Year</th>\n",
       "      <th>CO2</th>\n",
       "    </tr>\n",
       "  </thead>\n",
       "  <tbody>\n",
       "    <tr>\n",
       "      <th>0</th>\n",
       "      <td>Power Industry</td>\n",
       "      <td>Afghanistan</td>\n",
       "      <td>1970</td>\n",
       "      <td>0.055674</td>\n",
       "    </tr>\n",
       "    <tr>\n",
       "      <th>1</th>\n",
       "      <td>Power Industry</td>\n",
       "      <td>Albania</td>\n",
       "      <td>1970</td>\n",
       "      <td>0.698291</td>\n",
       "    </tr>\n",
       "    <tr>\n",
       "      <th>2</th>\n",
       "      <td>Power Industry</td>\n",
       "      <td>Algeria</td>\n",
       "      <td>1970</td>\n",
       "      <td>1.646111</td>\n",
       "    </tr>\n",
       "    <tr>\n",
       "      <th>3</th>\n",
       "      <td>Power Industry</td>\n",
       "      <td>Angola</td>\n",
       "      <td>1970</td>\n",
       "      <td>0.137546</td>\n",
       "    </tr>\n",
       "    <tr>\n",
       "      <th>4</th>\n",
       "      <td>Power Industry</td>\n",
       "      <td>Anguilla</td>\n",
       "      <td>1970</td>\n",
       "      <td>0.000430</td>\n",
       "    </tr>\n",
       "  </tbody>\n",
       "</table>\n",
       "</div>"
      ],
      "text/plain": [
       "           Sector      Country  Year       CO2\n",
       "0  Power Industry  Afghanistan  1970  0.055674\n",
       "1  Power Industry      Albania  1970  0.698291\n",
       "2  Power Industry      Algeria  1970  1.646111\n",
       "3  Power Industry       Angola  1970  0.137546\n",
       "4  Power Industry     Anguilla  1970  0.000430"
      ]
     },
     "execution_count": 9,
     "metadata": {},
     "output_type": "execute_result"
    }
   ],
   "source": [
    "tidy_data.head()\n"
   ]
  },
  {
   "cell_type": "code",
   "execution_count": 29,
   "id": "56e80f15-10a8-40f3-9125-e95426aae5b6",
   "metadata": {},
   "outputs": [
    {
     "data": {
      "text/plain": [
       "Sector       0\n",
       "Country      0\n",
       "Year         0\n",
       "CO2        429\n",
       "dtype: int64"
      ]
     },
     "execution_count": 29,
     "metadata": {},
     "output_type": "execute_result"
    }
   ],
   "source": [
    "tidy_data.isnull().sum()\n"
   ]
  },
  {
   "cell_type": "code",
   "execution_count": 32,
   "id": "27fdccbf-8ab8-459e-bd06-b8f179a8f781",
   "metadata": {},
   "outputs": [],
   "source": [
    "tidy_data.fillna(tidy_data[\"CO2\"].mean(), inplace=True)\n"
   ]
  },
  {
   "cell_type": "code",
   "execution_count": 33,
   "id": "93526af1-4f05-4bfe-b0ed-a650981978a4",
   "metadata": {},
   "outputs": [
    {
     "data": {
      "text/plain": [
       "Sector     0\n",
       "Country    0\n",
       "Year       0\n",
       "CO2        0\n",
       "dtype: int64"
      ]
     },
     "execution_count": 33,
     "metadata": {},
     "output_type": "execute_result"
    }
   ],
   "source": [
    "tidy_data.isnull().sum()\n"
   ]
  },
  {
   "cell_type": "markdown",
   "id": "b39b8498-a4df-43c4-9fec-36bf1eced89b",
   "metadata": {},
   "source": [
    "## Total ouput by country using simple group_by"
   ]
  },
  {
   "cell_type": "code",
   "execution_count": 38,
   "id": "fd4aae66-feaa-47d0-bdba-0eabf3d5f5cc",
   "metadata": {
    "scrolled": true
   },
   "outputs": [
    {
     "data": {
      "text/html": [
       "<div>\n",
       "<style scoped>\n",
       "    .dataframe tbody tr th:only-of-type {\n",
       "        vertical-align: middle;\n",
       "    }\n",
       "\n",
       "    .dataframe tbody tr th {\n",
       "        vertical-align: top;\n",
       "    }\n",
       "\n",
       "    .dataframe thead th {\n",
       "        text-align: right;\n",
       "    }\n",
       "</style>\n",
       "<table border=\"1\" class=\"dataframe\">\n",
       "  <thead>\n",
       "    <tr style=\"text-align: right;\">\n",
       "      <th></th>\n",
       "      <th></th>\n",
       "      <th>Sector</th>\n",
       "      <th>CO2</th>\n",
       "    </tr>\n",
       "    <tr>\n",
       "      <th>Country</th>\n",
       "      <th>Year</th>\n",
       "      <th></th>\n",
       "      <th></th>\n",
       "    </tr>\n",
       "  </thead>\n",
       "  <tbody>\n",
       "    <tr>\n",
       "      <th rowspan=\"5\" valign=\"top\">Afghanistan</th>\n",
       "      <th>1970</th>\n",
       "      <td>Power IndustryBuildingsTransportOther industri...</td>\n",
       "      <td>1.718206</td>\n",
       "    </tr>\n",
       "    <tr>\n",
       "      <th>1971</th>\n",
       "      <td>Power IndustryBuildingsTransportOther industri...</td>\n",
       "      <td>1.716487</td>\n",
       "    </tr>\n",
       "    <tr>\n",
       "      <th>1972</th>\n",
       "      <td>Power IndustryBuildingsTransportOther industri...</td>\n",
       "      <td>1.712408</td>\n",
       "    </tr>\n",
       "    <tr>\n",
       "      <th>1973</th>\n",
       "      <td>Power IndustryBuildingsTransportOther industri...</td>\n",
       "      <td>1.710739</td>\n",
       "    </tr>\n",
       "    <tr>\n",
       "      <th>1974</th>\n",
       "      <td>Power IndustryBuildingsTransportOther industri...</td>\n",
       "      <td>2.170061</td>\n",
       "    </tr>\n",
       "  </tbody>\n",
       "</table>\n",
       "</div>"
      ],
      "text/plain": [
       "                                                             Sector       CO2\n",
       "Country     Year                                                             \n",
       "Afghanistan 1970  Power IndustryBuildingsTransportOther industri...  1.718206\n",
       "            1971  Power IndustryBuildingsTransportOther industri...  1.716487\n",
       "            1972  Power IndustryBuildingsTransportOther industri...  1.712408\n",
       "            1973  Power IndustryBuildingsTransportOther industri...  1.710739\n",
       "            1974  Power IndustryBuildingsTransportOther industri...  2.170061"
      ]
     },
     "execution_count": 38,
     "metadata": {},
     "output_type": "execute_result"
    }
   ],
   "source": [
    "ouput_by_country_s = tidy_data.groupby([\"Country\",\"Year\"]).sum()\n",
    "ouput_by_country_s.head()"
   ]
  },
  {
   "cell_type": "markdown",
   "id": "22966e28-cb64-41b3-b3a6-3ee7db6187a8",
   "metadata": {},
   "source": [
    "## Output by country using reset_index\n",
    "  "
   ]
  },
  {
   "cell_type": "code",
   "execution_count": 39,
   "id": "eb3b77f3-f666-49d6-bf51-a9cbe1a82116",
   "metadata": {
    "scrolled": true
   },
   "outputs": [
    {
     "data": {
      "text/html": [
       "<div>\n",
       "<style scoped>\n",
       "    .dataframe tbody tr th:only-of-type {\n",
       "        vertical-align: middle;\n",
       "    }\n",
       "\n",
       "    .dataframe tbody tr th {\n",
       "        vertical-align: top;\n",
       "    }\n",
       "\n",
       "    .dataframe thead th {\n",
       "        text-align: right;\n",
       "    }\n",
       "</style>\n",
       "<table border=\"1\" class=\"dataframe\">\n",
       "  <thead>\n",
       "    <tr style=\"text-align: right;\">\n",
       "      <th></th>\n",
       "      <th>Country</th>\n",
       "      <th>Year</th>\n",
       "      <th>Sector</th>\n",
       "      <th>CO2</th>\n",
       "    </tr>\n",
       "  </thead>\n",
       "  <tbody>\n",
       "    <tr>\n",
       "      <th>0</th>\n",
       "      <td>Afghanistan</td>\n",
       "      <td>1970</td>\n",
       "      <td>Power IndustryBuildingsTransportOther industri...</td>\n",
       "      <td>1.718206</td>\n",
       "    </tr>\n",
       "    <tr>\n",
       "      <th>1</th>\n",
       "      <td>Afghanistan</td>\n",
       "      <td>1971</td>\n",
       "      <td>Power IndustryBuildingsTransportOther industri...</td>\n",
       "      <td>1.716487</td>\n",
       "    </tr>\n",
       "    <tr>\n",
       "      <th>2</th>\n",
       "      <td>Afghanistan</td>\n",
       "      <td>1972</td>\n",
       "      <td>Power IndustryBuildingsTransportOther industri...</td>\n",
       "      <td>1.712408</td>\n",
       "    </tr>\n",
       "    <tr>\n",
       "      <th>3</th>\n",
       "      <td>Afghanistan</td>\n",
       "      <td>1973</td>\n",
       "      <td>Power IndustryBuildingsTransportOther industri...</td>\n",
       "      <td>1.710739</td>\n",
       "    </tr>\n",
       "    <tr>\n",
       "      <th>4</th>\n",
       "      <td>Afghanistan</td>\n",
       "      <td>1974</td>\n",
       "      <td>Power IndustryBuildingsTransportOther industri...</td>\n",
       "      <td>2.170061</td>\n",
       "    </tr>\n",
       "  </tbody>\n",
       "</table>\n",
       "</div>"
      ],
      "text/plain": [
       "       Country  Year                                             Sector  \\\n",
       "0  Afghanistan  1970  Power IndustryBuildingsTransportOther industri...   \n",
       "1  Afghanistan  1971  Power IndustryBuildingsTransportOther industri...   \n",
       "2  Afghanistan  1972  Power IndustryBuildingsTransportOther industri...   \n",
       "3  Afghanistan  1973  Power IndustryBuildingsTransportOther industri...   \n",
       "4  Afghanistan  1974  Power IndustryBuildingsTransportOther industri...   \n",
       "\n",
       "        CO2  \n",
       "0  1.718206  \n",
       "1  1.716487  \n",
       "2  1.712408  \n",
       "3  1.710739  \n",
       "4  2.170061  "
      ]
     },
     "execution_count": 39,
     "metadata": {},
     "output_type": "execute_result"
    }
   ],
   "source": [
    "ouput_by_country_r = tidy_data.groupby([\"Country\",\"Year\"]).sum().reset_index()\n",
    "ouput_by_country_r.head()"
   ]
  },
  {
   "cell_type": "markdown",
   "id": "aaaa5d9e-7d08-4d13-81a3-cda99246dde0",
   "metadata": {},
   "source": [
    "## Output getting relevant information"
   ]
  },
  {
   "cell_type": "code",
   "execution_count": 41,
   "id": "be3098bf-bd27-4715-aabb-6f02980e8d6c",
   "metadata": {
    "scrolled": true
   },
   "outputs": [
    {
     "data": {
      "text/html": [
       "<div>\n",
       "<style scoped>\n",
       "    .dataframe tbody tr th:only-of-type {\n",
       "        vertical-align: middle;\n",
       "    }\n",
       "\n",
       "    .dataframe tbody tr th {\n",
       "        vertical-align: top;\n",
       "    }\n",
       "\n",
       "    .dataframe thead th {\n",
       "        text-align: right;\n",
       "    }\n",
       "</style>\n",
       "<table border=\"1\" class=\"dataframe\">\n",
       "  <thead>\n",
       "    <tr style=\"text-align: right;\">\n",
       "      <th></th>\n",
       "      <th>Country</th>\n",
       "      <th>Year</th>\n",
       "      <th>CO2</th>\n",
       "    </tr>\n",
       "  </thead>\n",
       "  <tbody>\n",
       "    <tr>\n",
       "      <th>0</th>\n",
       "      <td>Afghanistan</td>\n",
       "      <td>1970</td>\n",
       "      <td>1.718206</td>\n",
       "    </tr>\n",
       "    <tr>\n",
       "      <th>1</th>\n",
       "      <td>Afghanistan</td>\n",
       "      <td>1971</td>\n",
       "      <td>1.716487</td>\n",
       "    </tr>\n",
       "    <tr>\n",
       "      <th>2</th>\n",
       "      <td>Afghanistan</td>\n",
       "      <td>1972</td>\n",
       "      <td>1.712408</td>\n",
       "    </tr>\n",
       "    <tr>\n",
       "      <th>3</th>\n",
       "      <td>Afghanistan</td>\n",
       "      <td>1973</td>\n",
       "      <td>1.710739</td>\n",
       "    </tr>\n",
       "    <tr>\n",
       "      <th>4</th>\n",
       "      <td>Afghanistan</td>\n",
       "      <td>1974</td>\n",
       "      <td>2.170061</td>\n",
       "    </tr>\n",
       "  </tbody>\n",
       "</table>\n",
       "</div>"
      ],
      "text/plain": [
       "       Country  Year       CO2\n",
       "0  Afghanistan  1970  1.718206\n",
       "1  Afghanistan  1971  1.716487\n",
       "2  Afghanistan  1972  1.712408\n",
       "3  Afghanistan  1973  1.710739\n",
       "4  Afghanistan  1974  2.170061"
      ]
     },
     "execution_count": 41,
     "metadata": {},
     "output_type": "execute_result"
    }
   ],
   "source": [
    "ouput_by_country = tidy_data.groupby([\"Country\",\"Year\"])[\"CO2\"].sum().reset_index()\n",
    "ouput_by_country.head()"
   ]
  },
  {
   "cell_type": "markdown",
   "id": "9d5082fd-b4a4-4e4f-ac9f-88f28430fda8",
   "metadata": {},
   "source": [
    "+ Output "
   ]
  },
  {
   "cell_type": "code",
   "execution_count": 40,
   "id": "685df6d5-4d54-437a-99cf-5d62b02be8da",
   "metadata": {},
   "outputs": [
    {
     "data": {
      "text/html": [
       "<div>\n",
       "<style scoped>\n",
       "    .dataframe tbody tr th:only-of-type {\n",
       "        vertical-align: middle;\n",
       "    }\n",
       "\n",
       "    .dataframe tbody tr th {\n",
       "        vertical-align: top;\n",
       "    }\n",
       "\n",
       "    .dataframe thead th {\n",
       "        text-align: right;\n",
       "    }\n",
       "</style>\n",
       "<table border=\"1\" class=\"dataframe\">\n",
       "  <thead>\n",
       "    <tr style=\"text-align: right;\">\n",
       "      <th></th>\n",
       "      <th>Sector</th>\n",
       "      <th>Year</th>\n",
       "      <th>Country</th>\n",
       "      <th>CO2</th>\n",
       "    </tr>\n",
       "  </thead>\n",
       "  <tbody>\n",
       "    <tr>\n",
       "      <th>0</th>\n",
       "      <td>Buildings</td>\n",
       "      <td>1970</td>\n",
       "      <td>AfghanistanAlbaniaAlgeriaAngolaAnguillaAntigua...</td>\n",
       "      <td>3026.825810</td>\n",
       "    </tr>\n",
       "    <tr>\n",
       "      <th>1</th>\n",
       "      <td>Buildings</td>\n",
       "      <td>1971</td>\n",
       "      <td>AfghanistanAlbaniaAlgeriaAngolaAnguillaAntigua...</td>\n",
       "      <td>3039.938325</td>\n",
       "    </tr>\n",
       "    <tr>\n",
       "      <th>2</th>\n",
       "      <td>Buildings</td>\n",
       "      <td>1972</td>\n",
       "      <td>AfghanistanAlbaniaAlgeriaAngolaAnguillaAntigua...</td>\n",
       "      <td>3160.158054</td>\n",
       "    </tr>\n",
       "    <tr>\n",
       "      <th>3</th>\n",
       "      <td>Buildings</td>\n",
       "      <td>1973</td>\n",
       "      <td>AfghanistanAlbaniaAlgeriaAngolaAnguillaAntigua...</td>\n",
       "      <td>3196.876475</td>\n",
       "    </tr>\n",
       "    <tr>\n",
       "      <th>4</th>\n",
       "      <td>Buildings</td>\n",
       "      <td>1974</td>\n",
       "      <td>AfghanistanAlbaniaAlgeriaAngolaAnguillaAntigua...</td>\n",
       "      <td>3114.381572</td>\n",
       "    </tr>\n",
       "  </tbody>\n",
       "</table>\n",
       "</div>"
      ],
      "text/plain": [
       "      Sector  Year                                            Country  \\\n",
       "0  Buildings  1970  AfghanistanAlbaniaAlgeriaAngolaAnguillaAntigua...   \n",
       "1  Buildings  1971  AfghanistanAlbaniaAlgeriaAngolaAnguillaAntigua...   \n",
       "2  Buildings  1972  AfghanistanAlbaniaAlgeriaAngolaAnguillaAntigua...   \n",
       "3  Buildings  1973  AfghanistanAlbaniaAlgeriaAngolaAnguillaAntigua...   \n",
       "4  Buildings  1974  AfghanistanAlbaniaAlgeriaAngolaAnguillaAntigua...   \n",
       "\n",
       "           CO2  \n",
       "0  3026.825810  \n",
       "1  3039.938325  \n",
       "2  3160.158054  \n",
       "3  3196.876475  \n",
       "4  3114.381572  "
      ]
     },
     "execution_count": 40,
     "metadata": {},
     "output_type": "execute_result"
    }
   ],
   "source": [
    "ouput_by_sector = tidy_data.groupby([\"Sector\",\"Year\"]).sum().reset_index()\n",
    "ouput_by_sector.head()"
   ]
  },
  {
   "cell_type": "code",
   "execution_count": 48,
   "id": "46b95a88-b3ca-4011-b4a8-861e9396d9eb",
   "metadata": {},
   "outputs": [
    {
     "data": {
      "text/html": [
       "<div>\n",
       "<style scoped>\n",
       "    .dataframe tbody tr th:only-of-type {\n",
       "        vertical-align: middle;\n",
       "    }\n",
       "\n",
       "    .dataframe tbody tr th {\n",
       "        vertical-align: top;\n",
       "    }\n",
       "\n",
       "    .dataframe thead th {\n",
       "        text-align: right;\n",
       "    }\n",
       "</style>\n",
       "<table border=\"1\" class=\"dataframe\">\n",
       "  <thead>\n",
       "    <tr style=\"text-align: right;\">\n",
       "      <th></th>\n",
       "      <th>Sector</th>\n",
       "      <th>Year</th>\n",
       "      <th>CO2</th>\n",
       "    </tr>\n",
       "  </thead>\n",
       "  <tbody>\n",
       "    <tr>\n",
       "      <th>0</th>\n",
       "      <td>Buildings</td>\n",
       "      <td>1970</td>\n",
       "      <td>3026.825810</td>\n",
       "    </tr>\n",
       "    <tr>\n",
       "      <th>1</th>\n",
       "      <td>Buildings</td>\n",
       "      <td>1971</td>\n",
       "      <td>3039.938325</td>\n",
       "    </tr>\n",
       "    <tr>\n",
       "      <th>2</th>\n",
       "      <td>Buildings</td>\n",
       "      <td>1972</td>\n",
       "      <td>3160.158054</td>\n",
       "    </tr>\n",
       "    <tr>\n",
       "      <th>3</th>\n",
       "      <td>Buildings</td>\n",
       "      <td>1973</td>\n",
       "      <td>3196.876475</td>\n",
       "    </tr>\n",
       "    <tr>\n",
       "      <th>4</th>\n",
       "      <td>Buildings</td>\n",
       "      <td>1974</td>\n",
       "      <td>3114.381572</td>\n",
       "    </tr>\n",
       "  </tbody>\n",
       "</table>\n",
       "</div>"
      ],
      "text/plain": [
       "      Sector  Year          CO2\n",
       "0  Buildings  1970  3026.825810\n",
       "1  Buildings  1971  3039.938325\n",
       "2  Buildings  1972  3160.158054\n",
       "3  Buildings  1973  3196.876475\n",
       "4  Buildings  1974  3114.381572"
      ]
     },
     "execution_count": 48,
     "metadata": {},
     "output_type": "execute_result"
    }
   ],
   "source": [
    "ouput_by_sector = tidy_data.groupby([\"Sector\",\"Year\"])[\"CO2\"].sum().reset_index()\n",
    "ouput_by_sector.head()"
   ]
  },
  {
   "cell_type": "code",
   "execution_count": 49,
   "id": "1fa475e7-0198-4ab1-93ca-b5c199227762",
   "metadata": {},
   "outputs": [
    {
     "data": {
      "text/html": [
       "<div>\n",
       "<style scoped>\n",
       "    .dataframe tbody tr th:only-of-type {\n",
       "        vertical-align: middle;\n",
       "    }\n",
       "\n",
       "    .dataframe tbody tr th {\n",
       "        vertical-align: top;\n",
       "    }\n",
       "\n",
       "    .dataframe thead th {\n",
       "        text-align: right;\n",
       "    }\n",
       "</style>\n",
       "<table border=\"1\" class=\"dataframe\">\n",
       "  <thead>\n",
       "    <tr style=\"text-align: right;\">\n",
       "      <th></th>\n",
       "      <th>Year</th>\n",
       "      <th>CO2</th>\n",
       "    </tr>\n",
       "  </thead>\n",
       "  <tbody>\n",
       "    <tr>\n",
       "      <th>0</th>\n",
       "      <td>1970</td>\n",
       "      <td>16280.414455</td>\n",
       "    </tr>\n",
       "    <tr>\n",
       "      <th>1</th>\n",
       "      <td>1971</td>\n",
       "      <td>16233.927604</td>\n",
       "    </tr>\n",
       "    <tr>\n",
       "      <th>2</th>\n",
       "      <td>1972</td>\n",
       "      <td>17037.074637</td>\n",
       "    </tr>\n",
       "    <tr>\n",
       "      <th>3</th>\n",
       "      <td>1973</td>\n",
       "      <td>17939.949352</td>\n",
       "    </tr>\n",
       "    <tr>\n",
       "      <th>4</th>\n",
       "      <td>1974</td>\n",
       "      <td>17909.096057</td>\n",
       "    </tr>\n",
       "  </tbody>\n",
       "</table>\n",
       "</div>"
      ],
      "text/plain": [
       "   Year           CO2\n",
       "0  1970  16280.414455\n",
       "1  1971  16233.927604\n",
       "2  1972  17037.074637\n",
       "3  1973  17939.949352\n",
       "4  1974  17909.096057"
      ]
     },
     "execution_count": 49,
     "metadata": {},
     "output_type": "execute_result"
    }
   ],
   "source": [
    "ouput_by_year = tidy_data.groupby([\"Year\"])[\"CO2\"].sum().reset_index()\n",
    "ouput_by_year.head()"
   ]
  },
  {
   "cell_type": "code",
   "execution_count": 50,
   "id": "5d2a4aaa-85f3-4b7c-b68a-294cec2ce80e",
   "metadata": {},
   "outputs": [
    {
     "data": {
      "text/html": [
       "<div>\n",
       "<style scoped>\n",
       "    .dataframe tbody tr th:only-of-type {\n",
       "        vertical-align: middle;\n",
       "    }\n",
       "\n",
       "    .dataframe tbody tr th {\n",
       "        vertical-align: top;\n",
       "    }\n",
       "\n",
       "    .dataframe thead th {\n",
       "        text-align: right;\n",
       "    }\n",
       "</style>\n",
       "<table border=\"1\" class=\"dataframe\">\n",
       "  <thead>\n",
       "    <tr style=\"text-align: right;\">\n",
       "      <th></th>\n",
       "      <th>Sector</th>\n",
       "      <th>CO2</th>\n",
       "    </tr>\n",
       "  </thead>\n",
       "  <tbody>\n",
       "    <tr>\n",
       "      <th>0</th>\n",
       "      <td>Buildings</td>\n",
       "      <td>167845.724625</td>\n",
       "    </tr>\n",
       "    <tr>\n",
       "      <th>1</th>\n",
       "      <td>Other industrial combustion</td>\n",
       "      <td>298553.178886</td>\n",
       "    </tr>\n",
       "    <tr>\n",
       "      <th>2</th>\n",
       "      <td>Other sectors</td>\n",
       "      <td>139991.654449</td>\n",
       "    </tr>\n",
       "    <tr>\n",
       "      <th>3</th>\n",
       "      <td>Power Industry</td>\n",
       "      <td>447465.584616</td>\n",
       "    </tr>\n",
       "    <tr>\n",
       "      <th>4</th>\n",
       "      <td>Transport</td>\n",
       "      <td>270615.332953</td>\n",
       "    </tr>\n",
       "  </tbody>\n",
       "</table>\n",
       "</div>"
      ],
      "text/plain": [
       "                        Sector            CO2\n",
       "0                    Buildings  167845.724625\n",
       "1  Other industrial combustion  298553.178886\n",
       "2                Other sectors  139991.654449\n",
       "3               Power Industry  447465.584616\n",
       "4                    Transport  270615.332953"
      ]
     },
     "execution_count": 50,
     "metadata": {},
     "output_type": "execute_result"
    }
   ],
   "source": [
    "ouput_by_sector_all_country = tidy_data.groupby([\"Sector\"])[\"CO2\"].sum().reset_index()\n",
    "ouput_by_sector_all_country.head()"
   ]
  },
  {
   "cell_type": "code",
   "execution_count": 51,
   "id": "ffc5fb97-d07d-4c81-bb7f-55ac7f804892",
   "metadata": {},
   "outputs": [
    {
     "data": {
      "text/html": [
       "<div>\n",
       "<style scoped>\n",
       "    .dataframe tbody tr th:only-of-type {\n",
       "        vertical-align: middle;\n",
       "    }\n",
       "\n",
       "    .dataframe tbody tr th {\n",
       "        vertical-align: top;\n",
       "    }\n",
       "\n",
       "    .dataframe thead th {\n",
       "        text-align: right;\n",
       "    }\n",
       "</style>\n",
       "<table border=\"1\" class=\"dataframe\">\n",
       "  <thead>\n",
       "    <tr style=\"text-align: right;\">\n",
       "      <th></th>\n",
       "      <th>Country</th>\n",
       "      <th>CO2</th>\n",
       "    </tr>\n",
       "  </thead>\n",
       "  <tbody>\n",
       "    <tr>\n",
       "      <th>0</th>\n",
       "      <td>Afghanistan</td>\n",
       "      <td>183.345100</td>\n",
       "    </tr>\n",
       "    <tr>\n",
       "      <th>1</th>\n",
       "      <td>Albania</td>\n",
       "      <td>512.141706</td>\n",
       "    </tr>\n",
       "    <tr>\n",
       "      <th>2</th>\n",
       "      <td>Algeria</td>\n",
       "      <td>4454.510218</td>\n",
       "    </tr>\n",
       "    <tr>\n",
       "      <th>3</th>\n",
       "      <td>Angola</td>\n",
       "      <td>863.218442</td>\n",
       "    </tr>\n",
       "    <tr>\n",
       "      <th>4</th>\n",
       "      <td>Anguilla</td>\n",
       "      <td>0.635722</td>\n",
       "    </tr>\n",
       "  </tbody>\n",
       "</table>\n",
       "</div>"
      ],
      "text/plain": [
       "       Country          CO2\n",
       "0  Afghanistan   183.345100\n",
       "1      Albania   512.141706\n",
       "2      Algeria  4454.510218\n",
       "3       Angola   863.218442\n",
       "4     Anguilla     0.635722"
      ]
     },
     "execution_count": 51,
     "metadata": {},
     "output_type": "execute_result"
    }
   ],
   "source": [
    "ouput_for_all_country_by_all_sector = tidy_data.groupby([\"Country\"])[\"CO2\"].sum().reset_index()\n",
    "ouput_for_all_country_by_all_sector.head()"
   ]
  },
  {
   "cell_type": "markdown",
   "id": "9668b622-91c0-4173-aff8-72322f13c494",
   "metadata": {},
   "source": [
    "+ Nuage de point"
   ]
  },
  {
   "cell_type": "code",
   "execution_count": 58,
   "id": "6e1958a3-733e-47cf-b8d9-a1d3065d0cb1",
   "metadata": {},
   "outputs": [
    {
     "data": {
      "image/png": "[encoded data removed]",
      "text/plain": [
       "<Figure size 1200x800 with 1 Axes>"
      ]
     },
     "metadata": {},
     "output_type": "display_data"
    }
   ],
   "source": [
    "df = tidy_data.groupby([\"Sector\",\"Year\"])[\"CO2\"].sum().reset_index()\n",
    "secteurs = df['Sector'].unique()\n",
    "\n",
    "# Création d'une figure pour les tracés\n",
    "plt.figure(figsize=(12, 8))\n",
    "\n",
    "# Boucle sur chaque secteur\n",
    "for secteur in secteurs:\n",
    "    # Filtrage des données pour le secteur actuel\n",
    "    data_secteur = df[df['Sector'] == secteur]\n",
    "    \n",
    "    # Représentation par nuage de points\n",
    "    plt.scatter(data_secteur['Year'], data_secteur['CO2'], label=secteur)\n",
    "    \n",
    "    # Représentation par line plot\n",
    "    plt.plot(data_secteur['Year'], data_secteur['CO2'], label=secteur + ' (line plot)', linestyle='--')\n",
    "\n",
    "# Paramètres de la figure\n",
    "plt.title('Évolution des émissions par secteur d\\'activité')\n",
    "plt.xlabel('Année')\n",
    "plt.ylabel('Émissions de CO2')\n",
    "plt.legend()\n",
    "plt.grid(True)\n",
    "plt.show()"
   ]
  },
  {
   "cell_type": "code",
   "execution_count": null,
   "id": "5542b0ce-43c7-499c-9c3c-533ff5338440",
   "metadata": {},
   "outputs": [],
   "source": []
  },
  {
   "cell_type": "code",
   "execution_count": null,
   "id": "cd1be5bf-3b7e-4ae8-85c5-553914f8dfd1",
   "metadata": {},
   "outputs": [],
   "source": []
  }
 ],
 "metadata": {
  "kernelspec": {
   "display_name": "Python 3 (ipykernel)",
   "language": "python",
   "name": "python3"
  },
  "language_info": {
   "codemirror_mode": {
    "name": "ipython",
    "version": 3
   },
   "file_extension": ".py",
   "mimetype": "text/x-python",
   "name": "python",
   "nbconvert_exporter": "python",
   "pygments_lexer": "ipython3",
   "version": "3.11.8"
  },
  "widgets": {
   "application/vnd.jupyter.widget-state+json": {
    "state": {},
    "version_major": 2,
    "version_minor": 0
   }
  }
 },
 "nbformat": 4,
 "nbformat_minor": 5
}
